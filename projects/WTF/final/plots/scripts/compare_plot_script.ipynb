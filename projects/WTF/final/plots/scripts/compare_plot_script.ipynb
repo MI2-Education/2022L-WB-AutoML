{
 "cells": [
  {
   "cell_type": "code",
   "execution_count": 1,
   "id": "d1003ab4",
   "metadata": {},
   "outputs": [],
   "source": [
    "import pandas as pd\n",
    "from matplotlib import pyplot as plt\n",
    "import numpy as np\n",
    "import seaborn as sns"
   ]
  },
  {
   "cell_type": "code",
   "execution_count": 2,
   "id": "d8da3a97",
   "metadata": {},
   "outputs": [],
   "source": [
    "df = pd.read_csv('compare_automl.csv')"
   ]
  },
  {
   "cell_type": "code",
   "execution_count": 3,
   "id": "b4ad2dac",
   "metadata": {},
   "outputs": [],
   "source": [
    "cols = df.columns[1:]"
   ]
  },
  {
   "cell_type": "code",
   "execution_count": 4,
   "id": "ed44a87b",
   "metadata": {},
   "outputs": [
    {
     "data": {
      "text/plain": [
       "Index(['autosklearn', 'autoweka', 'constantpredictor', 'h2oautoml',\n",
       "       'randomforest', 'tpot', 'tunedrandomforest', 'Auto-PyTorch'],\n",
       "      dtype='object')"
      ]
     },
     "execution_count": 4,
     "metadata": {},
     "output_type": "execute_result"
    }
   ],
   "source": [
    "cols"
   ]
  },
  {
   "cell_type": "code",
   "execution_count": 5,
   "id": "ed669902",
   "metadata": {},
   "outputs": [],
   "source": [
    "c = ['#1b9e77',\n",
    "'#d95f02',\n",
    "'black' ,\n",
    "'#7570b3',\n",
    "'#e7298a',\n",
    "'#66a61e',\n",
    "'#e6ab02',\n",
    "'#a6761d']"
   ]
  },
  {
   "cell_type": "code",
   "execution_count": 8,
   "id": "f1828d51",
   "metadata": {},
   "outputs": [],
   "source": [
    "df = df.replace({'0.790757 (6)' : '0.790757', '0.84251 (1)' : '0.84251', '0.818407 (1)':'0.818407'})"
   ]
  },
  {
   "cell_type": "code",
   "execution_count": 9,
   "id": "21dd8108",
   "metadata": {},
   "outputs": [],
   "source": [
    "df = df.fillna(0.5)"
   ]
  },
  {
   "cell_type": "code",
   "execution_count": 10,
   "id": "5eca8ae5",
   "metadata": {},
   "outputs": [],
   "source": [
    "df['autosklearn'] = df['autosklearn'].astype(float)"
   ]
  },
  {
   "cell_type": "code",
   "execution_count": 11,
   "id": "7099f861",
   "metadata": {},
   "outputs": [],
   "source": [
    "df['tpot'] = df['tpot'].astype(float)\n",
    "df['autoweka'] = df['autoweka'].astype(float)"
   ]
  },
  {
   "cell_type": "code",
   "execution_count": 12,
   "id": "7028e06c",
   "metadata": {},
   "outputs": [
    {
     "data": {
      "text/html": [
       "<div>\n",
       "<style scoped>\n",
       "    .dataframe tbody tr th:only-of-type {\n",
       "        vertical-align: middle;\n",
       "    }\n",
       "\n",
       "    .dataframe tbody tr th {\n",
       "        vertical-align: top;\n",
       "    }\n",
       "\n",
       "    .dataframe thead th {\n",
       "        text-align: right;\n",
       "    }\n",
       "</style>\n",
       "<table border=\"1\" class=\"dataframe\">\n",
       "  <thead>\n",
       "    <tr style=\"text-align: right;\">\n",
       "      <th></th>\n",
       "      <th>task</th>\n",
       "      <th>autosklearn</th>\n",
       "      <th>autoweka</th>\n",
       "      <th>constantpredictor</th>\n",
       "      <th>h2oautoml</th>\n",
       "      <th>randomforest</th>\n",
       "      <th>tpot</th>\n",
       "      <th>tunedrandomforest</th>\n",
       "      <th>Auto-PyTorch</th>\n",
       "    </tr>\n",
       "  </thead>\n",
       "  <tbody>\n",
       "    <tr>\n",
       "      <th>0</th>\n",
       "      <td>amazon_employee_access</td>\n",
       "      <td>0.855949</td>\n",
       "      <td>0.809032</td>\n",
       "      <td>0.5</td>\n",
       "      <td>0.879249</td>\n",
       "      <td>0.864145</td>\n",
       "      <td>0.869550</td>\n",
       "      <td>0.862834</td>\n",
       "      <td>0.848398</td>\n",
       "    </tr>\n",
       "    <tr>\n",
       "      <th>1</th>\n",
       "      <td>apsfailure</td>\n",
       "      <td>0.991173</td>\n",
       "      <td>0.964659</td>\n",
       "      <td>0.5</td>\n",
       "      <td>0.992338</td>\n",
       "      <td>0.991212</td>\n",
       "      <td>0.990257</td>\n",
       "      <td>0.990772</td>\n",
       "      <td>0.991576</td>\n",
       "    </tr>\n",
       "    <tr>\n",
       "      <th>2</th>\n",
       "      <td>australian</td>\n",
       "      <td>0.935352</td>\n",
       "      <td>0.929447</td>\n",
       "      <td>0.5</td>\n",
       "      <td>0.939702</td>\n",
       "      <td>0.936597</td>\n",
       "      <td>0.931933</td>\n",
       "      <td>0.933904</td>\n",
       "      <td>0.934074</td>\n",
       "    </tr>\n",
       "    <tr>\n",
       "      <th>3</th>\n",
       "      <td>bank-marketing</td>\n",
       "      <td>0.937332</td>\n",
       "      <td>0.826706</td>\n",
       "      <td>0.5</td>\n",
       "      <td>0.937070</td>\n",
       "      <td>0.930829</td>\n",
       "      <td>0.933684</td>\n",
       "      <td>0.930685</td>\n",
       "      <td>0.936074</td>\n",
       "    </tr>\n",
       "    <tr>\n",
       "      <th>4</th>\n",
       "      <td>blood-transfusion</td>\n",
       "      <td>0.757376</td>\n",
       "      <td>0.740807</td>\n",
       "      <td>0.5</td>\n",
       "      <td>0.756301</td>\n",
       "      <td>0.686283</td>\n",
       "      <td>0.724372</td>\n",
       "      <td>0.688562</td>\n",
       "      <td>0.744596</td>\n",
       "    </tr>\n",
       "    <tr>\n",
       "      <th>5</th>\n",
       "      <td>christine</td>\n",
       "      <td>0.829747</td>\n",
       "      <td>0.801988</td>\n",
       "      <td>0.5</td>\n",
       "      <td>0.825998</td>\n",
       "      <td>0.805780</td>\n",
       "      <td>0.813402</td>\n",
       "      <td>0.809603</td>\n",
       "      <td>0.800205</td>\n",
       "    </tr>\n",
       "    <tr>\n",
       "      <th>6</th>\n",
       "      <td>credit-g</td>\n",
       "      <td>0.782619</td>\n",
       "      <td>0.752548</td>\n",
       "      <td>0.5</td>\n",
       "      <td>0.788809</td>\n",
       "      <td>0.794667</td>\n",
       "      <td>0.786143</td>\n",
       "      <td>0.795524</td>\n",
       "      <td>0.770667</td>\n",
       "    </tr>\n",
       "    <tr>\n",
       "      <th>7</th>\n",
       "      <td>guiellermo</td>\n",
       "      <td>0.901298</td>\n",
       "      <td>0.878182</td>\n",
       "      <td>0.5</td>\n",
       "      <td>0.909924</td>\n",
       "      <td>0.902647</td>\n",
       "      <td>0.819224</td>\n",
       "      <td>0.902757</td>\n",
       "      <td>0.900215</td>\n",
       "    </tr>\n",
       "    <tr>\n",
       "      <th>8</th>\n",
       "      <td>higgs</td>\n",
       "      <td>0.793323</td>\n",
       "      <td>0.676984</td>\n",
       "      <td>0.5</td>\n",
       "      <td>0.813504</td>\n",
       "      <td>0.802973</td>\n",
       "      <td>0.801550</td>\n",
       "      <td>0.802942</td>\n",
       "      <td>0.808448</td>\n",
       "    </tr>\n",
       "    <tr>\n",
       "      <th>9</th>\n",
       "      <td>jasmine</td>\n",
       "      <td>0.883949</td>\n",
       "      <td>0.860555</td>\n",
       "      <td>0.5</td>\n",
       "      <td>0.887816</td>\n",
       "      <td>0.888259</td>\n",
       "      <td>0.884588</td>\n",
       "      <td>0.889133</td>\n",
       "      <td>0.880538</td>\n",
       "    </tr>\n",
       "    <tr>\n",
       "      <th>10</th>\n",
       "      <td>kc1</td>\n",
       "      <td>0.842510</td>\n",
       "      <td>0.814135</td>\n",
       "      <td>0.5</td>\n",
       "      <td>0.836388</td>\n",
       "      <td>0.836269</td>\n",
       "      <td>0.840991</td>\n",
       "      <td>0.842142</td>\n",
       "      <td>0.827958</td>\n",
       "    </tr>\n",
       "    <tr>\n",
       "      <th>11</th>\n",
       "      <td>kddcup09_appetency</td>\n",
       "      <td>0.833990</td>\n",
       "      <td>0.790757</td>\n",
       "      <td>0.5</td>\n",
       "      <td>0.830412</td>\n",
       "      <td>0.785771</td>\n",
       "      <td>0.818407</td>\n",
       "      <td>0.785631</td>\n",
       "      <td>0.814830</td>\n",
       "    </tr>\n",
       "    <tr>\n",
       "      <th>12</th>\n",
       "      <td>kr-vs-kp</td>\n",
       "      <td>0.999835</td>\n",
       "      <td>0.975994</td>\n",
       "      <td>0.5</td>\n",
       "      <td>0.999874</td>\n",
       "      <td>0.999151</td>\n",
       "      <td>0.999686</td>\n",
       "      <td>0.999648</td>\n",
       "      <td>0.999128</td>\n",
       "    </tr>\n",
       "    <tr>\n",
       "      <th>13</th>\n",
       "      <td>miniboone</td>\n",
       "      <td>0.985468</td>\n",
       "      <td>0.961233</td>\n",
       "      <td>0.5</td>\n",
       "      <td>0.986557</td>\n",
       "      <td>0.981664</td>\n",
       "      <td>0.981172</td>\n",
       "      <td>0.981649</td>\n",
       "      <td>0.984555</td>\n",
       "    </tr>\n",
       "    <tr>\n",
       "      <th>14</th>\n",
       "      <td>nomao</td>\n",
       "      <td>0.995949</td>\n",
       "      <td>0.983934</td>\n",
       "      <td>0.5</td>\n",
       "      <td>0.995957</td>\n",
       "      <td>0.994905</td>\n",
       "      <td>0.994574</td>\n",
       "      <td>0.995096</td>\n",
       "      <td>0.995031</td>\n",
       "    </tr>\n",
       "    <tr>\n",
       "      <th>15</th>\n",
       "      <td>numerai28.6</td>\n",
       "      <td>0.529106</td>\n",
       "      <td>0.520145</td>\n",
       "      <td>0.5</td>\n",
       "      <td>0.531898</td>\n",
       "      <td>0.519657</td>\n",
       "      <td>0.524741</td>\n",
       "      <td>0.520723</td>\n",
       "      <td>0.527137</td>\n",
       "    </tr>\n",
       "    <tr>\n",
       "      <th>16</th>\n",
       "      <td>phoneme</td>\n",
       "      <td>0.962603</td>\n",
       "      <td>0.956961</td>\n",
       "      <td>0.5</td>\n",
       "      <td>0.967660</td>\n",
       "      <td>0.965422</td>\n",
       "      <td>0.968944</td>\n",
       "      <td>0.965731</td>\n",
       "      <td>0.963950</td>\n",
       "    </tr>\n",
       "    <tr>\n",
       "      <th>17</th>\n",
       "      <td>riccardo</td>\n",
       "      <td>0.999756</td>\n",
       "      <td>0.500000</td>\n",
       "      <td>0.5</td>\n",
       "      <td>0.999807</td>\n",
       "      <td>0.999025</td>\n",
       "      <td>0.992001</td>\n",
       "      <td>0.999687</td>\n",
       "      <td>0.997814</td>\n",
       "    </tr>\n",
       "    <tr>\n",
       "      <th>18</th>\n",
       "      <td>sylvine</td>\n",
       "      <td>0.990398</td>\n",
       "      <td>0.974948</td>\n",
       "      <td>0.5</td>\n",
       "      <td>0.989972</td>\n",
       "      <td>0.983282</td>\n",
       "      <td>0.991775</td>\n",
       "      <td>0.983953</td>\n",
       "      <td>0.987005</td>\n",
       "    </tr>\n",
       "  </tbody>\n",
       "</table>\n",
       "</div>"
      ],
      "text/plain": [
       "                      task  autosklearn  autoweka  constantpredictor  \\\n",
       "0   amazon_employee_access     0.855949  0.809032                0.5   \n",
       "1               apsfailure     0.991173  0.964659                0.5   \n",
       "2               australian     0.935352  0.929447                0.5   \n",
       "3           bank-marketing     0.937332  0.826706                0.5   \n",
       "4        blood-transfusion     0.757376  0.740807                0.5   \n",
       "5                christine     0.829747  0.801988                0.5   \n",
       "6                 credit-g     0.782619  0.752548                0.5   \n",
       "7               guiellermo     0.901298  0.878182                0.5   \n",
       "8                    higgs     0.793323  0.676984                0.5   \n",
       "9                  jasmine     0.883949  0.860555                0.5   \n",
       "10                     kc1     0.842510  0.814135                0.5   \n",
       "11      kddcup09_appetency     0.833990  0.790757                0.5   \n",
       "12                kr-vs-kp     0.999835  0.975994                0.5   \n",
       "13               miniboone     0.985468  0.961233                0.5   \n",
       "14                   nomao     0.995949  0.983934                0.5   \n",
       "15             numerai28.6     0.529106  0.520145                0.5   \n",
       "16                 phoneme     0.962603  0.956961                0.5   \n",
       "17                riccardo     0.999756  0.500000                0.5   \n",
       "18                 sylvine     0.990398  0.974948                0.5   \n",
       "\n",
       "    h2oautoml  randomforest      tpot  tunedrandomforest  Auto-PyTorch  \n",
       "0    0.879249      0.864145  0.869550           0.862834      0.848398  \n",
       "1    0.992338      0.991212  0.990257           0.990772      0.991576  \n",
       "2    0.939702      0.936597  0.931933           0.933904      0.934074  \n",
       "3    0.937070      0.930829  0.933684           0.930685      0.936074  \n",
       "4    0.756301      0.686283  0.724372           0.688562      0.744596  \n",
       "5    0.825998      0.805780  0.813402           0.809603      0.800205  \n",
       "6    0.788809      0.794667  0.786143           0.795524      0.770667  \n",
       "7    0.909924      0.902647  0.819224           0.902757      0.900215  \n",
       "8    0.813504      0.802973  0.801550           0.802942      0.808448  \n",
       "9    0.887816      0.888259  0.884588           0.889133      0.880538  \n",
       "10   0.836388      0.836269  0.840991           0.842142      0.827958  \n",
       "11   0.830412      0.785771  0.818407           0.785631      0.814830  \n",
       "12   0.999874      0.999151  0.999686           0.999648      0.999128  \n",
       "13   0.986557      0.981664  0.981172           0.981649      0.984555  \n",
       "14   0.995957      0.994905  0.994574           0.995096      0.995031  \n",
       "15   0.531898      0.519657  0.524741           0.520723      0.527137  \n",
       "16   0.967660      0.965422  0.968944           0.965731      0.963950  \n",
       "17   0.999807      0.999025  0.992001           0.999687      0.997814  \n",
       "18   0.989972      0.983282  0.991775           0.983953      0.987005  "
      ]
     },
     "execution_count": 12,
     "metadata": {},
     "output_type": "execute_result"
    }
   ],
   "source": [
    "df"
   ]
  },
  {
   "cell_type": "code",
   "execution_count": 13,
   "id": "6ded585b",
   "metadata": {
    "scrolled": false
   },
   "outputs": [
    {
     "data": {
      "image/png": "[encoded data removed]",
      "text/plain": [
       "<Figure size 864x576 with 1 Axes>"
      ]
     },
     "metadata": {
      "needs_background": "light"
     },
     "output_type": "display_data"
    }
   ],
   "source": [
    "from matplotlib import rcParams\n",
    "rcParams.update({'figure.autolayout':True})\n",
    "plt.figure(figsize=(12,8))\n",
    "for i in range(len(cols)):\n",
    "    plt.scatter(x=cols[i], y='task', data=df, label=cols[i], c=c[i])\n",
    "#plt.grid(axis = 'y', linestyle = '--', linewidth = 0.2)\n",
    "plt.grid(axis = 'x', linewidth = 0.5)\n",
    "plt.legend(title = \"Framework\", loc='upper center')\n",
    "plt.title('Average scores on binary classification problems')\n",
    "plt.xlabel(\"AUC\")\n",
    "plt.savefig('other.png')"
   ]
  },
  {
   "cell_type": "code",
   "execution_count": 9,
   "id": "37f56f18",
   "metadata": {},
   "outputs": [],
   "source": [
    "sc = []\n",
    "for i in range(19):\n",
    "    c = (df['Auto-PyTorch'][i] > df.iloc[i,1:]).sum()\n",
    "    sc.append(c)"
   ]
  },
  {
   "cell_type": "code",
   "execution_count": 10,
   "id": "260071ea",
   "metadata": {},
   "outputs": [
    {
     "data": {
      "text/plain": [
       "[0.855949,\n",
       " 0.809032,\n",
       " 0.5,\n",
       " 0.879249,\n",
       " 0.864145,\n",
       " 0.86955,\n",
       " 0.862834,\n",
       " 0.8483982579346492]"
      ]
     },
     "execution_count": 10,
     "metadata": {},
     "output_type": "execute_result"
    }
   ],
   "source": [
    "df.iloc[0,1:].tolist()"
   ]
  },
  {
   "cell_type": "code",
   "execution_count": 85,
   "id": "fd3f54a9",
   "metadata": {},
   "outputs": [
    {
     "data": {
      "text/plain": [
       "3.5789473684210527"
      ]
     },
     "execution_count": 85,
     "metadata": {},
     "output_type": "execute_result"
    }
   ],
   "source": [
    "np.array(sc).mean()"
   ]
  }
 ],
 "metadata": {
  "kernelspec": {
   "display_name": "Python 3",
   "language": "python",
   "name": "python3"
  },
  "language_info": {
   "codemirror_mode": {
    "name": "ipython",
    "version": 3
   },
   "file_extension": ".py",
   "mimetype": "text/x-python",
   "name": "python",
   "nbconvert_exporter": "python",
   "pygments_lexer": "ipython3",
   "version": "3.8.8"
  }
 },
 "nbformat": 4,
 "nbformat_minor": 5
}
