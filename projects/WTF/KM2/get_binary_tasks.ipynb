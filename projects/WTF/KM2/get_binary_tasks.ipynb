{
 "cells": [
  {
   "cell_type": "markdown",
   "id": "65bbd3f6-4968-4629-bea2-c9cd974ad72d",
   "metadata": {},
   "source": [
    "## Kod używany do pobrania zbiorów z OpenML."
   ]
  },
  {
   "cell_type": "code",
   "execution_count": null,
   "id": "44a8dcaa-6f74-4d75-81b7-7c5de7c2816d",
   "metadata": {},
   "outputs": [],
   "source": [
    "import openml\n",
    "import pandas as pd\n",
    "import os\n",
    "import numpy as np"
   ]
  },
  {
   "cell_type": "code",
   "execution_count": null,
   "id": "296ef9f1-d50b-4537-9d80-6d84105f85c8",
   "metadata": {},
   "outputs": [
    {
     "data": {
      "text/plain": [
       "[3,\n",
       " 12,\n",
       " 31,\n",
       " 53,\n",
       " 3917,\n",
       " 3945,\n",
       " 7592,\n",
       " 7593,\n",
       " 9952,\n",
       " 9977,\n",
       " 9981,\n",
       " 10101,\n",
       " 14965,\n",
       " 34539,\n",
       " 146195,\n",
       " 146212,\n",
       " 146606,\n",
       " 146818,\n",
       " 146821,\n",
       " 146822,\n",
       " 146825,\n",
       " 167119,\n",
       " 167120,\n",
       " 168329,\n",
       " 168330,\n",
       " 168331,\n",
       " 168332,\n",
       " 168335,\n",
       " 168337,\n",
       " 168338,\n",
       " 168868,\n",
       " 168908,\n",
       " 168909,\n",
       " 168910,\n",
       " 168911,\n",
       " 168912,\n",
       " 189354,\n",
       " 189355,\n",
       " 189356]"
      ]
     },
     "execution_count": 2,
     "metadata": {},
     "output_type": "execute_result"
    }
   ],
   "source": [
    "openml.study.get_suite(218).tasks"
   ]
  },
  {
   "cell_type": "code",
   "execution_count": null,
   "id": "1168d27e-c274-4a58-9066-33c2ebe65719",
   "metadata": {},
   "outputs": [
    {
     "data": {
      "text/plain": [
       "[3,\n",
       " 31,\n",
       " 3917,\n",
       " 3945,\n",
       " 7592,\n",
       " 9952,\n",
       " 9977,\n",
       " 10101,\n",
       " 14965,\n",
       " 34539,\n",
       " 146606,\n",
       " 146818,\n",
       " 167120,\n",
       " 168335,\n",
       " 168337,\n",
       " 168338,\n",
       " 168868,\n",
       " 168908,\n",
       " 168911,\n",
       " 168912,\n",
       " 189354,\n",
       " 189356]"
      ]
     },
     "execution_count": 17,
     "metadata": {},
     "output_type": "execute_result"
    }
   ],
   "source": [
    "# znajduje taski binarne\n",
    "result = []\n",
    "tasks = openml.study.get_suite(218).tasks\n",
    "for task_id in tasks:\n",
    "    task = openml.tasks.get_task(task_id)\n",
    "    if len(task.class_labels) == 2:\n",
    "        result.append(task_id)\n",
    "result"
   ]
  },
  {
   "cell_type": "code",
   "execution_count": null,
   "id": "03998fc6-9cc1-4d1a-be88-452996c52a12",
   "metadata": {},
   "outputs": [
    {
     "data": {
      "text/plain": [
       "22"
      ]
     },
     "execution_count": 18,
     "metadata": {},
     "output_type": "execute_result"
    }
   ],
   "source": [
    "len(result)"
   ]
  },
  {
   "cell_type": "code",
   "execution_count": null,
   "id": "28d42862-893a-46af-8fa6-a003e45c91d9",
   "metadata": {},
   "outputs": [],
   "source": [
    "for i in result:\n",
    "    outdir = './datasets/' + str(i)\n",
    "    task = openml.tasks.get_task(i)\n",
    "    dataset = task.get_dataset()\n",
    "    dataset.default_target_attribute\n",
    "    target_name = dataset.default_target_attribute\n",
    "    \n",
    "    if not os.path.exists(outdir):\n",
    "        os.mkdir(outdir)\n",
    "    \n",
    "    with open(outdir + '/target_name.txt', 'w') as f:\n",
    "        f.writelines(target_name)\n",
    "    \n",
    "    X, y, categorical_indicator, attribute_names = dataset.get_data()\n",
    "    X.to_csv(outdir + '/dataset.csv')\n",
    "    \n",
    "    nfolds = int(task.estimation_procedure['parameters']['number_folds'])\n",
    "    for j in range(min(nfolds, 10)):\n",
    "        split = task.get_train_test_split_indices(j)\n",
    "        np.savetxt(outdir + '/fold_' + str(j) + '_train.txt', split[0], fmt = '%.0f')\n",
    "        np.savetxt(outdir + '/fold_' + str(j) + '_test.txt', split[1], fmt = '%.0f')"
   ]
  }
 ],
 "metadata": {
  "kernelspec": {
   "display_name": "Python 3 (ipykernel)",
   "language": "python",
   "name": "python3"
  },
  "language_info": {
   "codemirror_mode": {
    "name": "ipython",
    "version": 3
   },
   "file_extension": ".py",
   "mimetype": "text/x-python",
   "name": "python",
   "nbconvert_exporter": "python",
   "pygments_lexer": "ipython3",
   "version": "3.9.7"
  }
 },
 "nbformat": 4,
 "nbformat_minor": 5
}
