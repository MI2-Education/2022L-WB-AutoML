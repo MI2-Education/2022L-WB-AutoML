{
 "cells": [
  {
   "cell_type": "markdown",
   "id": "b769540e-7327-4302-8305-e1154a0b6255",
   "metadata": {},
   "source": [
    "## Kod do trenowania wszystkich zbiorów"
   ]
  },
  {
   "cell_type": "code",
   "execution_count": 1,
   "id": "4733b70a-3b97-46db-8693-576821f4ebe4",
   "metadata": {},
   "outputs": [],
   "source": [
    "import os\n",
    "import pandas as pd\n",
    "import numpy as np\n",
    "from autoPyTorch.api.tabular_classification import TabularClassificationTask\n",
    "from sklearn.metrics import roc_auc_score\n",
    "\n",
    "import tempfile as tmp\n",
    "import warnings\n",
    "\n",
    "os.environ['JOBLIB_TEMP_FOLDER'] = tmp.gettempdir()\n",
    "os.environ['OMP_NUM_THREADS'] = '1'\n",
    "os.environ['OPENBLAS_NUM_THREADS'] = '1'\n",
    "os.environ['MKL_NUM_THREADS'] = '1'\n",
    "\n",
    "warnings.simplefilter(action='ignore', category=UserWarning)\n",
    "warnings.simplefilter(action='ignore', category=FutureWarning)"
   ]
  },
  {
   "cell_type": "code",
   "execution_count": 2,
   "id": "20550fcb-bed0-444e-8770-94da71b414b4",
   "metadata": {},
   "outputs": [],
   "source": [
    "def pipeline(X,y):\n",
    "    for feature in X.columns:\n",
    "        if X[feature].dtype == 'object':\n",
    "            X[feature] = X[feature].astype('category')\n",
    "        if y.dtype == 'object':\n",
    "            y = y.astype('category')\n",
    "    return X, y"
   ]
  },
  {
   "cell_type": "code",
   "execution_count": 3,
   "id": "3da2e238-e378-4adf-b60a-1cb48521885c",
   "metadata": {},
   "outputs": [],
   "source": [
    "def run(dataframe, target_name, fold_train, fold_test):\n",
    "    \n",
    "    data_train = dataframe.loc[fold_train]\n",
    "    data_test = dataframe.loc[fold_test]\n",
    "    X_train = data_train.drop(target_name, axis=1)\n",
    "    y_train = data_train[target_name]\n",
    "    X_test = data_test.drop(target_name, axis=1)\n",
    "    y_test = data_test[target_name]\n",
    "    \n",
    "    X_train,y_train =  pipeline(X_train,y_train)\n",
    "    X_test, y_test = pipeline(X_test, y_test)\n",
    "    \n",
    "    \n",
    "    api = TabularClassificationTask()\n",
    "    api.search(X_train= X_train, y_train= y_train,X_test = X_test,\n",
    "                      y_test = y_test, optimize_metric='roc_auc',\n",
    "               total_walltime_limit=360, func_eval_time_limit_secs=40,memory_limit=None) \n",
    "    y_pred = api.predict_proba(X_test)\n",
    "    # score = api.score(y_pred, y_test)\n",
    "    score = roc_auc_score(y_test, y_pred[:, 1])\n",
    "    \n",
    "    return api, score"
   ]
  },
  {
   "cell_type": "code",
   "execution_count": 4,
   "id": "fcd69888-0e19-4402-adcd-2f32b773214c",
   "metadata": {},
   "outputs": [
    {
     "data": {
      "text/plain": [
       "['168868',\n",
       " '168912',\n",
       " '31',\n",
       " '3917',\n",
       " '7592',\n",
       " '146818',\n",
       " '168908',\n",
       " '168911',\n",
       " '189354',\n",
       " '168337',\n",
       " '3945',\n",
       " '168335',\n",
       " '9977',\n",
       " '189356',\n",
       " '168338',\n",
       " '9952',\n",
       " '167120',\n",
       " '10101',\n",
       " '14965',\n",
       " '34539',\n",
       " '146606',\n",
       " '3']"
      ]
     },
     "execution_count": 4,
     "metadata": {},
     "output_type": "execute_result"
    }
   ],
   "source": [
    "data_folders = os.listdir('datasets/')\n",
    "data_folders"
   ]
  },
  {
   "cell_type": "code",
   "execution_count": 7,
   "id": "b999b59e-8a8f-45a5-b78a-b64c16e60212",
   "metadata": {},
   "outputs": [],
   "source": [
    "# mozna wybrac tylko kilka zbiorow np:\n",
    "# data_folders = ['168868']\n",
    "\n",
    "for file_name in data_folders:\n",
    "    print('File:', file_name)\n",
    "    data_folder = 'datasets/' + str(file_name)\n",
    "    dataset = pd.read_csv(data_folder + '/dataset.csv', index_col = 0)\n",
    "    with open(data_folder + '/target_name.txt') as f:\n",
    "        target_name = f.readline()\n",
    "    scores = []\n",
    "    models = []\n",
    "    for j in range(10):\n",
    "        print('Fold:', j)\n",
    "        fold_train = np.loadtxt(data_folder + '/fold_' + str(j) + '_train.txt', dtype='int')\n",
    "        fold_test = np.loadtxt(data_folder + '/fold_' + str(j) + '_test.txt', dtype='int')\n",
    "        api, score = run(dataset, target_name, fold_train, fold_test)\n",
    "        print(score)\n",
    "        scores.append(score)\n",
    "        models.append(api.show_models())\n",
    "    print('scores:', scores)\n",
    "    output = pd.DataFrame({'score': scores, 'models': models})\n",
    "    output.to_csv('scores/' + file_name + '.csv', index=False)\n",
    "        "
   ]
  }
 ],
 "metadata": {
  "kernelspec": {
   "display_name": "Python 3 (ipykernel)",
   "language": "python",
   "name": "python3"
  },
  "language_info": {
   "codemirror_mode": {
    "name": "ipython",
    "version": 3
   },
   "file_extension": ".py",
   "mimetype": "text/x-python",
   "name": "python",
   "nbconvert_exporter": "python",
   "pygments_lexer": "ipython3",
   "version": "3.9.7"
  },
  "toc-autonumbering": false
 },
 "nbformat": 4,
 "nbformat_minor": 5
}
