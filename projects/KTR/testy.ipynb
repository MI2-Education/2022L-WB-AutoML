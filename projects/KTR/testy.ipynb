{
 "cells": [
  {
   "cell_type": "code",
   "execution_count": 2,
   "metadata": {},
   "outputs": [],
   "source": [
    "import openml\n",
    "import team5\n",
    "from sklearn.model_selection import KFold\n",
    "from sklearn.model_selection import StratifiedKFold, cross_val_score\n",
    "import pandas as pd\n",
    "import time\n",
    "import matplotlib.pyplot as plt\n",
    "import KM4\n",
    "\n",
    "tasks_ids = [31,3,10101,3917,145836,53,12,9952,14965,9977,9981,34539,7592,146822,146195,146821,167119]\n",
    "    \n",
    "times = []\n",
    "names = []\n",
    "accuracies = []\n",
    "\n"
   ]
  },
  {
   "cell_type": "code",
   "execution_count": 2,
   "metadata": {},
   "outputs": [
    {
     "name": "stdout",
     "output_type": "stream",
     "text": [
      "1\n",
      "1\n",
      "1\n",
      "1\n",
      "1\n",
      "0\n",
      "0\n",
      "1\n",
      "1\n",
      "1\n",
      "0\n",
      "1\n",
      "1\n",
      "1\n",
      "0\n",
      "0\n",
      "0\n",
      "0\n",
      "1\n",
      "1\n"
     ]
    }
   ],
   "source": [
    "for task_id in tasks_ids:\n",
    "    dataset = openml.tasks.get_task(task_id).get_dataset()\n",
    "    if pd.DataFrame(dataset.get_data()[0])[dataset.default_target_attribute].nunique() != 2:\n",
    "        print('0')\n",
    "    else:\n",
    "        print('1')"
   ]
  },
  {
   "cell_type": "code",
   "execution_count": 4,
   "metadata": {},
   "outputs": [
    {
     "name": "stderr",
     "output_type": "stream",
     "text": [
      "\r",
      "  0%|                                                    | 0/3 [00:00<?, ?it/s]"
     ]
    },
    {
     "name": "stdout",
     "output_type": "stream",
     "text": [
      "Fitting 3 folds for each of 5 candidates, totalling 15 fits\n"
     ]
    },
    {
     "name": "stderr",
     "output_type": "stream",
     "text": [
      "C:\\Users\\micha\\anaconda3\\lib\\site-packages\\sklearn\\linear_model\\_sag.py:352: ConvergenceWarning: The max_iter was reached which means the coef_ did not converge\n",
      "  warnings.warn(\n",
      "\r",
      " 33%|██████████████▋                             | 1/3 [00:03<00:06,  3.41s/it]"
     ]
    },
    {
     "name": "stdout",
     "output_type": "stream",
     "text": [
      "Fitting 3 folds for each of 5 candidates, totalling 15 fits\n"
     ]
    },
    {
     "name": "stderr",
     "output_type": "stream",
     "text": [
      "\r",
      " 67%|█████████████████████████████▎              | 2/3 [00:15<00:08,  8.65s/it]"
     ]
    },
    {
     "name": "stdout",
     "output_type": "stream",
     "text": [
      "Fitting 3 folds for each of 5 candidates, totalling 15 fits\n"
     ]
    },
    {
     "name": "stderr",
     "output_type": "stream",
     "text": [
      "100%|████████████████████████████████████████████| 3/3 [00:16<00:00,  5.37s/it]\n",
      "  0%|                                                    | 0/3 [00:00<?, ?it/s]"
     ]
    },
    {
     "name": "stdout",
     "output_type": "stream",
     "text": [
      "Fitting 3 folds for each of 5 candidates, totalling 15 fits\n"
     ]
    },
    {
     "name": "stderr",
     "output_type": "stream",
     "text": [
      "C:\\Users\\micha\\anaconda3\\lib\\site-packages\\sklearn\\linear_model\\_sag.py:352: ConvergenceWarning: The max_iter was reached which means the coef_ did not converge\n",
      "  warnings.warn(\n",
      "\r",
      " 33%|██████████████▋                             | 1/3 [00:00<00:01,  1.73it/s]"
     ]
    },
    {
     "name": "stdout",
     "output_type": "stream",
     "text": [
      "Fitting 3 folds for each of 5 candidates, totalling 15 fits\n"
     ]
    },
    {
     "name": "stderr",
     "output_type": "stream",
     "text": [
      "\r",
      " 67%|█████████████████████████████▎              | 2/3 [00:13<00:07,  7.97s/it]"
     ]
    },
    {
     "name": "stdout",
     "output_type": "stream",
     "text": [
      "Fitting 3 folds for each of 5 candidates, totalling 15 fits\n"
     ]
    },
    {
     "name": "stderr",
     "output_type": "stream",
     "text": [
      "100%|████████████████████████████████████████████| 3/3 [00:14<00:00,  4.83s/it]\n",
      "C:\\Users\\micha\\anaconda3\\lib\\site-packages\\sklearn\\preprocessing\\_data.py:2590: UserWarning: n_quantiles (1000) is greater than the total number of samples (748). n_quantiles is set to n_samples.\n",
      "  warnings.warn(\n",
      "  0%|                                                    | 0/3 [00:00<?, ?it/s]C:\\Users\\micha\\anaconda3\\lib\\site-packages\\sklearn\\linear_model\\_sag.py:352: ConvergenceWarning: The max_iter was reached which means the coef_ did not converge\n",
      "  warnings.warn(\n"
     ]
    },
    {
     "name": "stdout",
     "output_type": "stream",
     "text": [
      "Fitting 3 folds for each of 5 candidates, totalling 15 fits\n",
      "Fitting 3 folds for each of 5 candidates, totalling 15 fits\n"
     ]
    },
    {
     "name": "stderr",
     "output_type": "stream",
     "text": [
      "\r",
      " 67%|█████████████████████████████▎              | 2/3 [00:07<00:03,  3.53s/it]"
     ]
    },
    {
     "name": "stdout",
     "output_type": "stream",
     "text": [
      "Fitting 3 folds for each of 5 candidates, totalling 15 fits\n"
     ]
    },
    {
     "name": "stderr",
     "output_type": "stream",
     "text": [
      "100%|████████████████████████████████████████████| 3/3 [00:07<00:00,  2.48s/it]\n",
      "  0%|                                                    | 0/3 [00:00<?, ?it/s]"
     ]
    },
    {
     "name": "stdout",
     "output_type": "stream",
     "text": [
      "Fitting 3 folds for each of 5 candidates, totalling 15 fits\n"
     ]
    },
    {
     "name": "stderr",
     "output_type": "stream",
     "text": [
      "C:\\Users\\micha\\anaconda3\\lib\\site-packages\\sklearn\\linear_model\\_sag.py:352: ConvergenceWarning: The max_iter was reached which means the coef_ did not converge\n",
      "  warnings.warn(\n",
      "\r",
      " 33%|██████████████▋                             | 1/3 [00:00<00:00,  3.40it/s]"
     ]
    },
    {
     "name": "stdout",
     "output_type": "stream",
     "text": [
      "Fitting 3 folds for each of 5 candidates, totalling 15 fits\n"
     ]
    },
    {
     "name": "stderr",
     "output_type": "stream",
     "text": [
      "\r",
      " 67%|█████████████████████████████▎              | 2/3 [00:20<00:12, 12.20s/it]"
     ]
    },
    {
     "name": "stdout",
     "output_type": "stream",
     "text": [
      "Fitting 3 folds for each of 5 candidates, totalling 15 fits\n"
     ]
    },
    {
     "name": "stderr",
     "output_type": "stream",
     "text": [
      "100%|████████████████████████████████████████████| 3/3 [00:22<00:00,  7.33s/it]\n",
      "C:\\Users\\micha\\anaconda3\\lib\\site-packages\\sklearn\\preprocessing\\_data.py:2590: UserWarning: n_quantiles (1000) is greater than the total number of samples (748). n_quantiles is set to n_samples.\n",
      "  warnings.warn(\n",
      "  0%|                                                    | 0/3 [00:00<?, ?it/s]C:\\Users\\micha\\anaconda3\\lib\\site-packages\\sklearn\\linear_model\\_sag.py:352: ConvergenceWarning: The max_iter was reached which means the coef_ did not converge\n",
      "  warnings.warn(\n"
     ]
    },
    {
     "name": "stdout",
     "output_type": "stream",
     "text": [
      "Fitting 3 folds for each of 5 candidates, totalling 15 fits\n",
      "Fitting 3 folds for each of 5 candidates, totalling 15 fits\n"
     ]
    },
    {
     "name": "stderr",
     "output_type": "stream",
     "text": [
      "\r",
      " 67%|█████████████████████████████▎              | 2/3 [00:06<00:03,  3.47s/it]"
     ]
    },
    {
     "name": "stdout",
     "output_type": "stream",
     "text": [
      "Fitting 3 folds for each of 5 candidates, totalling 15 fits\n"
     ]
    },
    {
     "name": "stderr",
     "output_type": "stream",
     "text": [
      "100%|████████████████████████████████████████████| 3/3 [00:07<00:00,  2.41s/it]\n",
      " 33%|██████████████▋                             | 1/3 [00:00<00:00,  9.62it/s]"
     ]
    },
    {
     "name": "stdout",
     "output_type": "stream",
     "text": [
      "Fitting 3 folds for each of 5 candidates, totalling 15 fits\n",
      "Fitting 3 folds for each of 5 candidates, totalling 15 fits\n"
     ]
    },
    {
     "name": "stderr",
     "output_type": "stream",
     "text": [
      "\r",
      " 67%|█████████████████████████████▎              | 2/3 [00:24<00:14, 14.60s/it]"
     ]
    },
    {
     "name": "stdout",
     "output_type": "stream",
     "text": [
      "Fitting 3 folds for each of 5 candidates, totalling 15 fits\n"
     ]
    },
    {
     "name": "stderr",
     "output_type": "stream",
     "text": [
      "100%|████████████████████████████████████████████| 3/3 [00:26<00:00,  8.91s/it]\n",
      "  0%|                                                    | 0/3 [00:00<?, ?it/s]"
     ]
    },
    {
     "name": "stdout",
     "output_type": "stream",
     "text": [
      "Fitting 3 folds for each of 5 candidates, totalling 15 fits\n"
     ]
    },
    {
     "name": "stderr",
     "output_type": "stream",
     "text": [
      "C:\\Users\\micha\\anaconda3\\lib\\site-packages\\sklearn\\linear_model\\_sag.py:352: ConvergenceWarning: The max_iter was reached which means the coef_ did not converge\n",
      "  warnings.warn(\n",
      "\r",
      " 33%|██████████████▋                             | 1/3 [00:06<00:13,  6.79s/it]"
     ]
    },
    {
     "name": "stdout",
     "output_type": "stream",
     "text": [
      "Fitting 3 folds for each of 5 candidates, totalling 15 fits\n"
     ]
    },
    {
     "name": "stderr",
     "output_type": "stream",
     "text": [
      "\r",
      " 67%|████████████████████████████▋              | 2/3 [05:09<03:01, 181.10s/it]"
     ]
    },
    {
     "name": "stdout",
     "output_type": "stream",
     "text": [
      "Fitting 3 folds for each of 5 candidates, totalling 15 fits\n"
     ]
    },
    {
     "name": "stderr",
     "output_type": "stream",
     "text": [
      "100%|███████████████████████████████████████████| 3/3 [05:19<00:00, 106.55s/it]\n",
      "  0%|                                                    | 0/3 [00:00<?, ?it/s]"
     ]
    },
    {
     "name": "stdout",
     "output_type": "stream",
     "text": [
      "Fitting 3 folds for each of 5 candidates, totalling 15 fits\n"
     ]
    },
    {
     "name": "stderr",
     "output_type": "stream",
     "text": [
      "C:\\Users\\micha\\anaconda3\\lib\\site-packages\\sklearn\\linear_model\\_sag.py:352: ConvergenceWarning: The max_iter was reached which means the coef_ did not converge\n",
      "  warnings.warn(\n",
      "\r",
      " 33%|██████████████▋                             | 1/3 [00:23<00:46, 23.35s/it]"
     ]
    },
    {
     "name": "stdout",
     "output_type": "stream",
     "text": [
      "Fitting 3 folds for each of 5 candidates, totalling 15 fits\n"
     ]
    },
    {
     "name": "stderr",
     "output_type": "stream",
     "text": [
      "\r",
      " 67%|████████████████████████████▋              | 2/3 [04:52<02:48, 168.14s/it]"
     ]
    },
    {
     "name": "stdout",
     "output_type": "stream",
     "text": [
      "Fitting 3 folds for each of 5 candidates, totalling 15 fits\n"
     ]
    },
    {
     "name": "stderr",
     "output_type": "stream",
     "text": [
      "100%|███████████████████████████████████████████| 3/3 [05:18<00:00, 106.26s/it]\n",
      "  0%|                                                    | 0/3 [00:00<?, ?it/s]"
     ]
    },
    {
     "name": "stdout",
     "output_type": "stream",
     "text": [
      "Fitting 3 folds for each of 5 candidates, totalling 15 fits\n"
     ]
    },
    {
     "name": "stderr",
     "output_type": "stream",
     "text": [
      "C:\\Users\\micha\\anaconda3\\lib\\site-packages\\sklearn\\linear_model\\_sag.py:352: ConvergenceWarning: The max_iter was reached which means the coef_ did not converge\n",
      "  warnings.warn(\n",
      "\r",
      " 33%|██████████████▋                             | 1/3 [00:03<00:07,  3.53s/it]"
     ]
    },
    {
     "name": "stdout",
     "output_type": "stream",
     "text": [
      "Fitting 3 folds for each of 5 candidates, totalling 15 fits\n"
     ]
    },
    {
     "name": "stderr",
     "output_type": "stream",
     "text": [
      "\r",
      " 67%|████████████████████████████▋              | 2/3 [02:54<01:41, 101.96s/it]"
     ]
    },
    {
     "name": "stdout",
     "output_type": "stream",
     "text": [
      "Fitting 3 folds for each of 5 candidates, totalling 15 fits\n"
     ]
    },
    {
     "name": "stderr",
     "output_type": "stream",
     "text": [
      "100%|████████████████████████████████████████████| 3/3 [02:59<00:00, 59.99s/it]\n",
      "  0%|                                                    | 0/3 [00:00<?, ?it/s]"
     ]
    },
    {
     "name": "stdout",
     "output_type": "stream",
     "text": [
      "Fitting 3 folds for each of 5 candidates, totalling 15 fits\n"
     ]
    },
    {
     "name": "stderr",
     "output_type": "stream",
     "text": [
      "C:\\Users\\micha\\anaconda3\\lib\\site-packages\\sklearn\\linear_model\\_sag.py:352: ConvergenceWarning: The max_iter was reached which means the coef_ did not converge\n",
      "  warnings.warn(\n",
      "\r",
      " 33%|██████████████▋                             | 1/3 [00:06<00:13,  6.62s/it]"
     ]
    },
    {
     "name": "stdout",
     "output_type": "stream",
     "text": [
      "Fitting 3 folds for each of 5 candidates, totalling 15 fits\n"
     ]
    },
    {
     "name": "stderr",
     "output_type": "stream",
     "text": [
      "\r",
      " 67%|████████████████████████████▋              | 2/3 [03:33<02:04, 124.51s/it]"
     ]
    },
    {
     "name": "stdout",
     "output_type": "stream",
     "text": [
      "Fitting 3 folds for each of 5 candidates, totalling 15 fits\n"
     ]
    },
    {
     "name": "stderr",
     "output_type": "stream",
     "text": [
      "100%|████████████████████████████████████████████| 3/3 [03:40<00:00, 73.52s/it]\n",
      "C:\\Users\\micha\\anaconda3\\lib\\site-packages\\sklearn\\preprocessing\\_data.py:2590: UserWarning: n_quantiles (1000) is greater than the total number of samples (690). n_quantiles is set to n_samples.\n",
      "  warnings.warn(\n",
      "  0%|                                                    | 0/3 [00:00<?, ?it/s]C:\\Users\\micha\\anaconda3\\lib\\site-packages\\sklearn\\linear_model\\_sag.py:352: ConvergenceWarning: The max_iter was reached which means the coef_ did not converge\n",
      "  warnings.warn(\n"
     ]
    },
    {
     "name": "stdout",
     "output_type": "stream",
     "text": [
      "Fitting 3 folds for each of 5 candidates, totalling 15 fits\n",
      "Fitting 3 folds for each of 5 candidates, totalling 15 fits\n"
     ]
    },
    {
     "name": "stderr",
     "output_type": "stream",
     "text": [
      "\r",
      " 67%|█████████████████████████████▎              | 2/3 [00:07<00:03,  3.67s/it]"
     ]
    },
    {
     "name": "stdout",
     "output_type": "stream",
     "text": [
      "Fitting 3 folds for each of 5 candidates, totalling 15 fits\n"
     ]
    },
    {
     "name": "stderr",
     "output_type": "stream",
     "text": [
      "100%|████████████████████████████████████████████| 3/3 [00:07<00:00,  2.62s/it]\n",
      "  0%|                                                    | 0/3 [00:00<?, ?it/s]"
     ]
    },
    {
     "name": "stdout",
     "output_type": "stream",
     "text": [
      "Fitting 3 folds for each of 5 candidates, totalling 15 fits\n"
     ]
    },
    {
     "name": "stderr",
     "output_type": "stream",
     "text": [
      "\r",
      " 33%|██████████████▋                             | 1/3 [00:04<00:08,  4.42s/it]"
     ]
    },
    {
     "name": "stdout",
     "output_type": "stream",
     "text": [
      "Fitting 3 folds for each of 5 candidates, totalling 15 fits\n"
     ]
    },
    {
     "name": "stderr",
     "output_type": "stream",
     "text": [
      "\r",
      " 67%|████████████████████████████              | 2/3 [36:25<21:24, 1284.62s/it]"
     ]
    },
    {
     "name": "stdout",
     "output_type": "stream",
     "text": [
      "Fitting 3 folds for each of 5 candidates, totalling 15 fits\n"
     ]
    },
    {
     "name": "stderr",
     "output_type": "stream",
     "text": [
      "100%|███████████████████████████████████████████| 3/3 [37:49<00:00, 756.44s/it]\n"
     ]
    }
   ],
   "source": [
    "for task_id in tasks_ids:\n",
    "    dataset = openml.tasks.get_task(task_id).get_dataset()\n",
    "    if pd.DataFrame(dataset.get_data()[0])[dataset.default_target_attribute].nunique() != 2:\n",
    "        continue\n",
    "    data_x, data_y, a, b = dataset.get_data(\n",
    "        dataset_format='array',\n",
    "        target = dataset.default_target_attribute\n",
    "    )\n",
    "    data_x = pd.DataFrame(data_x)\n",
    "    data_y = pd.Series(data_y)\n",
    "    start_time = time.time()\n",
    "    ml = KM4.OurAutoML()\n",
    "    ml.fit(data_x,data_y, cv=KFold(n_splits=3, random_state=444, shuffle=True))\n",
    "    names.append(dataset.name)\n",
    "    accuracies.append(ml.best_score_)\n",
    "    times.append(time.time()-start_time)"
   ]
  },
  {
   "cell_type": "code",
   "execution_count": 5,
   "metadata": {},
   "outputs": [],
   "source": [
    "df = pd.DataFrame({\n",
    "    'Nazwa zbioru': names,\n",
    "    \"AUC\": accuracies,\n",
    "    \"Czas trenowania\":times})\n"
   ]
  },
  {
   "cell_type": "code",
   "execution_count": 27,
   "metadata": {},
   "outputs": [
    {
     "data": {
      "image/png": "[encoded data removed]",
      "text/plain": [
       "<Figure size 432x288 with 1 Axes>"
      ]
     },
     "metadata": {
      "needs_background": "light"
     },
     "output_type": "display_data"
    },
    {
     "data": {
      "text/plain": [
       "<Figure size 2000x1600 with 0 Axes>"
      ]
     },
     "metadata": {},
     "output_type": "display_data"
    }
   ],
   "source": [
    "plt.bar('Nazwa zbioru', 'AUC',data = df.sort_values(by='AUC',))\n",
    "plt.title(\"ROC AUC for each dataset (Our AutoML)\")\n",
    "plt.xticks(rotation=90)\n",
    "plt.figure(figsize=(25, 20), dpi=80)\n",
    "plt.show()"
   ]
  },
  {
   "cell_type": "code",
   "execution_count": 22,
   "metadata": {},
   "outputs": [
    {
     "data": {
      "image/png": "[encoded data removed]",
      "text/plain": [
       "<Figure size 432x288 with 1 Axes>"
      ]
     },
     "metadata": {
      "needs_background": "light"
     },
     "output_type": "display_data"
    },
    {
     "data": {
      "text/plain": [
       "<Figure size 2000x1600 with 0 Axes>"
      ]
     },
     "metadata": {},
     "output_type": "display_data"
    }
   ],
   "source": [
    "plt.bar('Nazwa zbioru', 'Czas trenowania',data = df.sort_values(by='Czas trenowania',ascending=False))\n",
    "plt.title(\"Time to train method on each dataset\")\n",
    "plt.xticks(rotation=90)\n",
    "plt.figure(figsize=(25, 20), dpi=80)\n",
    "plt.show()"
   ]
  },
  {
   "cell_type": "code",
   "execution_count": 4,
   "metadata": {},
   "outputs": [],
   "source": [
    "times1 = []\n",
    "names1 = []\n",
    "accuracies1 = []"
   ]
  },
  {
   "cell_type": "code",
   "execution_count": 8,
   "metadata": {},
   "outputs": [
    {
     "name": "stderr",
     "output_type": "stream",
     "text": [
      "[flaml.automl: 06-07 20:23:27] {2105} INFO - task = classification\n",
      "[flaml.automl: 06-07 20:23:27] {2107} INFO - Data split method: KFold(n_splits=3, random_state=444, shuffle=True)\n",
      "[flaml.automl: 06-07 20:23:27] {2111} INFO - Evaluation method: cv\n",
      "[flaml.automl: 06-07 20:23:27] {2188} INFO - Minimizing error metric: 1-roc_auc\n",
      "[flaml.automl: 06-07 20:23:27] {2281} INFO - List of ML learners in AutoML Run: ['lgbm', 'rf', 'catboost', 'xgboost', 'extra_tree', 'xgb_limitdepth', 'lrl1']\n",
      "[flaml.automl: 06-07 20:23:27] {2567} INFO - iteration 0, current learner lgbm\n",
      "[flaml.automl: 06-07 20:23:27] {2697} INFO - Estimated sufficient time budget=670s. Estimated necessary time budget=16s.\n",
      "[flaml.automl: 06-07 20:23:27] {2744} INFO -  at 0.1s,\testimator lgbm's best error=0.2561,\tbest estimator lgbm's best error=0.2561\n",
      "[flaml.automl: 06-07 20:23:27] {2567} INFO - iteration 1, current learner lgbm\n",
      "[flaml.automl: 06-07 20:23:27] {2744} INFO -  at 0.2s,\testimator lgbm's best error=0.2561,\tbest estimator lgbm's best error=0.2561\n",
      "[flaml.automl: 06-07 20:23:27] {2567} INFO - iteration 2, current learner lgbm\n",
      "[flaml.automl: 06-07 20:23:27] {2744} INFO -  at 0.2s,\testimator lgbm's best error=0.2412,\tbest estimator lgbm's best error=0.2412\n",
      "[flaml.automl: 06-07 20:23:27] {2567} INFO - iteration 3, current learner lgbm\n",
      "[flaml.automl: 06-07 20:23:27] {2744} INFO -  at 0.2s,\testimator lgbm's best error=0.2273,\tbest estimator lgbm's best error=0.2273\n",
      "[flaml.automl: 06-07 20:23:27] {2567} INFO - iteration 4, current learner lgbm\n",
      "[flaml.automl: 06-07 20:23:27] {2744} INFO -  at 0.3s,\testimator lgbm's best error=0.2273,\tbest estimator lgbm's best error=0.2273\n",
      "[flaml.automl: 06-07 20:23:27] {2567} INFO - iteration 5, current learner lgbm\n",
      "[flaml.automl: 06-07 20:23:27] {2744} INFO -  at 0.3s,\testimator lgbm's best error=0.2273,\tbest estimator lgbm's best error=0.2273\n",
      "[flaml.automl: 06-07 20:23:27] {2567} INFO - iteration 6, current learner lgbm\n",
      "[flaml.automl: 06-07 20:23:27] {2744} INFO -  at 0.4s,\testimator lgbm's best error=0.2273,\tbest estimator lgbm's best error=0.2273\n",
      "[flaml.automl: 06-07 20:23:27] {2567} INFO - iteration 7, current learner xgboost\n",
      "C:\\Users\\micha\\anaconda3\\lib\\site-packages\\xgboost\\data.py:208: FutureWarning: pandas.Int64Index is deprecated and will be removed from pandas in a future version. Use pandas.Index with the appropriate dtype instead.\n",
      "  from pandas import MultiIndex, Int64Index\n",
      "C:\\Users\\micha\\anaconda3\\lib\\site-packages\\xgboost\\data.py:208: FutureWarning: pandas.Int64Index is deprecated and will be removed from pandas in a future version. Use pandas.Index with the appropriate dtype instead.\n",
      "  from pandas import MultiIndex, Int64Index\n",
      "C:\\Users\\micha\\anaconda3\\lib\\site-packages\\xgboost\\data.py:208: FutureWarning: pandas.Int64Index is deprecated and will be removed from pandas in a future version. Use pandas.Index with the appropriate dtype instead.\n",
      "  from pandas import MultiIndex, Int64Index\n",
      "[flaml.automl: 06-07 20:23:27] {2744} INFO -  at 0.4s,\testimator xgboost's best error=0.2589,\tbest estimator lgbm's best error=0.2273\n",
      "[flaml.automl: 06-07 20:23:27] {2567} INFO - iteration 8, current learner lgbm\n",
      "[flaml.automl: 06-07 20:23:27] {2744} INFO -  at 0.5s,\testimator lgbm's best error=0.2273,\tbest estimator lgbm's best error=0.2273\n",
      "[flaml.automl: 06-07 20:23:27] {2567} INFO - iteration 9, current learner xgboost\n",
      "C:\\Users\\micha\\anaconda3\\lib\\site-packages\\xgboost\\data.py:208: FutureWarning: pandas.Int64Index is deprecated and will be removed from pandas in a future version. Use pandas.Index with the appropriate dtype instead.\n",
      "  from pandas import MultiIndex, Int64Index\n",
      "C:\\Users\\micha\\anaconda3\\lib\\site-packages\\xgboost\\data.py:208: FutureWarning: pandas.Int64Index is deprecated and will be removed from pandas in a future version. Use pandas.Index with the appropriate dtype instead.\n",
      "  from pandas import MultiIndex, Int64Index\n",
      "C:\\Users\\micha\\anaconda3\\lib\\site-packages\\xgboost\\data.py:208: FutureWarning: pandas.Int64Index is deprecated and will be removed from pandas in a future version. Use pandas.Index with the appropriate dtype instead.\n",
      "  from pandas import MultiIndex, Int64Index\n",
      "[flaml.automl: 06-07 20:23:28] {2744} INFO -  at 0.5s,\testimator xgboost's best error=0.2589,\tbest estimator lgbm's best error=0.2273\n",
      "[flaml.automl: 06-07 20:23:28] {2567} INFO - iteration 10, current learner xgboost\n",
      "C:\\Users\\micha\\anaconda3\\lib\\site-packages\\xgboost\\data.py:208: FutureWarning: pandas.Int64Index is deprecated and will be removed from pandas in a future version. Use pandas.Index with the appropriate dtype instead.\n",
      "  from pandas import MultiIndex, Int64Index\n",
      "C:\\Users\\micha\\anaconda3\\lib\\site-packages\\xgboost\\data.py:208: FutureWarning: pandas.Int64Index is deprecated and will be removed from pandas in a future version. Use pandas.Index with the appropriate dtype instead.\n",
      "  from pandas import MultiIndex, Int64Index\n",
      "C:\\Users\\micha\\anaconda3\\lib\\site-packages\\xgboost\\data.py:208: FutureWarning: pandas.Int64Index is deprecated and will be removed from pandas in a future version. Use pandas.Index with the appropriate dtype instead.\n",
      "  from pandas import MultiIndex, Int64Index\n",
      "[flaml.automl: 06-07 20:23:28] {2744} INFO -  at 0.6s,\testimator xgboost's best error=0.2537,\tbest estimator lgbm's best error=0.2273\n",
      "[flaml.automl: 06-07 20:23:28] {2567} INFO - iteration 11, current learner extra_tree\n",
      "[flaml.automl: 06-07 20:23:28] {2744} INFO -  at 0.7s,\testimator extra_tree's best error=0.2824,\tbest estimator lgbm's best error=0.2273\n",
      "[flaml.automl: 06-07 20:23:28] {2567} INFO - iteration 12, current learner extra_tree\n",
      "[flaml.automl: 06-07 20:23:28] {2744} INFO -  at 0.8s,\testimator extra_tree's best error=0.2463,\tbest estimator lgbm's best error=0.2273\n",
      "[flaml.automl: 06-07 20:23:28] {2567} INFO - iteration 13, current learner xgboost\n",
      "C:\\Users\\micha\\anaconda3\\lib\\site-packages\\xgboost\\data.py:208: FutureWarning: pandas.Int64Index is deprecated and will be removed from pandas in a future version. Use pandas.Index with the appropriate dtype instead.\n",
      "  from pandas import MultiIndex, Int64Index\n",
      "C:\\Users\\micha\\anaconda3\\lib\\site-packages\\xgboost\\data.py:208: FutureWarning: pandas.Int64Index is deprecated and will be removed from pandas in a future version. Use pandas.Index with the appropriate dtype instead.\n",
      "  from pandas import MultiIndex, Int64Index\n",
      "C:\\Users\\micha\\anaconda3\\lib\\site-packages\\xgboost\\data.py:208: FutureWarning: pandas.Int64Index is deprecated and will be removed from pandas in a future version. Use pandas.Index with the appropriate dtype instead.\n",
      "  from pandas import MultiIndex, Int64Index\n",
      "[flaml.automl: 06-07 20:23:28] {2744} INFO -  at 0.9s,\testimator xgboost's best error=0.2414,\tbest estimator lgbm's best error=0.2273\n",
      "[flaml.automl: 06-07 20:23:28] {2567} INFO - iteration 14, current learner extra_tree\n",
      "[flaml.automl: 06-07 20:23:28] {2744} INFO -  at 1.0s,\testimator extra_tree's best error=0.2463,\tbest estimator lgbm's best error=0.2273\n",
      "[flaml.automl: 06-07 20:23:28] {2567} INFO - iteration 15, current learner rf\n",
      "[flaml.automl: 06-07 20:23:28] {2744} INFO -  at 1.1s,\testimator rf's best error=0.2951,\tbest estimator lgbm's best error=0.2273\n",
      "[flaml.automl: 06-07 20:23:28] {2567} INFO - iteration 16, current learner lgbm\n",
      "[flaml.automl: 06-07 20:23:28] {2744} INFO -  at 1.2s,\testimator lgbm's best error=0.2116,\tbest estimator lgbm's best error=0.2116\n",
      "[flaml.automl: 06-07 20:23:28] {2567} INFO - iteration 17, current learner extra_tree\n",
      "[flaml.automl: 06-07 20:23:28] {2744} INFO -  at 1.4s,\testimator extra_tree's best error=0.2463,\tbest estimator lgbm's best error=0.2116\n",
      "[flaml.automl: 06-07 20:23:28] {2567} INFO - iteration 18, current learner lgbm\n",
      "[flaml.automl: 06-07 20:23:28] {2744} INFO -  at 1.4s,\testimator lgbm's best error=0.2116,\tbest estimator lgbm's best error=0.2116\n",
      "[flaml.automl: 06-07 20:23:28] {2567} INFO - iteration 19, current learner rf\n",
      "[flaml.automl: 06-07 20:23:28] {2744} INFO -  at 1.5s,\testimator rf's best error=0.2410,\tbest estimator lgbm's best error=0.2116\n",
      "[flaml.automl: 06-07 20:23:28] {2567} INFO - iteration 20, current learner rf\n",
      "[flaml.automl: 06-07 20:23:29] {2744} INFO -  at 1.6s,\testimator rf's best error=0.2410,\tbest estimator lgbm's best error=0.2116\n"
     ]
    },
    {
     "name": "stderr",
     "output_type": "stream",
     "text": [
      "[flaml.automl: 06-07 20:23:29] {2567} INFO - iteration 21, current learner rf\n",
      "[flaml.automl: 06-07 20:23:29] {2744} INFO -  at 1.8s,\testimator rf's best error=0.2410,\tbest estimator lgbm's best error=0.2116\n",
      "[flaml.automl: 06-07 20:23:29] {2567} INFO - iteration 22, current learner lgbm\n",
      "[flaml.automl: 06-07 20:23:29] {2744} INFO -  at 1.9s,\testimator lgbm's best error=0.2116,\tbest estimator lgbm's best error=0.2116\n",
      "[flaml.automl: 06-07 20:23:29] {2567} INFO - iteration 23, current learner lgbm\n",
      "[flaml.automl: 06-07 20:23:29] {2744} INFO -  at 1.9s,\testimator lgbm's best error=0.2116,\tbest estimator lgbm's best error=0.2116\n",
      "[flaml.automl: 06-07 20:23:29] {2567} INFO - iteration 24, current learner xgboost\n",
      "C:\\Users\\micha\\anaconda3\\lib\\site-packages\\xgboost\\data.py:208: FutureWarning: pandas.Int64Index is deprecated and will be removed from pandas in a future version. Use pandas.Index with the appropriate dtype instead.\n",
      "  from pandas import MultiIndex, Int64Index\n",
      "C:\\Users\\micha\\anaconda3\\lib\\site-packages\\xgboost\\data.py:208: FutureWarning: pandas.Int64Index is deprecated and will be removed from pandas in a future version. Use pandas.Index with the appropriate dtype instead.\n",
      "  from pandas import MultiIndex, Int64Index\n",
      "C:\\Users\\micha\\anaconda3\\lib\\site-packages\\xgboost\\data.py:208: FutureWarning: pandas.Int64Index is deprecated and will be removed from pandas in a future version. Use pandas.Index with the appropriate dtype instead.\n",
      "  from pandas import MultiIndex, Int64Index\n",
      "[flaml.automl: 06-07 20:23:29] {2744} INFO -  at 2.0s,\testimator xgboost's best error=0.2414,\tbest estimator lgbm's best error=0.2116\n",
      "[flaml.automl: 06-07 20:23:29] {2567} INFO - iteration 25, current learner extra_tree\n",
      "[flaml.automl: 06-07 20:23:29] {2744} INFO -  at 2.1s,\testimator extra_tree's best error=0.2335,\tbest estimator lgbm's best error=0.2116\n",
      "[flaml.automl: 06-07 20:23:29] {2567} INFO - iteration 26, current learner lgbm\n",
      "[flaml.automl: 06-07 20:23:29] {2744} INFO -  at 2.2s,\testimator lgbm's best error=0.2116,\tbest estimator lgbm's best error=0.2116\n",
      "[flaml.automl: 06-07 20:23:29] {2567} INFO - iteration 27, current learner rf\n",
      "[flaml.automl: 06-07 20:23:29] {2744} INFO -  at 2.3s,\testimator rf's best error=0.2410,\tbest estimator lgbm's best error=0.2116\n",
      "[flaml.automl: 06-07 20:23:29] {2567} INFO - iteration 28, current learner xgboost\n",
      "C:\\Users\\micha\\anaconda3\\lib\\site-packages\\xgboost\\data.py:208: FutureWarning: pandas.Int64Index is deprecated and will be removed from pandas in a future version. Use pandas.Index with the appropriate dtype instead.\n",
      "  from pandas import MultiIndex, Int64Index\n",
      "C:\\Users\\micha\\anaconda3\\lib\\site-packages\\xgboost\\data.py:208: FutureWarning: pandas.Int64Index is deprecated and will be removed from pandas in a future version. Use pandas.Index with the appropriate dtype instead.\n",
      "  from pandas import MultiIndex, Int64Index\n",
      "C:\\Users\\micha\\anaconda3\\lib\\site-packages\\xgboost\\data.py:208: FutureWarning: pandas.Int64Index is deprecated and will be removed from pandas in a future version. Use pandas.Index with the appropriate dtype instead.\n",
      "  from pandas import MultiIndex, Int64Index\n",
      "[flaml.automl: 06-07 20:23:29] {2744} INFO -  at 2.4s,\testimator xgboost's best error=0.2414,\tbest estimator lgbm's best error=0.2116\n",
      "[flaml.automl: 06-07 20:23:29] {2567} INFO - iteration 29, current learner xgboost\n",
      "C:\\Users\\micha\\anaconda3\\lib\\site-packages\\xgboost\\data.py:208: FutureWarning: pandas.Int64Index is deprecated and will be removed from pandas in a future version. Use pandas.Index with the appropriate dtype instead.\n",
      "  from pandas import MultiIndex, Int64Index\n",
      "C:\\Users\\micha\\anaconda3\\lib\\site-packages\\xgboost\\data.py:208: FutureWarning: pandas.Int64Index is deprecated and will be removed from pandas in a future version. Use pandas.Index with the appropriate dtype instead.\n",
      "  from pandas import MultiIndex, Int64Index\n",
      "C:\\Users\\micha\\anaconda3\\lib\\site-packages\\xgboost\\data.py:208: FutureWarning: pandas.Int64Index is deprecated and will be removed from pandas in a future version. Use pandas.Index with the appropriate dtype instead.\n",
      "  from pandas import MultiIndex, Int64Index\n",
      "[flaml.automl: 06-07 20:23:29] {2744} INFO -  at 2.4s,\testimator xgboost's best error=0.2414,\tbest estimator lgbm's best error=0.2116\n",
      "[flaml.automl: 06-07 20:23:29] {2567} INFO - iteration 30, current learner lgbm\n",
      "[flaml.automl: 06-07 20:23:29] {2744} INFO -  at 2.5s,\testimator lgbm's best error=0.2116,\tbest estimator lgbm's best error=0.2116\n",
      "[flaml.automl: 06-07 20:23:29] {2567} INFO - iteration 31, current learner lgbm\n",
      "[flaml.automl: 06-07 20:23:30] {2744} INFO -  at 2.5s,\testimator lgbm's best error=0.2116,\tbest estimator lgbm's best error=0.2116\n",
      "[flaml.automl: 06-07 20:23:30] {2567} INFO - iteration 32, current learner lgbm\n",
      "[flaml.automl: 06-07 20:23:30] {2744} INFO -  at 2.6s,\testimator lgbm's best error=0.2116,\tbest estimator lgbm's best error=0.2116\n",
      "[flaml.automl: 06-07 20:23:30] {2567} INFO - iteration 33, current learner extra_tree\n",
      "[flaml.automl: 06-07 20:23:30] {2744} INFO -  at 2.7s,\testimator extra_tree's best error=0.2335,\tbest estimator lgbm's best error=0.2116\n",
      "[flaml.automl: 06-07 20:23:30] {2567} INFO - iteration 34, current learner lgbm\n",
      "[flaml.automl: 06-07 20:23:30] {2744} INFO -  at 2.8s,\testimator lgbm's best error=0.2116,\tbest estimator lgbm's best error=0.2116\n",
      "[flaml.automl: 06-07 20:23:30] {2567} INFO - iteration 35, current learner lgbm\n",
      "[flaml.automl: 06-07 20:23:30] {2744} INFO -  at 2.8s,\testimator lgbm's best error=0.2116,\tbest estimator lgbm's best error=0.2116\n",
      "[flaml.automl: 06-07 20:23:30] {2567} INFO - iteration 36, current learner extra_tree\n",
      "[flaml.automl: 06-07 20:23:30] {2744} INFO -  at 2.9s,\testimator extra_tree's best error=0.2335,\tbest estimator lgbm's best error=0.2116\n",
      "[flaml.automl: 06-07 20:23:30] {2567} INFO - iteration 37, current learner rf\n",
      "[flaml.automl: 06-07 20:23:30] {2744} INFO -  at 3.1s,\testimator rf's best error=0.2410,\tbest estimator lgbm's best error=0.2116\n",
      "[flaml.automl: 06-07 20:23:30] {2567} INFO - iteration 38, current learner rf\n",
      "[flaml.automl: 06-07 20:23:30] {2744} INFO -  at 3.3s,\testimator rf's best error=0.2410,\tbest estimator lgbm's best error=0.2116\n",
      "[flaml.automl: 06-07 20:23:30] {2567} INFO - iteration 39, current learner lgbm\n",
      "[flaml.automl: 06-07 20:23:30] {2744} INFO -  at 3.3s,\testimator lgbm's best error=0.2116,\tbest estimator lgbm's best error=0.2116\n",
      "[flaml.automl: 06-07 20:23:30] {2567} INFO - iteration 40, current learner rf\n",
      "[flaml.automl: 06-07 20:23:31] {2744} INFO -  at 3.5s,\testimator rf's best error=0.2351,\tbest estimator lgbm's best error=0.2116\n",
      "[flaml.automl: 06-07 20:23:31] {2567} INFO - iteration 41, current learner xgboost\n",
      "C:\\Users\\micha\\anaconda3\\lib\\site-packages\\xgboost\\data.py:208: FutureWarning: pandas.Int64Index is deprecated and will be removed from pandas in a future version. Use pandas.Index with the appropriate dtype instead.\n",
      "  from pandas import MultiIndex, Int64Index\n",
      "C:\\Users\\micha\\anaconda3\\lib\\site-packages\\xgboost\\data.py:208: FutureWarning: pandas.Int64Index is deprecated and will be removed from pandas in a future version. Use pandas.Index with the appropriate dtype instead.\n",
      "  from pandas import MultiIndex, Int64Index\n",
      "C:\\Users\\micha\\anaconda3\\lib\\site-packages\\xgboost\\data.py:208: FutureWarning: pandas.Int64Index is deprecated and will be removed from pandas in a future version. Use pandas.Index with the appropriate dtype instead.\n",
      "  from pandas import MultiIndex, Int64Index\n",
      "[flaml.automl: 06-07 20:23:31] {2744} INFO -  at 3.6s,\testimator xgboost's best error=0.2414,\tbest estimator lgbm's best error=0.2116\n",
      "[flaml.automl: 06-07 20:23:31] {2567} INFO - iteration 42, current learner lgbm\n",
      "[flaml.automl: 06-07 20:23:31] {2744} INFO -  at 3.7s,\testimator lgbm's best error=0.2116,\tbest estimator lgbm's best error=0.2116\n",
      "[flaml.automl: 06-07 20:23:31] {2567} INFO - iteration 43, current learner xgboost\n",
      "C:\\Users\\micha\\anaconda3\\lib\\site-packages\\xgboost\\data.py:208: FutureWarning: pandas.Int64Index is deprecated and will be removed from pandas in a future version. Use pandas.Index with the appropriate dtype instead.\n",
      "  from pandas import MultiIndex, Int64Index\n",
      "C:\\Users\\micha\\anaconda3\\lib\\site-packages\\xgboost\\data.py:208: FutureWarning: pandas.Int64Index is deprecated and will be removed from pandas in a future version. Use pandas.Index with the appropriate dtype instead.\n",
      "  from pandas import MultiIndex, Int64Index\n",
      "C:\\Users\\micha\\anaconda3\\lib\\site-packages\\xgboost\\data.py:208: FutureWarning: pandas.Int64Index is deprecated and will be removed from pandas in a future version. Use pandas.Index with the appropriate dtype instead.\n",
      "  from pandas import MultiIndex, Int64Index\n",
      "[flaml.automl: 06-07 20:23:31] {2744} INFO -  at 3.7s,\testimator xgboost's best error=0.2410,\tbest estimator lgbm's best error=0.2116\n"
     ]
    },
    {
     "name": "stderr",
     "output_type": "stream",
     "text": [
      "[flaml.automl: 06-07 20:23:31] {2567} INFO - iteration 44, current learner extra_tree\n",
      "[flaml.automl: 06-07 20:23:31] {2744} INFO -  at 3.9s,\testimator extra_tree's best error=0.2287,\tbest estimator lgbm's best error=0.2116\n",
      "[flaml.automl: 06-07 20:23:31] {2567} INFO - iteration 45, current learner lgbm\n",
      "[flaml.automl: 06-07 20:23:31] {2744} INFO -  at 4.0s,\testimator lgbm's best error=0.2080,\tbest estimator lgbm's best error=0.2080\n",
      "[flaml.automl: 06-07 20:23:31] {2567} INFO - iteration 46, current learner lgbm\n",
      "[flaml.automl: 06-07 20:23:31] {2744} INFO -  at 4.0s,\testimator lgbm's best error=0.2080,\tbest estimator lgbm's best error=0.2080\n",
      "[flaml.automl: 06-07 20:23:31] {2567} INFO - iteration 47, current learner lgbm\n",
      "[flaml.automl: 06-07 20:23:31] {2744} INFO -  at 4.1s,\testimator lgbm's best error=0.2080,\tbest estimator lgbm's best error=0.2080\n",
      "[flaml.automl: 06-07 20:23:31] {2567} INFO - iteration 48, current learner lgbm\n",
      "[flaml.automl: 06-07 20:23:31] {2744} INFO -  at 4.2s,\testimator lgbm's best error=0.2080,\tbest estimator lgbm's best error=0.2080\n",
      "[flaml.automl: 06-07 20:23:31] {2567} INFO - iteration 49, current learner lgbm\n",
      "[flaml.automl: 06-07 20:23:31] {2744} INFO -  at 4.2s,\testimator lgbm's best error=0.2080,\tbest estimator lgbm's best error=0.2080\n",
      "[flaml.automl: 06-07 20:23:31] {2567} INFO - iteration 50, current learner extra_tree\n",
      "[flaml.automl: 06-07 20:23:31] {2744} INFO -  at 4.3s,\testimator extra_tree's best error=0.2287,\tbest estimator lgbm's best error=0.2080\n",
      "[flaml.automl: 06-07 20:23:31] {2567} INFO - iteration 51, current learner lgbm\n",
      "[flaml.automl: 06-07 20:23:31] {2744} INFO -  at 4.4s,\testimator lgbm's best error=0.2080,\tbest estimator lgbm's best error=0.2080\n",
      "[flaml.automl: 06-07 20:23:31] {2567} INFO - iteration 52, current learner lgbm\n",
      "[flaml.automl: 06-07 20:23:31] {2744} INFO -  at 4.5s,\testimator lgbm's best error=0.2080,\tbest estimator lgbm's best error=0.2080\n",
      "[flaml.automl: 06-07 20:23:31] {2567} INFO - iteration 53, current learner lgbm\n",
      "[flaml.automl: 06-07 20:23:32] {2744} INFO -  at 4.5s,\testimator lgbm's best error=0.2080,\tbest estimator lgbm's best error=0.2080\n",
      "[flaml.automl: 06-07 20:23:32] {2567} INFO - iteration 54, current learner lgbm\n",
      "[flaml.automl: 06-07 20:23:32] {2744} INFO -  at 4.6s,\testimator lgbm's best error=0.2080,\tbest estimator lgbm's best error=0.2080\n",
      "[flaml.automl: 06-07 20:23:32] {2567} INFO - iteration 55, current learner lgbm\n",
      "[flaml.automl: 06-07 20:23:32] {2744} INFO -  at 4.6s,\testimator lgbm's best error=0.2080,\tbest estimator lgbm's best error=0.2080\n",
      "[flaml.automl: 06-07 20:23:32] {2567} INFO - iteration 56, current learner lgbm\n",
      "[flaml.automl: 06-07 20:23:32] {2744} INFO -  at 4.7s,\testimator lgbm's best error=0.2080,\tbest estimator lgbm's best error=0.2080\n",
      "[flaml.automl: 06-07 20:23:32] {2567} INFO - iteration 57, current learner lgbm\n",
      "[flaml.automl: 06-07 20:23:32] {2744} INFO -  at 4.8s,\testimator lgbm's best error=0.2080,\tbest estimator lgbm's best error=0.2080\n",
      "[flaml.automl: 06-07 20:23:32] {2567} INFO - iteration 58, current learner lgbm\n",
      "[flaml.automl: 06-07 20:23:32] {2744} INFO -  at 4.8s,\testimator lgbm's best error=0.2080,\tbest estimator lgbm's best error=0.2080\n",
      "[flaml.automl: 06-07 20:23:32] {2567} INFO - iteration 59, current learner lgbm\n",
      "[flaml.automl: 06-07 20:23:32] {2744} INFO -  at 4.9s,\testimator lgbm's best error=0.2080,\tbest estimator lgbm's best error=0.2080\n",
      "[flaml.automl: 06-07 20:23:32] {2567} INFO - iteration 60, current learner lgbm\n",
      "[flaml.automl: 06-07 20:23:32] {2744} INFO -  at 4.9s,\testimator lgbm's best error=0.2080,\tbest estimator lgbm's best error=0.2080\n",
      "[flaml.automl: 06-07 20:23:32] {2567} INFO - iteration 61, current learner lgbm\n",
      "[flaml.automl: 06-07 20:23:32] {2744} INFO -  at 5.0s,\testimator lgbm's best error=0.2080,\tbest estimator lgbm's best error=0.2080\n",
      "[flaml.automl: 06-07 20:23:32] {2567} INFO - iteration 62, current learner lgbm\n",
      "[flaml.automl: 06-07 20:23:32] {2744} INFO -  at 5.1s,\testimator lgbm's best error=0.2080,\tbest estimator lgbm's best error=0.2080\n",
      "[flaml.automl: 06-07 20:23:32] {2567} INFO - iteration 63, current learner lgbm\n",
      "[flaml.automl: 06-07 20:23:32] {2744} INFO -  at 5.1s,\testimator lgbm's best error=0.2080,\tbest estimator lgbm's best error=0.2080\n",
      "[flaml.automl: 06-07 20:23:32] {2567} INFO - iteration 64, current learner catboost\n",
      "[flaml.automl: 06-07 20:23:33] {2744} INFO -  at 5.6s,\testimator catboost's best error=0.2347,\tbest estimator lgbm's best error=0.2080\n",
      "[flaml.automl: 06-07 20:23:33] {2567} INFO - iteration 65, current learner lgbm\n",
      "[flaml.automl: 06-07 20:23:33] {2744} INFO -  at 5.6s,\testimator lgbm's best error=0.2080,\tbest estimator lgbm's best error=0.2080\n",
      "[flaml.automl: 06-07 20:23:33] {2567} INFO - iteration 66, current learner catboost\n",
      "[flaml.automl: 06-07 20:23:33] {2744} INFO -  at 6.1s,\testimator catboost's best error=0.2251,\tbest estimator lgbm's best error=0.2080\n",
      "[flaml.automl: 06-07 20:23:33] {2567} INFO - iteration 67, current learner catboost\n",
      "[flaml.automl: 06-07 20:23:34] {2744} INFO -  at 6.6s,\testimator catboost's best error=0.2251,\tbest estimator lgbm's best error=0.2080\n",
      "[flaml.automl: 06-07 20:23:34] {2567} INFO - iteration 68, current learner lgbm\n",
      "[flaml.automl: 06-07 20:23:34] {2744} INFO -  at 6.7s,\testimator lgbm's best error=0.2080,\tbest estimator lgbm's best error=0.2080\n",
      "[flaml.automl: 06-07 20:23:34] {2567} INFO - iteration 69, current learner lgbm\n",
      "[flaml.automl: 06-07 20:23:34] {2744} INFO -  at 6.8s,\testimator lgbm's best error=0.2080,\tbest estimator lgbm's best error=0.2080\n",
      "[flaml.automl: 06-07 20:23:34] {2567} INFO - iteration 70, current learner lgbm\n",
      "[flaml.automl: 06-07 20:23:34] {2744} INFO -  at 6.8s,\testimator lgbm's best error=0.2080,\tbest estimator lgbm's best error=0.2080\n",
      "[flaml.automl: 06-07 20:23:34] {2567} INFO - iteration 71, current learner catboost\n",
      "[flaml.automl: 06-07 20:23:34] {2744} INFO -  at 7.5s,\testimator catboost's best error=0.2134,\tbest estimator lgbm's best error=0.2080\n",
      "[flaml.automl: 06-07 20:23:34] {2567} INFO - iteration 72, current learner catboost\n",
      "[flaml.automl: 06-07 20:23:35] {2744} INFO -  at 8.0s,\testimator catboost's best error=0.2134,\tbest estimator lgbm's best error=0.2080\n",
      "[flaml.automl: 06-07 20:23:35] {2567} INFO - iteration 73, current learner extra_tree\n",
      "[flaml.automl: 06-07 20:23:35] {2744} INFO -  at 8.3s,\testimator extra_tree's best error=0.2287,\tbest estimator lgbm's best error=0.2080\n",
      "[flaml.automl: 06-07 20:23:35] {2567} INFO - iteration 74, current learner catboost\n",
      "[flaml.automl: 06-07 20:23:36] {2744} INFO -  at 9.2s,\testimator catboost's best error=0.2134,\tbest estimator lgbm's best error=0.2080\n",
      "[flaml.automl: 06-07 20:23:36] {2567} INFO - iteration 75, current learner xgboost\n",
      "C:\\Users\\micha\\anaconda3\\lib\\site-packages\\xgboost\\data.py:208: FutureWarning: pandas.Int64Index is deprecated and will be removed from pandas in a future version. Use pandas.Index with the appropriate dtype instead.\n",
      "  from pandas import MultiIndex, Int64Index\n",
      "C:\\Users\\micha\\anaconda3\\lib\\site-packages\\xgboost\\data.py:208: FutureWarning: pandas.Int64Index is deprecated and will be removed from pandas in a future version. Use pandas.Index with the appropriate dtype instead.\n",
      "  from pandas import MultiIndex, Int64Index\n",
      "C:\\Users\\micha\\anaconda3\\lib\\site-packages\\xgboost\\data.py:208: FutureWarning: pandas.Int64Index is deprecated and will be removed from pandas in a future version. Use pandas.Index with the appropriate dtype instead.\n",
      "  from pandas import MultiIndex, Int64Index\n",
      "[flaml.automl: 06-07 20:23:36] {2744} INFO -  at 9.3s,\testimator xgboost's best error=0.2324,\tbest estimator lgbm's best error=0.2080\n",
      "[flaml.automl: 06-07 20:23:36] {2567} INFO - iteration 76, current learner lgbm\n",
      "[flaml.automl: 06-07 20:23:36] {2744} INFO -  at 9.4s,\testimator lgbm's best error=0.2040,\tbest estimator lgbm's best error=0.2040\n",
      "[flaml.automl: 06-07 20:23:36] {2567} INFO - iteration 77, current learner lgbm\n",
      "[flaml.automl: 06-07 20:23:37] {2744} INFO -  at 9.6s,\testimator lgbm's best error=0.2040,\tbest estimator lgbm's best error=0.2040\n",
      "[flaml.automl: 06-07 20:23:37] {2567} INFO - iteration 78, current learner xgboost\n",
      "C:\\Users\\micha\\anaconda3\\lib\\site-packages\\xgboost\\data.py:208: FutureWarning: pandas.Int64Index is deprecated and will be removed from pandas in a future version. Use pandas.Index with the appropriate dtype instead.\n",
      "  from pandas import MultiIndex, Int64Index\n",
      "C:\\Users\\micha\\anaconda3\\lib\\site-packages\\xgboost\\data.py:208: FutureWarning: pandas.Int64Index is deprecated and will be removed from pandas in a future version. Use pandas.Index with the appropriate dtype instead.\n",
      "  from pandas import MultiIndex, Int64Index\n"
     ]
    },
    {
     "name": "stderr",
     "output_type": "stream",
     "text": [
      "C:\\Users\\micha\\anaconda3\\lib\\site-packages\\xgboost\\data.py:208: FutureWarning: pandas.Int64Index is deprecated and will be removed from pandas in a future version. Use pandas.Index with the appropriate dtype instead.\n",
      "  from pandas import MultiIndex, Int64Index\n",
      "[flaml.automl: 06-07 20:23:37] {2744} INFO -  at 9.6s,\testimator xgboost's best error=0.2324,\tbest estimator lgbm's best error=0.2040\n",
      "[flaml.automl: 06-07 20:23:37] {2567} INFO - iteration 79, current learner catboost\n",
      "[flaml.automl: 06-07 20:23:37] {2744} INFO -  at 10.0s,\testimator catboost's best error=0.2134,\tbest estimator lgbm's best error=0.2040\n",
      "[flaml.automl: 06-07 20:23:37] {2567} INFO - iteration 80, current learner lgbm\n",
      "[flaml.automl: 06-07 20:23:37] {2744} INFO -  at 10.1s,\testimator lgbm's best error=0.2040,\tbest estimator lgbm's best error=0.2040\n",
      "[flaml.automl: 06-07 20:23:37] {2567} INFO - iteration 81, current learner xgboost\n",
      "C:\\Users\\micha\\anaconda3\\lib\\site-packages\\xgboost\\data.py:208: FutureWarning: pandas.Int64Index is deprecated and will be removed from pandas in a future version. Use pandas.Index with the appropriate dtype instead.\n",
      "  from pandas import MultiIndex, Int64Index\n",
      "C:\\Users\\micha\\anaconda3\\lib\\site-packages\\xgboost\\data.py:208: FutureWarning: pandas.Int64Index is deprecated and will be removed from pandas in a future version. Use pandas.Index with the appropriate dtype instead.\n",
      "  from pandas import MultiIndex, Int64Index\n",
      "C:\\Users\\micha\\anaconda3\\lib\\site-packages\\xgboost\\data.py:208: FutureWarning: pandas.Int64Index is deprecated and will be removed from pandas in a future version. Use pandas.Index with the appropriate dtype instead.\n",
      "  from pandas import MultiIndex, Int64Index\n",
      "[flaml.automl: 06-07 20:23:37] {2744} INFO -  at 10.2s,\testimator xgboost's best error=0.2324,\tbest estimator lgbm's best error=0.2040\n",
      "[flaml.automl: 06-07 20:23:37] {2567} INFO - iteration 82, current learner lgbm\n",
      "[flaml.automl: 06-07 20:23:37] {2744} INFO -  at 10.2s,\testimator lgbm's best error=0.2040,\tbest estimator lgbm's best error=0.2040\n",
      "[flaml.automl: 06-07 20:23:37] {2567} INFO - iteration 83, current learner xgboost\n",
      "C:\\Users\\micha\\anaconda3\\lib\\site-packages\\xgboost\\data.py:208: FutureWarning: pandas.Int64Index is deprecated and will be removed from pandas in a future version. Use pandas.Index with the appropriate dtype instead.\n",
      "  from pandas import MultiIndex, Int64Index\n",
      "C:\\Users\\micha\\anaconda3\\lib\\site-packages\\xgboost\\data.py:208: FutureWarning: pandas.Int64Index is deprecated and will be removed from pandas in a future version. Use pandas.Index with the appropriate dtype instead.\n",
      "  from pandas import MultiIndex, Int64Index\n",
      "C:\\Users\\micha\\anaconda3\\lib\\site-packages\\xgboost\\data.py:208: FutureWarning: pandas.Int64Index is deprecated and will be removed from pandas in a future version. Use pandas.Index with the appropriate dtype instead.\n",
      "  from pandas import MultiIndex, Int64Index\n",
      "[flaml.automl: 06-07 20:23:37] {2744} INFO -  at 10.3s,\testimator xgboost's best error=0.2299,\tbest estimator lgbm's best error=0.2040\n",
      "[flaml.automl: 06-07 20:23:37] {2567} INFO - iteration 84, current learner catboost\n",
      "[flaml.automl: 06-07 20:23:38] {2744} INFO -  at 11.1s,\testimator catboost's best error=0.2134,\tbest estimator lgbm's best error=0.2040\n",
      "[flaml.automl: 06-07 20:23:38] {2567} INFO - iteration 85, current learner xgboost\n",
      "C:\\Users\\micha\\anaconda3\\lib\\site-packages\\xgboost\\data.py:208: FutureWarning: pandas.Int64Index is deprecated and will be removed from pandas in a future version. Use pandas.Index with the appropriate dtype instead.\n",
      "  from pandas import MultiIndex, Int64Index\n",
      "C:\\Users\\micha\\anaconda3\\lib\\site-packages\\xgboost\\data.py:208: FutureWarning: pandas.Int64Index is deprecated and will be removed from pandas in a future version. Use pandas.Index with the appropriate dtype instead.\n",
      "  from pandas import MultiIndex, Int64Index\n",
      "C:\\Users\\micha\\anaconda3\\lib\\site-packages\\xgboost\\data.py:208: FutureWarning: pandas.Int64Index is deprecated and will be removed from pandas in a future version. Use pandas.Index with the appropriate dtype instead.\n",
      "  from pandas import MultiIndex, Int64Index\n",
      "[flaml.automl: 06-07 20:23:38] {2744} INFO -  at 11.2s,\testimator xgboost's best error=0.2299,\tbest estimator lgbm's best error=0.2040\n",
      "[flaml.automl: 06-07 20:23:38] {2567} INFO - iteration 86, current learner rf\n",
      "[flaml.automl: 06-07 20:23:38] {2744} INFO -  at 11.3s,\testimator rf's best error=0.2351,\tbest estimator lgbm's best error=0.2040\n",
      "[flaml.automl: 06-07 20:23:38] {2567} INFO - iteration 87, current learner catboost\n",
      "[flaml.automl: 06-07 20:23:39] {2744} INFO -  at 11.8s,\testimator catboost's best error=0.2134,\tbest estimator lgbm's best error=0.2040\n",
      "[flaml.automl: 06-07 20:23:39] {2567} INFO - iteration 88, current learner lgbm\n",
      "[flaml.automl: 06-07 20:23:39] {2744} INFO -  at 12.0s,\testimator lgbm's best error=0.2040,\tbest estimator lgbm's best error=0.2040\n",
      "[flaml.automl: 06-07 20:23:39] {2567} INFO - iteration 89, current learner lgbm\n",
      "[flaml.automl: 06-07 20:23:39] {2744} INFO -  at 12.1s,\testimator lgbm's best error=0.2040,\tbest estimator lgbm's best error=0.2040\n",
      "[flaml.automl: 06-07 20:23:39] {2567} INFO - iteration 90, current learner xgboost\n",
      "C:\\Users\\micha\\anaconda3\\lib\\site-packages\\xgboost\\data.py:208: FutureWarning: pandas.Int64Index is deprecated and will be removed from pandas in a future version. Use pandas.Index with the appropriate dtype instead.\n",
      "  from pandas import MultiIndex, Int64Index\n",
      "C:\\Users\\micha\\anaconda3\\lib\\site-packages\\xgboost\\data.py:208: FutureWarning: pandas.Int64Index is deprecated and will be removed from pandas in a future version. Use pandas.Index with the appropriate dtype instead.\n",
      "  from pandas import MultiIndex, Int64Index\n",
      "C:\\Users\\micha\\anaconda3\\lib\\site-packages\\xgboost\\data.py:208: FutureWarning: pandas.Int64Index is deprecated and will be removed from pandas in a future version. Use pandas.Index with the appropriate dtype instead.\n",
      "  from pandas import MultiIndex, Int64Index\n",
      "[flaml.automl: 06-07 20:23:39] {2744} INFO -  at 12.2s,\testimator xgboost's best error=0.2258,\tbest estimator lgbm's best error=0.2040\n",
      "[flaml.automl: 06-07 20:23:39] {2567} INFO - iteration 91, current learner lgbm\n",
      "[flaml.automl: 06-07 20:23:39] {2744} INFO -  at 12.4s,\testimator lgbm's best error=0.2040,\tbest estimator lgbm's best error=0.2040\n",
      "[flaml.automl: 06-07 20:23:39] {2567} INFO - iteration 92, current learner extra_tree\n",
      "[flaml.automl: 06-07 20:23:39] {2744} INFO -  at 12.5s,\testimator extra_tree's best error=0.2287,\tbest estimator lgbm's best error=0.2040\n",
      "[flaml.automl: 06-07 20:23:39] {2567} INFO - iteration 93, current learner xgboost\n",
      "C:\\Users\\micha\\anaconda3\\lib\\site-packages\\xgboost\\data.py:208: FutureWarning: pandas.Int64Index is deprecated and will be removed from pandas in a future version. Use pandas.Index with the appropriate dtype instead.\n",
      "  from pandas import MultiIndex, Int64Index\n",
      "C:\\Users\\micha\\anaconda3\\lib\\site-packages\\xgboost\\data.py:208: FutureWarning: pandas.Int64Index is deprecated and will be removed from pandas in a future version. Use pandas.Index with the appropriate dtype instead.\n",
      "  from pandas import MultiIndex, Int64Index\n",
      "C:\\Users\\micha\\anaconda3\\lib\\site-packages\\xgboost\\data.py:208: FutureWarning: pandas.Int64Index is deprecated and will be removed from pandas in a future version. Use pandas.Index with the appropriate dtype instead.\n",
      "  from pandas import MultiIndex, Int64Index\n",
      "[flaml.automl: 06-07 20:23:40] {2744} INFO -  at 12.6s,\testimator xgboost's best error=0.2258,\tbest estimator lgbm's best error=0.2040\n",
      "[flaml.automl: 06-07 20:23:40] {2567} INFO - iteration 94, current learner catboost\n",
      "[flaml.automl: 06-07 20:23:40] {2744} INFO -  at 13.3s,\testimator catboost's best error=0.2134,\tbest estimator lgbm's best error=0.2040\n",
      "[flaml.automl: 06-07 20:23:40] {2567} INFO - iteration 95, current learner lgbm\n",
      "[flaml.automl: 06-07 20:23:40] {2744} INFO -  at 13.4s,\testimator lgbm's best error=0.2040,\tbest estimator lgbm's best error=0.2040\n",
      "[flaml.automl: 06-07 20:23:40] {2567} INFO - iteration 96, current learner extra_tree\n",
      "[flaml.automl: 06-07 20:23:41] {2744} INFO -  at 13.6s,\testimator extra_tree's best error=0.2287,\tbest estimator lgbm's best error=0.2040\n"
     ]
    },
    {
     "name": "stderr",
     "output_type": "stream",
     "text": [
      "[flaml.automl: 06-07 20:23:41] {2567} INFO - iteration 97, current learner lgbm\n",
      "[flaml.automl: 06-07 20:23:41] {2744} INFO -  at 13.8s,\testimator lgbm's best error=0.2040,\tbest estimator lgbm's best error=0.2040\n",
      "[flaml.automl: 06-07 20:23:41] {2567} INFO - iteration 98, current learner catboost\n",
      "[flaml.automl: 06-07 20:23:41] {2744} INFO -  at 14.4s,\testimator catboost's best error=0.2134,\tbest estimator lgbm's best error=0.2040\n",
      "[flaml.automl: 06-07 20:23:41] {2567} INFO - iteration 99, current learner lgbm\n",
      "[flaml.automl: 06-07 20:23:42] {2744} INFO -  at 14.6s,\testimator lgbm's best error=0.2040,\tbest estimator lgbm's best error=0.2040\n",
      "[flaml.automl: 06-07 20:23:42] {2567} INFO - iteration 100, current learner lgbm\n",
      "[flaml.automl: 06-07 20:23:42] {2744} INFO -  at 14.7s,\testimator lgbm's best error=0.2040,\tbest estimator lgbm's best error=0.2040\n",
      "[flaml.automl: 06-07 20:23:42] {2567} INFO - iteration 101, current learner xgboost\n",
      "C:\\Users\\micha\\anaconda3\\lib\\site-packages\\xgboost\\data.py:208: FutureWarning: pandas.Int64Index is deprecated and will be removed from pandas in a future version. Use pandas.Index with the appropriate dtype instead.\n",
      "  from pandas import MultiIndex, Int64Index\n",
      "C:\\Users\\micha\\anaconda3\\lib\\site-packages\\xgboost\\data.py:208: FutureWarning: pandas.Int64Index is deprecated and will be removed from pandas in a future version. Use pandas.Index with the appropriate dtype instead.\n",
      "  from pandas import MultiIndex, Int64Index\n",
      "C:\\Users\\micha\\anaconda3\\lib\\site-packages\\xgboost\\data.py:208: FutureWarning: pandas.Int64Index is deprecated and will be removed from pandas in a future version. Use pandas.Index with the appropriate dtype instead.\n",
      "  from pandas import MultiIndex, Int64Index\n",
      "[flaml.automl: 06-07 20:23:42] {2744} INFO -  at 14.8s,\testimator xgboost's best error=0.2174,\tbest estimator lgbm's best error=0.2040\n",
      "[flaml.automl: 06-07 20:23:42] {2567} INFO - iteration 102, current learner xgboost\n",
      "C:\\Users\\micha\\anaconda3\\lib\\site-packages\\xgboost\\data.py:208: FutureWarning: pandas.Int64Index is deprecated and will be removed from pandas in a future version. Use pandas.Index with the appropriate dtype instead.\n",
      "  from pandas import MultiIndex, Int64Index\n",
      "C:\\Users\\micha\\anaconda3\\lib\\site-packages\\xgboost\\data.py:208: FutureWarning: pandas.Int64Index is deprecated and will be removed from pandas in a future version. Use pandas.Index with the appropriate dtype instead.\n",
      "  from pandas import MultiIndex, Int64Index\n",
      "C:\\Users\\micha\\anaconda3\\lib\\site-packages\\xgboost\\data.py:208: FutureWarning: pandas.Int64Index is deprecated and will be removed from pandas in a future version. Use pandas.Index with the appropriate dtype instead.\n",
      "  from pandas import MultiIndex, Int64Index\n",
      "[flaml.automl: 06-07 20:23:42] {2744} INFO -  at 14.8s,\testimator xgboost's best error=0.2174,\tbest estimator lgbm's best error=0.2040\n",
      "[flaml.automl: 06-07 20:23:42] {2567} INFO - iteration 103, current learner lgbm\n",
      "[flaml.automl: 06-07 20:23:42] {2744} INFO -  at 15.0s,\testimator lgbm's best error=0.2040,\tbest estimator lgbm's best error=0.2040\n",
      "[flaml.automl: 06-07 20:23:42] {2567} INFO - iteration 104, current learner xgboost\n",
      "C:\\Users\\micha\\anaconda3\\lib\\site-packages\\xgboost\\data.py:208: FutureWarning: pandas.Int64Index is deprecated and will be removed from pandas in a future version. Use pandas.Index with the appropriate dtype instead.\n",
      "  from pandas import MultiIndex, Int64Index\n",
      "C:\\Users\\micha\\anaconda3\\lib\\site-packages\\xgboost\\data.py:208: FutureWarning: pandas.Int64Index is deprecated and will be removed from pandas in a future version. Use pandas.Index with the appropriate dtype instead.\n",
      "  from pandas import MultiIndex, Int64Index\n",
      "C:\\Users\\micha\\anaconda3\\lib\\site-packages\\xgboost\\data.py:208: FutureWarning: pandas.Int64Index is deprecated and will be removed from pandas in a future version. Use pandas.Index with the appropriate dtype instead.\n",
      "  from pandas import MultiIndex, Int64Index\n",
      "[flaml.automl: 06-07 20:23:42] {2744} INFO -  at 15.1s,\testimator xgboost's best error=0.2174,\tbest estimator lgbm's best error=0.2040\n",
      "[flaml.automl: 06-07 20:23:42] {2567} INFO - iteration 105, current learner lgbm\n",
      "[flaml.automl: 06-07 20:23:42] {2744} INFO -  at 15.2s,\testimator lgbm's best error=0.2040,\tbest estimator lgbm's best error=0.2040\n",
      "[flaml.automl: 06-07 20:23:42] {2567} INFO - iteration 106, current learner xgboost\n",
      "C:\\Users\\micha\\anaconda3\\lib\\site-packages\\xgboost\\data.py:208: FutureWarning: pandas.Int64Index is deprecated and will be removed from pandas in a future version. Use pandas.Index with the appropriate dtype instead.\n",
      "  from pandas import MultiIndex, Int64Index\n",
      "C:\\Users\\micha\\anaconda3\\lib\\site-packages\\xgboost\\data.py:208: FutureWarning: pandas.Int64Index is deprecated and will be removed from pandas in a future version. Use pandas.Index with the appropriate dtype instead.\n",
      "  from pandas import MultiIndex, Int64Index\n",
      "C:\\Users\\micha\\anaconda3\\lib\\site-packages\\xgboost\\data.py:208: FutureWarning: pandas.Int64Index is deprecated and will be removed from pandas in a future version. Use pandas.Index with the appropriate dtype instead.\n",
      "  from pandas import MultiIndex, Int64Index\n",
      "[flaml.automl: 06-07 20:23:42] {2744} INFO -  at 15.3s,\testimator xgboost's best error=0.2174,\tbest estimator lgbm's best error=0.2040\n",
      "[flaml.automl: 06-07 20:23:42] {2567} INFO - iteration 107, current learner xgboost\n",
      "C:\\Users\\micha\\anaconda3\\lib\\site-packages\\xgboost\\data.py:208: FutureWarning: pandas.Int64Index is deprecated and will be removed from pandas in a future version. Use pandas.Index with the appropriate dtype instead.\n",
      "  from pandas import MultiIndex, Int64Index\n",
      "C:\\Users\\micha\\anaconda3\\lib\\site-packages\\xgboost\\data.py:208: FutureWarning: pandas.Int64Index is deprecated and will be removed from pandas in a future version. Use pandas.Index with the appropriate dtype instead.\n",
      "  from pandas import MultiIndex, Int64Index\n",
      "C:\\Users\\micha\\anaconda3\\lib\\site-packages\\xgboost\\data.py:208: FutureWarning: pandas.Int64Index is deprecated and will be removed from pandas in a future version. Use pandas.Index with the appropriate dtype instead.\n",
      "  from pandas import MultiIndex, Int64Index\n",
      "[flaml.automl: 06-07 20:23:42] {2744} INFO -  at 15.5s,\testimator xgboost's best error=0.2174,\tbest estimator lgbm's best error=0.2040\n",
      "[flaml.automl: 06-07 20:23:42] {2567} INFO - iteration 108, current learner lgbm\n",
      "[flaml.automl: 06-07 20:23:43] {2744} INFO -  at 15.6s,\testimator lgbm's best error=0.2040,\tbest estimator lgbm's best error=0.2040\n",
      "[flaml.automl: 06-07 20:23:43] {2567} INFO - iteration 109, current learner xgboost\n",
      "C:\\Users\\micha\\anaconda3\\lib\\site-packages\\xgboost\\data.py:208: FutureWarning: pandas.Int64Index is deprecated and will be removed from pandas in a future version. Use pandas.Index with the appropriate dtype instead.\n",
      "  from pandas import MultiIndex, Int64Index\n",
      "C:\\Users\\micha\\anaconda3\\lib\\site-packages\\xgboost\\data.py:208: FutureWarning: pandas.Int64Index is deprecated and will be removed from pandas in a future version. Use pandas.Index with the appropriate dtype instead.\n",
      "  from pandas import MultiIndex, Int64Index\n",
      "C:\\Users\\micha\\anaconda3\\lib\\site-packages\\xgboost\\data.py:208: FutureWarning: pandas.Int64Index is deprecated and will be removed from pandas in a future version. Use pandas.Index with the appropriate dtype instead.\n",
      "  from pandas import MultiIndex, Int64Index\n",
      "[flaml.automl: 06-07 20:23:43] {2744} INFO -  at 15.7s,\testimator xgboost's best error=0.2174,\tbest estimator lgbm's best error=0.2040\n",
      "[flaml.automl: 06-07 20:23:43] {2567} INFO - iteration 110, current learner xgboost\n",
      "C:\\Users\\micha\\anaconda3\\lib\\site-packages\\xgboost\\data.py:208: FutureWarning: pandas.Int64Index is deprecated and will be removed from pandas in a future version. Use pandas.Index with the appropriate dtype instead.\n",
      "  from pandas import MultiIndex, Int64Index\n",
      "C:\\Users\\micha\\anaconda3\\lib\\site-packages\\xgboost\\data.py:208: FutureWarning: pandas.Int64Index is deprecated and will be removed from pandas in a future version. Use pandas.Index with the appropriate dtype instead.\n",
      "  from pandas import MultiIndex, Int64Index\n",
      "C:\\Users\\micha\\anaconda3\\lib\\site-packages\\xgboost\\data.py:208: FutureWarning: pandas.Int64Index is deprecated and will be removed from pandas in a future version. Use pandas.Index with the appropriate dtype instead.\n",
      "  from pandas import MultiIndex, Int64Index\n"
     ]
    },
    {
     "name": "stderr",
     "output_type": "stream",
     "text": [
      "[flaml.automl: 06-07 20:23:43] {2744} INFO -  at 15.8s,\testimator xgboost's best error=0.2128,\tbest estimator lgbm's best error=0.2040\n",
      "[flaml.automl: 06-07 20:23:43] {2567} INFO - iteration 111, current learner lgbm\n",
      "[flaml.automl: 06-07 20:23:43] {2744} INFO -  at 15.9s,\testimator lgbm's best error=0.2040,\tbest estimator lgbm's best error=0.2040\n",
      "[flaml.automl: 06-07 20:23:43] {2567} INFO - iteration 112, current learner xgboost\n",
      "C:\\Users\\micha\\anaconda3\\lib\\site-packages\\xgboost\\data.py:208: FutureWarning: pandas.Int64Index is deprecated and will be removed from pandas in a future version. Use pandas.Index with the appropriate dtype instead.\n",
      "  from pandas import MultiIndex, Int64Index\n",
      "C:\\Users\\micha\\anaconda3\\lib\\site-packages\\xgboost\\data.py:208: FutureWarning: pandas.Int64Index is deprecated and will be removed from pandas in a future version. Use pandas.Index with the appropriate dtype instead.\n",
      "  from pandas import MultiIndex, Int64Index\n",
      "C:\\Users\\micha\\anaconda3\\lib\\site-packages\\xgboost\\data.py:208: FutureWarning: pandas.Int64Index is deprecated and will be removed from pandas in a future version. Use pandas.Index with the appropriate dtype instead.\n",
      "  from pandas import MultiIndex, Int64Index\n",
      "[flaml.automl: 06-07 20:23:43] {2744} INFO -  at 16.0s,\testimator xgboost's best error=0.2128,\tbest estimator lgbm's best error=0.2040\n",
      "[flaml.automl: 06-07 20:23:43] {2567} INFO - iteration 113, current learner xgboost\n",
      "C:\\Users\\micha\\anaconda3\\lib\\site-packages\\xgboost\\data.py:208: FutureWarning: pandas.Int64Index is deprecated and will be removed from pandas in a future version. Use pandas.Index with the appropriate dtype instead.\n",
      "  from pandas import MultiIndex, Int64Index\n",
      "C:\\Users\\micha\\anaconda3\\lib\\site-packages\\xgboost\\data.py:208: FutureWarning: pandas.Int64Index is deprecated and will be removed from pandas in a future version. Use pandas.Index with the appropriate dtype instead.\n",
      "  from pandas import MultiIndex, Int64Index\n",
      "C:\\Users\\micha\\anaconda3\\lib\\site-packages\\xgboost\\data.py:208: FutureWarning: pandas.Int64Index is deprecated and will be removed from pandas in a future version. Use pandas.Index with the appropriate dtype instead.\n",
      "  from pandas import MultiIndex, Int64Index\n",
      "[flaml.automl: 06-07 20:23:43] {2744} INFO -  at 16.1s,\testimator xgboost's best error=0.2104,\tbest estimator lgbm's best error=0.2040\n",
      "[flaml.automl: 06-07 20:23:43] {2567} INFO - iteration 114, current learner extra_tree\n",
      "[flaml.automl: 06-07 20:23:43] {2744} INFO -  at 16.4s,\testimator extra_tree's best error=0.2202,\tbest estimator lgbm's best error=0.2040\n",
      "[flaml.automl: 06-07 20:23:43] {2567} INFO - iteration 115, current learner lgbm\n",
      "[flaml.automl: 06-07 20:23:43] {2744} INFO -  at 16.5s,\testimator lgbm's best error=0.2040,\tbest estimator lgbm's best error=0.2040\n",
      "[flaml.automl: 06-07 20:23:43] {2567} INFO - iteration 116, current learner lgbm\n",
      "[flaml.automl: 06-07 20:23:44] {2744} INFO -  at 16.5s,\testimator lgbm's best error=0.2040,\tbest estimator lgbm's best error=0.2040\n",
      "[flaml.automl: 06-07 20:23:44] {2567} INFO - iteration 117, current learner extra_tree\n",
      "[flaml.automl: 06-07 20:23:44] {2744} INFO -  at 16.7s,\testimator extra_tree's best error=0.2202,\tbest estimator lgbm's best error=0.2040\n",
      "[flaml.automl: 06-07 20:23:44] {2567} INFO - iteration 118, current learner xgboost\n",
      "C:\\Users\\micha\\anaconda3\\lib\\site-packages\\xgboost\\data.py:208: FutureWarning: pandas.Int64Index is deprecated and will be removed from pandas in a future version. Use pandas.Index with the appropriate dtype instead.\n",
      "  from pandas import MultiIndex, Int64Index\n",
      "C:\\Users\\micha\\anaconda3\\lib\\site-packages\\xgboost\\data.py:208: FutureWarning: pandas.Int64Index is deprecated and will be removed from pandas in a future version. Use pandas.Index with the appropriate dtype instead.\n",
      "  from pandas import MultiIndex, Int64Index\n",
      "C:\\Users\\micha\\anaconda3\\lib\\site-packages\\xgboost\\data.py:208: FutureWarning: pandas.Int64Index is deprecated and will be removed from pandas in a future version. Use pandas.Index with the appropriate dtype instead.\n",
      "  from pandas import MultiIndex, Int64Index\n",
      "[flaml.automl: 06-07 20:23:44] {2744} INFO -  at 16.8s,\testimator xgboost's best error=0.2104,\tbest estimator lgbm's best error=0.2040\n",
      "[flaml.automl: 06-07 20:23:44] {2567} INFO - iteration 119, current learner lgbm\n",
      "[flaml.automl: 06-07 20:23:44] {2744} INFO -  at 16.9s,\testimator lgbm's best error=0.2040,\tbest estimator lgbm's best error=0.2040\n",
      "[flaml.automl: 06-07 20:23:44] {2567} INFO - iteration 120, current learner xgboost\n",
      "C:\\Users\\micha\\anaconda3\\lib\\site-packages\\xgboost\\data.py:208: FutureWarning: pandas.Int64Index is deprecated and will be removed from pandas in a future version. Use pandas.Index with the appropriate dtype instead.\n",
      "  from pandas import MultiIndex, Int64Index\n",
      "C:\\Users\\micha\\anaconda3\\lib\\site-packages\\xgboost\\data.py:208: FutureWarning: pandas.Int64Index is deprecated and will be removed from pandas in a future version. Use pandas.Index with the appropriate dtype instead.\n",
      "  from pandas import MultiIndex, Int64Index\n",
      "C:\\Users\\micha\\anaconda3\\lib\\site-packages\\xgboost\\data.py:208: FutureWarning: pandas.Int64Index is deprecated and will be removed from pandas in a future version. Use pandas.Index with the appropriate dtype instead.\n",
      "  from pandas import MultiIndex, Int64Index\n",
      "[flaml.automl: 06-07 20:23:44] {2744} INFO -  at 17.0s,\testimator xgboost's best error=0.2104,\tbest estimator lgbm's best error=0.2040\n",
      "[flaml.automl: 06-07 20:23:44] {2567} INFO - iteration 121, current learner xgboost\n",
      "C:\\Users\\micha\\anaconda3\\lib\\site-packages\\xgboost\\data.py:208: FutureWarning: pandas.Int64Index is deprecated and will be removed from pandas in a future version. Use pandas.Index with the appropriate dtype instead.\n",
      "  from pandas import MultiIndex, Int64Index\n",
      "C:\\Users\\micha\\anaconda3\\lib\\site-packages\\xgboost\\data.py:208: FutureWarning: pandas.Int64Index is deprecated and will be removed from pandas in a future version. Use pandas.Index with the appropriate dtype instead.\n",
      "  from pandas import MultiIndex, Int64Index\n",
      "C:\\Users\\micha\\anaconda3\\lib\\site-packages\\xgboost\\data.py:208: FutureWarning: pandas.Int64Index is deprecated and will be removed from pandas in a future version. Use pandas.Index with the appropriate dtype instead.\n",
      "  from pandas import MultiIndex, Int64Index\n",
      "[flaml.automl: 06-07 20:23:44] {2744} INFO -  at 17.1s,\testimator xgboost's best error=0.2104,\tbest estimator lgbm's best error=0.2040\n",
      "[flaml.automl: 06-07 20:23:44] {2567} INFO - iteration 122, current learner extra_tree\n",
      "[flaml.automl: 06-07 20:23:44] {2744} INFO -  at 17.5s,\testimator extra_tree's best error=0.2152,\tbest estimator lgbm's best error=0.2040\n",
      "[flaml.automl: 06-07 20:23:44] {2567} INFO - iteration 123, current learner extra_tree\n",
      "[flaml.automl: 06-07 20:23:45] {2744} INFO -  at 17.9s,\testimator extra_tree's best error=0.2086,\tbest estimator lgbm's best error=0.2040\n",
      "[flaml.automl: 06-07 20:23:45] {2567} INFO - iteration 124, current learner lgbm\n",
      "[flaml.automl: 06-07 20:23:45] {2744} INFO -  at 18.2s,\testimator lgbm's best error=0.2040,\tbest estimator lgbm's best error=0.2040\n",
      "[flaml.automl: 06-07 20:23:45] {2567} INFO - iteration 125, current learner lgbm\n",
      "[flaml.automl: 06-07 20:23:45] {2744} INFO -  at 18.3s,\testimator lgbm's best error=0.2040,\tbest estimator lgbm's best error=0.2040\n",
      "[flaml.automl: 06-07 20:23:45] {2567} INFO - iteration 126, current learner lgbm\n",
      "[flaml.automl: 06-07 20:23:45] {2744} INFO -  at 18.4s,\testimator lgbm's best error=0.2040,\tbest estimator lgbm's best error=0.2040\n",
      "[flaml.automl: 06-07 20:23:45] {2567} INFO - iteration 127, current learner lgbm\n",
      "[flaml.automl: 06-07 20:23:46] {2744} INFO -  at 18.5s,\testimator lgbm's best error=0.2040,\tbest estimator lgbm's best error=0.2040\n",
      "[flaml.automl: 06-07 20:23:46] {2567} INFO - iteration 128, current learner catboost\n",
      "[flaml.automl: 06-07 20:23:46] {2744} INFO -  at 19.0s,\testimator catboost's best error=0.2134,\tbest estimator lgbm's best error=0.2040\n",
      "[flaml.automl: 06-07 20:23:46] {2567} INFO - iteration 129, current learner extra_tree\n",
      "[flaml.automl: 06-07 20:23:46] {2744} INFO -  at 19.4s,\testimator extra_tree's best error=0.2086,\tbest estimator lgbm's best error=0.2040\n"
     ]
    },
    {
     "name": "stderr",
     "output_type": "stream",
     "text": [
      "[flaml.automl: 06-07 20:23:46] {2567} INFO - iteration 130, current learner extra_tree\n",
      "[flaml.automl: 06-07 20:23:47] {2744} INFO -  at 19.6s,\testimator extra_tree's best error=0.2086,\tbest estimator lgbm's best error=0.2040\n",
      "[flaml.automl: 06-07 20:23:47] {2567} INFO - iteration 131, current learner xgboost\n",
      "C:\\Users\\micha\\anaconda3\\lib\\site-packages\\xgboost\\data.py:208: FutureWarning: pandas.Int64Index is deprecated and will be removed from pandas in a future version. Use pandas.Index with the appropriate dtype instead.\n",
      "  from pandas import MultiIndex, Int64Index\n",
      "C:\\Users\\micha\\anaconda3\\lib\\site-packages\\xgboost\\data.py:208: FutureWarning: pandas.Int64Index is deprecated and will be removed from pandas in a future version. Use pandas.Index with the appropriate dtype instead.\n",
      "  from pandas import MultiIndex, Int64Index\n",
      "C:\\Users\\micha\\anaconda3\\lib\\site-packages\\xgboost\\data.py:208: FutureWarning: pandas.Int64Index is deprecated and will be removed from pandas in a future version. Use pandas.Index with the appropriate dtype instead.\n",
      "  from pandas import MultiIndex, Int64Index\n",
      "[flaml.automl: 06-07 20:23:47] {2744} INFO -  at 19.8s,\testimator xgboost's best error=0.2104,\tbest estimator lgbm's best error=0.2040\n",
      "[flaml.automl: 06-07 20:23:47] {2567} INFO - iteration 132, current learner extra_tree\n",
      "[flaml.automl: 06-07 20:23:47] {2744} INFO -  at 20.2s,\testimator extra_tree's best error=0.2086,\tbest estimator lgbm's best error=0.2040\n",
      "[flaml.automl: 06-07 20:23:47] {2567} INFO - iteration 133, current learner lgbm\n",
      "[flaml.automl: 06-07 20:23:47] {2744} INFO -  at 20.4s,\testimator lgbm's best error=0.2040,\tbest estimator lgbm's best error=0.2040\n",
      "[flaml.automl: 06-07 20:23:47] {2567} INFO - iteration 134, current learner lgbm\n",
      "[flaml.automl: 06-07 20:23:47] {2744} INFO -  at 20.5s,\testimator lgbm's best error=0.2040,\tbest estimator lgbm's best error=0.2040\n",
      "[flaml.automl: 06-07 20:23:47] {2567} INFO - iteration 135, current learner xgboost\n",
      "C:\\Users\\micha\\anaconda3\\lib\\site-packages\\xgboost\\data.py:208: FutureWarning: pandas.Int64Index is deprecated and will be removed from pandas in a future version. Use pandas.Index with the appropriate dtype instead.\n",
      "  from pandas import MultiIndex, Int64Index\n",
      "C:\\Users\\micha\\anaconda3\\lib\\site-packages\\xgboost\\data.py:208: FutureWarning: pandas.Int64Index is deprecated and will be removed from pandas in a future version. Use pandas.Index with the appropriate dtype instead.\n",
      "  from pandas import MultiIndex, Int64Index\n",
      "C:\\Users\\micha\\anaconda3\\lib\\site-packages\\xgboost\\data.py:208: FutureWarning: pandas.Int64Index is deprecated and will be removed from pandas in a future version. Use pandas.Index with the appropriate dtype instead.\n",
      "  from pandas import MultiIndex, Int64Index\n",
      "[flaml.automl: 06-07 20:23:48] {2744} INFO -  at 20.6s,\testimator xgboost's best error=0.2104,\tbest estimator lgbm's best error=0.2040\n",
      "[flaml.automl: 06-07 20:23:48] {2567} INFO - iteration 136, current learner extra_tree\n",
      "[flaml.automl: 06-07 20:23:48] {2744} INFO -  at 20.9s,\testimator extra_tree's best error=0.2086,\tbest estimator lgbm's best error=0.2040\n",
      "[flaml.automl: 06-07 20:23:48] {2567} INFO - iteration 137, current learner xgboost\n",
      "C:\\Users\\micha\\anaconda3\\lib\\site-packages\\xgboost\\data.py:208: FutureWarning: pandas.Int64Index is deprecated and will be removed from pandas in a future version. Use pandas.Index with the appropriate dtype instead.\n",
      "  from pandas import MultiIndex, Int64Index\n",
      "C:\\Users\\micha\\anaconda3\\lib\\site-packages\\xgboost\\data.py:208: FutureWarning: pandas.Int64Index is deprecated and will be removed from pandas in a future version. Use pandas.Index with the appropriate dtype instead.\n",
      "  from pandas import MultiIndex, Int64Index\n",
      "C:\\Users\\micha\\anaconda3\\lib\\site-packages\\xgboost\\data.py:208: FutureWarning: pandas.Int64Index is deprecated and will be removed from pandas in a future version. Use pandas.Index with the appropriate dtype instead.\n",
      "  from pandas import MultiIndex, Int64Index\n",
      "[flaml.automl: 06-07 20:23:48] {2744} INFO -  at 21.2s,\testimator xgboost's best error=0.2104,\tbest estimator lgbm's best error=0.2040\n",
      "[flaml.automl: 06-07 20:23:48] {2567} INFO - iteration 138, current learner lgbm\n",
      "[flaml.automl: 06-07 20:23:48] {2744} INFO -  at 21.3s,\testimator lgbm's best error=0.2040,\tbest estimator lgbm's best error=0.2040\n",
      "[flaml.automl: 06-07 20:23:48] {2567} INFO - iteration 139, current learner extra_tree\n",
      "[flaml.automl: 06-07 20:23:49] {2744} INFO -  at 21.6s,\testimator extra_tree's best error=0.2086,\tbest estimator lgbm's best error=0.2040\n",
      "[flaml.automl: 06-07 20:23:49] {2567} INFO - iteration 140, current learner lgbm\n",
      "[flaml.automl: 06-07 20:23:49] {2744} INFO -  at 21.7s,\testimator lgbm's best error=0.2040,\tbest estimator lgbm's best error=0.2040\n",
      "[flaml.automl: 06-07 20:23:49] {2567} INFO - iteration 141, current learner extra_tree\n",
      "[flaml.automl: 06-07 20:23:49] {2744} INFO -  at 22.0s,\testimator extra_tree's best error=0.2086,\tbest estimator lgbm's best error=0.2040\n",
      "[flaml.automl: 06-07 20:23:49] {2567} INFO - iteration 142, current learner rf\n",
      "[flaml.automl: 06-07 20:23:49] {2744} INFO -  at 22.3s,\testimator rf's best error=0.2270,\tbest estimator lgbm's best error=0.2040\n",
      "[flaml.automl: 06-07 20:23:49] {2567} INFO - iteration 143, current learner extra_tree\n",
      "[flaml.automl: 06-07 20:23:50] {2744} INFO -  at 22.7s,\testimator extra_tree's best error=0.2086,\tbest estimator lgbm's best error=0.2040\n",
      "[flaml.automl: 06-07 20:23:50] {2567} INFO - iteration 144, current learner xgboost\n",
      "C:\\Users\\micha\\anaconda3\\lib\\site-packages\\xgboost\\data.py:208: FutureWarning: pandas.Int64Index is deprecated and will be removed from pandas in a future version. Use pandas.Index with the appropriate dtype instead.\n",
      "  from pandas import MultiIndex, Int64Index\n",
      "C:\\Users\\micha\\anaconda3\\lib\\site-packages\\xgboost\\data.py:208: FutureWarning: pandas.Int64Index is deprecated and will be removed from pandas in a future version. Use pandas.Index with the appropriate dtype instead.\n",
      "  from pandas import MultiIndex, Int64Index\n",
      "C:\\Users\\micha\\anaconda3\\lib\\site-packages\\xgboost\\data.py:208: FutureWarning: pandas.Int64Index is deprecated and will be removed from pandas in a future version. Use pandas.Index with the appropriate dtype instead.\n",
      "  from pandas import MultiIndex, Int64Index\n",
      "[flaml.automl: 06-07 20:23:50] {2744} INFO -  at 22.8s,\testimator xgboost's best error=0.2104,\tbest estimator lgbm's best error=0.2040\n",
      "[flaml.automl: 06-07 20:23:50] {2567} INFO - iteration 145, current learner rf\n",
      "[flaml.automl: 06-07 20:23:50] {2744} INFO -  at 23.1s,\testimator rf's best error=0.2270,\tbest estimator lgbm's best error=0.2040\n",
      "[flaml.automl: 06-07 20:23:50] {2567} INFO - iteration 146, current learner lgbm\n",
      "[flaml.automl: 06-07 20:23:50] {2744} INFO -  at 23.2s,\testimator lgbm's best error=0.2040,\tbest estimator lgbm's best error=0.2040\n",
      "[flaml.automl: 06-07 20:23:50] {2567} INFO - iteration 147, current learner lgbm\n",
      "[flaml.automl: 06-07 20:23:50] {2744} INFO -  at 23.4s,\testimator lgbm's best error=0.2040,\tbest estimator lgbm's best error=0.2040\n",
      "[flaml.automl: 06-07 20:23:50] {2567} INFO - iteration 148, current learner lgbm\n",
      "[flaml.automl: 06-07 20:23:50] {2744} INFO -  at 23.4s,\testimator lgbm's best error=0.2040,\tbest estimator lgbm's best error=0.2040\n",
      "[flaml.automl: 06-07 20:23:50] {2567} INFO - iteration 149, current learner lgbm\n",
      "[flaml.automl: 06-07 20:23:51] {2744} INFO -  at 23.5s,\testimator lgbm's best error=0.2040,\tbest estimator lgbm's best error=0.2040\n",
      "[flaml.automl: 06-07 20:23:51] {2567} INFO - iteration 150, current learner lgbm\n",
      "[flaml.automl: 06-07 20:23:51] {2744} INFO -  at 23.6s,\testimator lgbm's best error=0.2040,\tbest estimator lgbm's best error=0.2040\n",
      "[flaml.automl: 06-07 20:23:51] {2567} INFO - iteration 151, current learner lgbm\n",
      "[flaml.automl: 06-07 20:23:51] {2744} INFO -  at 23.7s,\testimator lgbm's best error=0.2040,\tbest estimator lgbm's best error=0.2040\n",
      "[flaml.automl: 06-07 20:23:51] {2567} INFO - iteration 152, current learner xgboost\n",
      "C:\\Users\\micha\\anaconda3\\lib\\site-packages\\xgboost\\data.py:208: FutureWarning: pandas.Int64Index is deprecated and will be removed from pandas in a future version. Use pandas.Index with the appropriate dtype instead.\n",
      "  from pandas import MultiIndex, Int64Index\n",
      "C:\\Users\\micha\\anaconda3\\lib\\site-packages\\xgboost\\data.py:208: FutureWarning: pandas.Int64Index is deprecated and will be removed from pandas in a future version. Use pandas.Index with the appropriate dtype instead.\n",
      "  from pandas import MultiIndex, Int64Index\n"
     ]
    },
    {
     "name": "stderr",
     "output_type": "stream",
     "text": [
      "C:\\Users\\micha\\anaconda3\\lib\\site-packages\\xgboost\\data.py:208: FutureWarning: pandas.Int64Index is deprecated and will be removed from pandas in a future version. Use pandas.Index with the appropriate dtype instead.\n",
      "  from pandas import MultiIndex, Int64Index\n",
      "[flaml.automl: 06-07 20:23:51] {2744} INFO -  at 23.8s,\testimator xgboost's best error=0.2104,\tbest estimator lgbm's best error=0.2040\n",
      "[flaml.automl: 06-07 20:23:51] {2567} INFO - iteration 153, current learner catboost\n",
      "[flaml.automl: 06-07 20:23:52] {2744} INFO -  at 24.6s,\testimator catboost's best error=0.2134,\tbest estimator lgbm's best error=0.2040\n",
      "[flaml.automl: 06-07 20:23:52] {2567} INFO - iteration 154, current learner lgbm\n",
      "[flaml.automl: 06-07 20:23:52] {2744} INFO -  at 24.8s,\testimator lgbm's best error=0.2040,\tbest estimator lgbm's best error=0.2040\n",
      "[flaml.automl: 06-07 20:23:52] {2567} INFO - iteration 155, current learner lgbm\n",
      "[flaml.automl: 06-07 20:23:52] {2744} INFO -  at 25.0s,\testimator lgbm's best error=0.2040,\tbest estimator lgbm's best error=0.2040\n",
      "[flaml.automl: 06-07 20:23:52] {2567} INFO - iteration 156, current learner extra_tree\n",
      "[flaml.automl: 06-07 20:23:52] {2744} INFO -  at 25.5s,\testimator extra_tree's best error=0.2086,\tbest estimator lgbm's best error=0.2040\n",
      "[flaml.automl: 06-07 20:23:52] {2567} INFO - iteration 157, current learner catboost\n",
      "[flaml.automl: 06-07 20:23:53] {2744} INFO -  at 26.4s,\testimator catboost's best error=0.2134,\tbest estimator lgbm's best error=0.2040\n",
      "[flaml.automl: 06-07 20:23:53] {2567} INFO - iteration 158, current learner lgbm\n",
      "[flaml.automl: 06-07 20:23:54] {2744} INFO -  at 26.5s,\testimator lgbm's best error=0.2040,\tbest estimator lgbm's best error=0.2040\n",
      "[flaml.automl: 06-07 20:23:54] {2567} INFO - iteration 159, current learner rf\n",
      "[flaml.automl: 06-07 20:23:54] {2744} INFO -  at 26.7s,\testimator rf's best error=0.2270,\tbest estimator lgbm's best error=0.2040\n",
      "[flaml.automl: 06-07 20:23:54] {2567} INFO - iteration 160, current learner xgboost\n",
      "C:\\Users\\micha\\anaconda3\\lib\\site-packages\\xgboost\\data.py:208: FutureWarning: pandas.Int64Index is deprecated and will be removed from pandas in a future version. Use pandas.Index with the appropriate dtype instead.\n",
      "  from pandas import MultiIndex, Int64Index\n",
      "C:\\Users\\micha\\anaconda3\\lib\\site-packages\\xgboost\\data.py:208: FutureWarning: pandas.Int64Index is deprecated and will be removed from pandas in a future version. Use pandas.Index with the appropriate dtype instead.\n",
      "  from pandas import MultiIndex, Int64Index\n",
      "C:\\Users\\micha\\anaconda3\\lib\\site-packages\\xgboost\\data.py:208: FutureWarning: pandas.Int64Index is deprecated and will be removed from pandas in a future version. Use pandas.Index with the appropriate dtype instead.\n",
      "  from pandas import MultiIndex, Int64Index\n",
      "[flaml.automl: 06-07 20:23:54] {2744} INFO -  at 26.9s,\testimator xgboost's best error=0.2104,\tbest estimator lgbm's best error=0.2040\n",
      "[flaml.automl: 06-07 20:23:54] {2567} INFO - iteration 161, current learner lgbm\n",
      "[flaml.automl: 06-07 20:23:54] {2744} INFO -  at 26.9s,\testimator lgbm's best error=0.2040,\tbest estimator lgbm's best error=0.2040\n",
      "[flaml.automl: 06-07 20:23:54] {2567} INFO - iteration 162, current learner catboost\n",
      "[flaml.automl: 06-07 20:23:54] {2744} INFO -  at 27.5s,\testimator catboost's best error=0.2134,\tbest estimator lgbm's best error=0.2040\n",
      "[flaml.automl: 06-07 20:23:54] {2567} INFO - iteration 163, current learner extra_tree\n",
      "[flaml.automl: 06-07 20:23:55] {2744} INFO -  at 27.7s,\testimator extra_tree's best error=0.2086,\tbest estimator lgbm's best error=0.2040\n",
      "[flaml.automl: 06-07 20:23:55] {2567} INFO - iteration 164, current learner extra_tree\n",
      "[flaml.automl: 06-07 20:23:55] {2744} INFO -  at 28.3s,\testimator extra_tree's best error=0.2052,\tbest estimator lgbm's best error=0.2040\n",
      "[flaml.automl: 06-07 20:23:55] {2567} INFO - iteration 165, current learner lgbm\n",
      "[flaml.automl: 06-07 20:23:56] {2744} INFO -  at 28.5s,\testimator lgbm's best error=0.2040,\tbest estimator lgbm's best error=0.2040\n",
      "[flaml.automl: 06-07 20:23:56] {2567} INFO - iteration 166, current learner rf\n",
      "[flaml.automl: 06-07 20:23:56] {2744} INFO -  at 28.8s,\testimator rf's best error=0.2270,\tbest estimator lgbm's best error=0.2040\n",
      "[flaml.automl: 06-07 20:23:56] {2567} INFO - iteration 167, current learner xgboost\n",
      "C:\\Users\\micha\\anaconda3\\lib\\site-packages\\xgboost\\data.py:208: FutureWarning: pandas.Int64Index is deprecated and will be removed from pandas in a future version. Use pandas.Index with the appropriate dtype instead.\n",
      "  from pandas import MultiIndex, Int64Index\n",
      "C:\\Users\\micha\\anaconda3\\lib\\site-packages\\xgboost\\data.py:208: FutureWarning: pandas.Int64Index is deprecated and will be removed from pandas in a future version. Use pandas.Index with the appropriate dtype instead.\n",
      "  from pandas import MultiIndex, Int64Index\n",
      "C:\\Users\\micha\\anaconda3\\lib\\site-packages\\xgboost\\data.py:208: FutureWarning: pandas.Int64Index is deprecated and will be removed from pandas in a future version. Use pandas.Index with the appropriate dtype instead.\n",
      "  from pandas import MultiIndex, Int64Index\n",
      "[flaml.automl: 06-07 20:23:56] {2744} INFO -  at 28.9s,\testimator xgboost's best error=0.2104,\tbest estimator lgbm's best error=0.2040\n",
      "[flaml.automl: 06-07 20:23:56] {2567} INFO - iteration 168, current learner extra_tree\n",
      "[flaml.automl: 06-07 20:23:56] {2744} INFO -  at 29.2s,\testimator extra_tree's best error=0.2052,\tbest estimator lgbm's best error=0.2040\n",
      "[flaml.automl: 06-07 20:23:56] {2567} INFO - iteration 169, current learner lgbm\n",
      "[flaml.automl: 06-07 20:23:56] {2744} INFO -  at 29.3s,\testimator lgbm's best error=0.2040,\tbest estimator lgbm's best error=0.2040\n",
      "[flaml.automl: 06-07 20:23:56] {2567} INFO - iteration 170, current learner lgbm\n",
      "[flaml.automl: 06-07 20:23:56] {2744} INFO -  at 29.4s,\testimator lgbm's best error=0.2040,\tbest estimator lgbm's best error=0.2040\n",
      "[flaml.automl: 06-07 20:23:56] {2567} INFO - iteration 171, current learner lgbm\n",
      "[flaml.automl: 06-07 20:23:57] {2744} INFO -  at 29.6s,\testimator lgbm's best error=0.2040,\tbest estimator lgbm's best error=0.2040\n",
      "[flaml.automl: 06-07 20:23:57] {2567} INFO - iteration 172, current learner catboost\n",
      "[flaml.automl: 06-07 20:23:57] {2744} INFO -  at 30.3s,\testimator catboost's best error=0.2134,\tbest estimator lgbm's best error=0.2040\n",
      "[flaml.automl: 06-07 20:23:57] {2567} INFO - iteration 173, current learner xgboost\n",
      "C:\\Users\\micha\\anaconda3\\lib\\site-packages\\xgboost\\data.py:208: FutureWarning: pandas.Int64Index is deprecated and will be removed from pandas in a future version. Use pandas.Index with the appropriate dtype instead.\n",
      "  from pandas import MultiIndex, Int64Index\n",
      "C:\\Users\\micha\\anaconda3\\lib\\site-packages\\xgboost\\data.py:208: FutureWarning: pandas.Int64Index is deprecated and will be removed from pandas in a future version. Use pandas.Index with the appropriate dtype instead.\n",
      "  from pandas import MultiIndex, Int64Index\n",
      "C:\\Users\\micha\\anaconda3\\lib\\site-packages\\xgboost\\data.py:208: FutureWarning: pandas.Int64Index is deprecated and will be removed from pandas in a future version. Use pandas.Index with the appropriate dtype instead.\n",
      "  from pandas import MultiIndex, Int64Index\n",
      "[flaml.automl: 06-07 20:23:58] {2744} INFO -  at 30.6s,\testimator xgboost's best error=0.2104,\tbest estimator lgbm's best error=0.2040\n",
      "[flaml.automl: 06-07 20:23:58] {2567} INFO - iteration 174, current learner xgboost\n",
      "C:\\Users\\micha\\anaconda3\\lib\\site-packages\\xgboost\\data.py:208: FutureWarning: pandas.Int64Index is deprecated and will be removed from pandas in a future version. Use pandas.Index with the appropriate dtype instead.\n",
      "  from pandas import MultiIndex, Int64Index\n",
      "C:\\Users\\micha\\anaconda3\\lib\\site-packages\\xgboost\\data.py:208: FutureWarning: pandas.Int64Index is deprecated and will be removed from pandas in a future version. Use pandas.Index with the appropriate dtype instead.\n",
      "  from pandas import MultiIndex, Int64Index\n",
      "C:\\Users\\micha\\anaconda3\\lib\\site-packages\\xgboost\\data.py:208: FutureWarning: pandas.Int64Index is deprecated and will be removed from pandas in a future version. Use pandas.Index with the appropriate dtype instead.\n",
      "  from pandas import MultiIndex, Int64Index\n",
      "[flaml.automl: 06-07 20:23:58] {2744} INFO -  at 30.7s,\testimator xgboost's best error=0.2104,\tbest estimator lgbm's best error=0.2040\n"
     ]
    },
    {
     "name": "stderr",
     "output_type": "stream",
     "text": [
      "[flaml.automl: 06-07 20:23:58] {2567} INFO - iteration 175, current learner rf\n",
      "[flaml.automl: 06-07 20:23:58] {2744} INFO -  at 30.9s,\testimator rf's best error=0.2270,\tbest estimator lgbm's best error=0.2040\n",
      "[flaml.automl: 06-07 20:23:58] {2567} INFO - iteration 176, current learner extra_tree\n",
      "[flaml.automl: 06-07 20:23:58] {2744} INFO -  at 31.5s,\testimator extra_tree's best error=0.2052,\tbest estimator lgbm's best error=0.2040\n",
      "[flaml.automl: 06-07 20:23:58] {2567} INFO - iteration 177, current learner xgboost\n",
      "C:\\Users\\micha\\anaconda3\\lib\\site-packages\\xgboost\\data.py:208: FutureWarning: pandas.Int64Index is deprecated and will be removed from pandas in a future version. Use pandas.Index with the appropriate dtype instead.\n",
      "  from pandas import MultiIndex, Int64Index\n",
      "C:\\Users\\micha\\anaconda3\\lib\\site-packages\\xgboost\\data.py:208: FutureWarning: pandas.Int64Index is deprecated and will be removed from pandas in a future version. Use pandas.Index with the appropriate dtype instead.\n",
      "  from pandas import MultiIndex, Int64Index\n",
      "C:\\Users\\micha\\anaconda3\\lib\\site-packages\\xgboost\\data.py:208: FutureWarning: pandas.Int64Index is deprecated and will be removed from pandas in a future version. Use pandas.Index with the appropriate dtype instead.\n",
      "  from pandas import MultiIndex, Int64Index\n",
      "[flaml.automl: 06-07 20:23:59] {2744} INFO -  at 31.7s,\testimator xgboost's best error=0.2104,\tbest estimator lgbm's best error=0.2040\n",
      "[flaml.automl: 06-07 20:23:59] {2567} INFO - iteration 178, current learner rf\n",
      "[flaml.automl: 06-07 20:23:59] {2744} INFO -  at 32.0s,\testimator rf's best error=0.2270,\tbest estimator lgbm's best error=0.2040\n",
      "[flaml.automl: 06-07 20:23:59] {2567} INFO - iteration 179, current learner xgboost\n",
      "C:\\Users\\micha\\anaconda3\\lib\\site-packages\\xgboost\\data.py:208: FutureWarning: pandas.Int64Index is deprecated and will be removed from pandas in a future version. Use pandas.Index with the appropriate dtype instead.\n",
      "  from pandas import MultiIndex, Int64Index\n",
      "C:\\Users\\micha\\anaconda3\\lib\\site-packages\\xgboost\\data.py:208: FutureWarning: pandas.Int64Index is deprecated and will be removed from pandas in a future version. Use pandas.Index with the appropriate dtype instead.\n",
      "  from pandas import MultiIndex, Int64Index\n",
      "C:\\Users\\micha\\anaconda3\\lib\\site-packages\\xgboost\\data.py:208: FutureWarning: pandas.Int64Index is deprecated and will be removed from pandas in a future version. Use pandas.Index with the appropriate dtype instead.\n",
      "  from pandas import MultiIndex, Int64Index\n",
      "[flaml.automl: 06-07 20:23:59] {2744} INFO -  at 32.2s,\testimator xgboost's best error=0.2104,\tbest estimator lgbm's best error=0.2040\n",
      "[flaml.automl: 06-07 20:23:59] {2567} INFO - iteration 180, current learner extra_tree\n",
      "[flaml.automl: 06-07 20:23:59] {2744} INFO -  at 32.4s,\testimator extra_tree's best error=0.2052,\tbest estimator lgbm's best error=0.2040\n",
      "[flaml.automl: 06-07 20:23:59] {2567} INFO - iteration 181, current learner extra_tree\n",
      "[flaml.automl: 06-07 20:24:00] {2744} INFO -  at 32.9s,\testimator extra_tree's best error=0.2052,\tbest estimator lgbm's best error=0.2040\n",
      "[flaml.automl: 06-07 20:24:00] {2567} INFO - iteration 182, current learner lgbm\n",
      "[flaml.automl: 06-07 20:24:00] {2744} INFO -  at 33.0s,\testimator lgbm's best error=0.2040,\tbest estimator lgbm's best error=0.2040\n",
      "[flaml.automl: 06-07 20:24:00] {2567} INFO - iteration 183, current learner lgbm\n",
      "[flaml.automl: 06-07 20:24:00] {2744} INFO -  at 33.1s,\testimator lgbm's best error=0.2040,\tbest estimator lgbm's best error=0.2040\n",
      "[flaml.automl: 06-07 20:24:00] {2567} INFO - iteration 184, current learner rf\n",
      "[flaml.automl: 06-07 20:24:00] {2744} INFO -  at 33.3s,\testimator rf's best error=0.2270,\tbest estimator lgbm's best error=0.2040\n",
      "[flaml.automl: 06-07 20:24:00] {2567} INFO - iteration 185, current learner extra_tree\n",
      "[flaml.automl: 06-07 20:24:01] {2744} INFO -  at 33.8s,\testimator extra_tree's best error=0.2052,\tbest estimator lgbm's best error=0.2040\n",
      "[flaml.automl: 06-07 20:24:01] {2567} INFO - iteration 186, current learner lgbm\n",
      "[flaml.automl: 06-07 20:24:01] {2744} INFO -  at 33.9s,\testimator lgbm's best error=0.2040,\tbest estimator lgbm's best error=0.2040\n",
      "[flaml.automl: 06-07 20:24:01] {2567} INFO - iteration 187, current learner extra_tree\n",
      "[flaml.automl: 06-07 20:24:01] {2744} INFO -  at 34.4s,\testimator extra_tree's best error=0.2052,\tbest estimator lgbm's best error=0.2040\n",
      "[flaml.automl: 06-07 20:24:01] {2567} INFO - iteration 188, current learner xgb_limitdepth\n",
      "C:\\Users\\micha\\anaconda3\\lib\\site-packages\\xgboost\\data.py:208: FutureWarning: pandas.Int64Index is deprecated and will be removed from pandas in a future version. Use pandas.Index with the appropriate dtype instead.\n",
      "  from pandas import MultiIndex, Int64Index\n",
      "C:\\Users\\micha\\anaconda3\\lib\\site-packages\\xgboost\\data.py:208: FutureWarning: pandas.Int64Index is deprecated and will be removed from pandas in a future version. Use pandas.Index with the appropriate dtype instead.\n",
      "  from pandas import MultiIndex, Int64Index\n",
      "C:\\Users\\micha\\anaconda3\\lib\\site-packages\\xgboost\\data.py:208: FutureWarning: pandas.Int64Index is deprecated and will be removed from pandas in a future version. Use pandas.Index with the appropriate dtype instead.\n",
      "  from pandas import MultiIndex, Int64Index\n",
      "[flaml.automl: 06-07 20:24:02] {2744} INFO -  at 34.5s,\testimator xgb_limitdepth's best error=0.2477,\tbest estimator lgbm's best error=0.2040\n",
      "[flaml.automl: 06-07 20:24:02] {2567} INFO - iteration 189, current learner extra_tree\n",
      "[flaml.automl: 06-07 20:24:02] {2744} INFO -  at 34.8s,\testimator extra_tree's best error=0.2052,\tbest estimator lgbm's best error=0.2040\n",
      "[flaml.automl: 06-07 20:24:02] {2567} INFO - iteration 190, current learner xgb_limitdepth\n",
      "C:\\Users\\micha\\anaconda3\\lib\\site-packages\\xgboost\\data.py:208: FutureWarning: pandas.Int64Index is deprecated and will be removed from pandas in a future version. Use pandas.Index with the appropriate dtype instead.\n",
      "  from pandas import MultiIndex, Int64Index\n",
      "C:\\Users\\micha\\anaconda3\\lib\\site-packages\\xgboost\\data.py:208: FutureWarning: pandas.Int64Index is deprecated and will be removed from pandas in a future version. Use pandas.Index with the appropriate dtype instead.\n",
      "  from pandas import MultiIndex, Int64Index\n",
      "C:\\Users\\micha\\anaconda3\\lib\\site-packages\\xgboost\\data.py:208: FutureWarning: pandas.Int64Index is deprecated and will be removed from pandas in a future version. Use pandas.Index with the appropriate dtype instead.\n",
      "  from pandas import MultiIndex, Int64Index\n",
      "[flaml.automl: 06-07 20:24:02] {2744} INFO -  at 34.9s,\testimator xgb_limitdepth's best error=0.2444,\tbest estimator lgbm's best error=0.2040\n",
      "[flaml.automl: 06-07 20:24:02] {2567} INFO - iteration 191, current learner xgb_limitdepth\n",
      "C:\\Users\\micha\\anaconda3\\lib\\site-packages\\xgboost\\data.py:208: FutureWarning: pandas.Int64Index is deprecated and will be removed from pandas in a future version. Use pandas.Index with the appropriate dtype instead.\n",
      "  from pandas import MultiIndex, Int64Index\n",
      "C:\\Users\\micha\\anaconda3\\lib\\site-packages\\xgboost\\data.py:208: FutureWarning: pandas.Int64Index is deprecated and will be removed from pandas in a future version. Use pandas.Index with the appropriate dtype instead.\n",
      "  from pandas import MultiIndex, Int64Index\n",
      "C:\\Users\\micha\\anaconda3\\lib\\site-packages\\xgboost\\data.py:208: FutureWarning: pandas.Int64Index is deprecated and will be removed from pandas in a future version. Use pandas.Index with the appropriate dtype instead.\n",
      "  from pandas import MultiIndex, Int64Index\n",
      "[flaml.automl: 06-07 20:24:02] {2744} INFO -  at 35.0s,\testimator xgb_limitdepth's best error=0.2379,\tbest estimator lgbm's best error=0.2040\n",
      "[flaml.automl: 06-07 20:24:02] {2567} INFO - iteration 192, current learner catboost\n",
      "[flaml.automl: 06-07 20:24:03] {2744} INFO -  at 35.6s,\testimator catboost's best error=0.2134,\tbest estimator lgbm's best error=0.2040\n",
      "[flaml.automl: 06-07 20:24:03] {2567} INFO - iteration 193, current learner xgb_limitdepth\n",
      "C:\\Users\\micha\\anaconda3\\lib\\site-packages\\xgboost\\data.py:208: FutureWarning: pandas.Int64Index is deprecated and will be removed from pandas in a future version. Use pandas.Index with the appropriate dtype instead.\n",
      "  from pandas import MultiIndex, Int64Index\n",
      "C:\\Users\\micha\\anaconda3\\lib\\site-packages\\xgboost\\data.py:208: FutureWarning: pandas.Int64Index is deprecated and will be removed from pandas in a future version. Use pandas.Index with the appropriate dtype instead.\n",
      "  from pandas import MultiIndex, Int64Index\n",
      "C:\\Users\\micha\\anaconda3\\lib\\site-packages\\xgboost\\data.py:208: FutureWarning: pandas.Int64Index is deprecated and will be removed from pandas in a future version. Use pandas.Index with the appropriate dtype instead.\n",
      "  from pandas import MultiIndex, Int64Index\n",
      "[flaml.automl: 06-07 20:24:03] {2744} INFO -  at 35.7s,\testimator xgb_limitdepth's best error=0.2379,\tbest estimator lgbm's best error=0.2040\n"
     ]
    },
    {
     "name": "stderr",
     "output_type": "stream",
     "text": [
      "[flaml.automl: 06-07 20:24:03] {2567} INFO - iteration 194, current learner extra_tree\n",
      "[flaml.automl: 06-07 20:24:03] {2744} INFO -  at 36.0s,\testimator extra_tree's best error=0.2052,\tbest estimator lgbm's best error=0.2040\n",
      "[flaml.automl: 06-07 20:24:03] {2567} INFO - iteration 195, current learner xgb_limitdepth\n",
      "C:\\Users\\micha\\anaconda3\\lib\\site-packages\\xgboost\\data.py:208: FutureWarning: pandas.Int64Index is deprecated and will be removed from pandas in a future version. Use pandas.Index with the appropriate dtype instead.\n",
      "  from pandas import MultiIndex, Int64Index\n",
      "C:\\Users\\micha\\anaconda3\\lib\\site-packages\\xgboost\\data.py:208: FutureWarning: pandas.Int64Index is deprecated and will be removed from pandas in a future version. Use pandas.Index with the appropriate dtype instead.\n",
      "  from pandas import MultiIndex, Int64Index\n",
      "C:\\Users\\micha\\anaconda3\\lib\\site-packages\\xgboost\\data.py:208: FutureWarning: pandas.Int64Index is deprecated and will be removed from pandas in a future version. Use pandas.Index with the appropriate dtype instead.\n",
      "  from pandas import MultiIndex, Int64Index\n",
      "[flaml.automl: 06-07 20:24:03] {2744} INFO -  at 36.1s,\testimator xgb_limitdepth's best error=0.2379,\tbest estimator lgbm's best error=0.2040\n",
      "[flaml.automl: 06-07 20:24:03] {2567} INFO - iteration 196, current learner rf\n",
      "[flaml.automl: 06-07 20:24:03] {2744} INFO -  at 36.3s,\testimator rf's best error=0.2249,\tbest estimator lgbm's best error=0.2040\n",
      "[flaml.automl: 06-07 20:24:03] {2567} INFO - iteration 197, current learner lgbm\n",
      "[flaml.automl: 06-07 20:24:03] {2744} INFO -  at 36.4s,\testimator lgbm's best error=0.2040,\tbest estimator lgbm's best error=0.2040\n",
      "[flaml.automl: 06-07 20:24:03] {2567} INFO - iteration 198, current learner xgb_limitdepth\n",
      "C:\\Users\\micha\\anaconda3\\lib\\site-packages\\xgboost\\data.py:208: FutureWarning: pandas.Int64Index is deprecated and will be removed from pandas in a future version. Use pandas.Index with the appropriate dtype instead.\n",
      "  from pandas import MultiIndex, Int64Index\n",
      "C:\\Users\\micha\\anaconda3\\lib\\site-packages\\xgboost\\data.py:208: FutureWarning: pandas.Int64Index is deprecated and will be removed from pandas in a future version. Use pandas.Index with the appropriate dtype instead.\n",
      "  from pandas import MultiIndex, Int64Index\n",
      "C:\\Users\\micha\\anaconda3\\lib\\site-packages\\xgboost\\data.py:208: FutureWarning: pandas.Int64Index is deprecated and will be removed from pandas in a future version. Use pandas.Index with the appropriate dtype instead.\n",
      "  from pandas import MultiIndex, Int64Index\n",
      "[flaml.automl: 06-07 20:24:03] {2744} INFO -  at 36.5s,\testimator xgb_limitdepth's best error=0.2379,\tbest estimator lgbm's best error=0.2040\n",
      "[flaml.automl: 06-07 20:24:03] {2567} INFO - iteration 199, current learner xgb_limitdepth\n",
      "C:\\Users\\micha\\anaconda3\\lib\\site-packages\\xgboost\\data.py:208: FutureWarning: pandas.Int64Index is deprecated and will be removed from pandas in a future version. Use pandas.Index with the appropriate dtype instead.\n",
      "  from pandas import MultiIndex, Int64Index\n",
      "C:\\Users\\micha\\anaconda3\\lib\\site-packages\\xgboost\\data.py:208: FutureWarning: pandas.Int64Index is deprecated and will be removed from pandas in a future version. Use pandas.Index with the appropriate dtype instead.\n",
      "  from pandas import MultiIndex, Int64Index\n",
      "C:\\Users\\micha\\anaconda3\\lib\\site-packages\\xgboost\\data.py:208: FutureWarning: pandas.Int64Index is deprecated and will be removed from pandas in a future version. Use pandas.Index with the appropriate dtype instead.\n",
      "  from pandas import MultiIndex, Int64Index\n",
      "[flaml.automl: 06-07 20:24:04] {2744} INFO -  at 36.6s,\testimator xgb_limitdepth's best error=0.2376,\tbest estimator lgbm's best error=0.2040\n",
      "[flaml.automl: 06-07 20:24:04] {2567} INFO - iteration 200, current learner extra_tree\n",
      "[flaml.automl: 06-07 20:24:04] {2744} INFO -  at 37.1s,\testimator extra_tree's best error=0.2052,\tbest estimator lgbm's best error=0.2040\n",
      "[flaml.automl: 06-07 20:24:04] {2567} INFO - iteration 201, current learner extra_tree\n",
      "[flaml.automl: 06-07 20:24:05] {2744} INFO -  at 38.2s,\testimator extra_tree's best error=0.2052,\tbest estimator lgbm's best error=0.2040\n",
      "[flaml.automl: 06-07 20:24:05] {2567} INFO - iteration 202, current learner lgbm\n",
      "[flaml.automl: 06-07 20:24:05] {2744} INFO -  at 38.4s,\testimator lgbm's best error=0.2040,\tbest estimator lgbm's best error=0.2040\n",
      "[flaml.automl: 06-07 20:24:05] {2567} INFO - iteration 203, current learner lgbm\n",
      "[flaml.automl: 06-07 20:24:05] {2744} INFO -  at 38.5s,\testimator lgbm's best error=0.2040,\tbest estimator lgbm's best error=0.2040\n",
      "[flaml.automl: 06-07 20:24:05] {2567} INFO - iteration 204, current learner xgboost\n",
      "C:\\Users\\micha\\anaconda3\\lib\\site-packages\\xgboost\\data.py:208: FutureWarning: pandas.Int64Index is deprecated and will be removed from pandas in a future version. Use pandas.Index with the appropriate dtype instead.\n",
      "  from pandas import MultiIndex, Int64Index\n",
      "C:\\Users\\micha\\anaconda3\\lib\\site-packages\\xgboost\\data.py:208: FutureWarning: pandas.Int64Index is deprecated and will be removed from pandas in a future version. Use pandas.Index with the appropriate dtype instead.\n",
      "  from pandas import MultiIndex, Int64Index\n",
      "C:\\Users\\micha\\anaconda3\\lib\\site-packages\\xgboost\\data.py:208: FutureWarning: pandas.Int64Index is deprecated and will be removed from pandas in a future version. Use pandas.Index with the appropriate dtype instead.\n",
      "  from pandas import MultiIndex, Int64Index\n",
      "[flaml.automl: 06-07 20:24:06] {2744} INFO -  at 38.6s,\testimator xgboost's best error=0.2104,\tbest estimator lgbm's best error=0.2040\n",
      "[flaml.automl: 06-07 20:24:06] {2567} INFO - iteration 205, current learner extra_tree\n",
      "[flaml.automl: 06-07 20:24:06] {2744} INFO -  at 38.8s,\testimator extra_tree's best error=0.2052,\tbest estimator lgbm's best error=0.2040\n",
      "[flaml.automl: 06-07 20:24:06] {2567} INFO - iteration 206, current learner extra_tree\n",
      "[flaml.automl: 06-07 20:24:06] {2744} INFO -  at 39.2s,\testimator extra_tree's best error=0.2052,\tbest estimator lgbm's best error=0.2040\n",
      "[flaml.automl: 06-07 20:24:06] {2567} INFO - iteration 207, current learner xgboost\n",
      "C:\\Users\\micha\\anaconda3\\lib\\site-packages\\xgboost\\data.py:208: FutureWarning: pandas.Int64Index is deprecated and will be removed from pandas in a future version. Use pandas.Index with the appropriate dtype instead.\n",
      "  from pandas import MultiIndex, Int64Index\n",
      "C:\\Users\\micha\\anaconda3\\lib\\site-packages\\xgboost\\data.py:208: FutureWarning: pandas.Int64Index is deprecated and will be removed from pandas in a future version. Use pandas.Index with the appropriate dtype instead.\n",
      "  from pandas import MultiIndex, Int64Index\n",
      "C:\\Users\\micha\\anaconda3\\lib\\site-packages\\xgboost\\data.py:208: FutureWarning: pandas.Int64Index is deprecated and will be removed from pandas in a future version. Use pandas.Index with the appropriate dtype instead.\n",
      "  from pandas import MultiIndex, Int64Index\n",
      "[flaml.automl: 06-07 20:24:06] {2744} INFO -  at 39.3s,\testimator xgboost's best error=0.2104,\tbest estimator lgbm's best error=0.2040\n",
      "[flaml.automl: 06-07 20:24:06] {2567} INFO - iteration 208, current learner extra_tree\n",
      "[flaml.automl: 06-07 20:24:07] {2744} INFO -  at 39.9s,\testimator extra_tree's best error=0.2052,\tbest estimator lgbm's best error=0.2040\n",
      "[flaml.automl: 06-07 20:24:07] {2567} INFO - iteration 209, current learner xgboost\n",
      "C:\\Users\\micha\\anaconda3\\lib\\site-packages\\xgboost\\data.py:208: FutureWarning: pandas.Int64Index is deprecated and will be removed from pandas in a future version. Use pandas.Index with the appropriate dtype instead.\n",
      "  from pandas import MultiIndex, Int64Index\n",
      "C:\\Users\\micha\\anaconda3\\lib\\site-packages\\xgboost\\data.py:208: FutureWarning: pandas.Int64Index is deprecated and will be removed from pandas in a future version. Use pandas.Index with the appropriate dtype instead.\n",
      "  from pandas import MultiIndex, Int64Index\n",
      "C:\\Users\\micha\\anaconda3\\lib\\site-packages\\xgboost\\data.py:208: FutureWarning: pandas.Int64Index is deprecated and will be removed from pandas in a future version. Use pandas.Index with the appropriate dtype instead.\n",
      "  from pandas import MultiIndex, Int64Index\n",
      "[flaml.automl: 06-07 20:24:07] {2744} INFO -  at 40.0s,\testimator xgboost's best error=0.2104,\tbest estimator lgbm's best error=0.2040\n"
     ]
    },
    {
     "name": "stderr",
     "output_type": "stream",
     "text": [
      "[flaml.automl: 06-07 20:24:07] {2567} INFO - iteration 210, current learner rf\n",
      "[flaml.automl: 06-07 20:24:07] {2744} INFO -  at 40.2s,\testimator rf's best error=0.2249,\tbest estimator lgbm's best error=0.2040\n",
      "[flaml.automl: 06-07 20:24:07] {2567} INFO - iteration 211, current learner catboost\n",
      "[flaml.automl: 06-07 20:24:08] {2744} INFO -  at 40.7s,\testimator catboost's best error=0.2134,\tbest estimator lgbm's best error=0.2040\n",
      "[flaml.automl: 06-07 20:24:08] {2567} INFO - iteration 212, current learner xgboost\n",
      "C:\\Users\\micha\\anaconda3\\lib\\site-packages\\xgboost\\data.py:208: FutureWarning: pandas.Int64Index is deprecated and will be removed from pandas in a future version. Use pandas.Index with the appropriate dtype instead.\n",
      "  from pandas import MultiIndex, Int64Index\n",
      "C:\\Users\\micha\\anaconda3\\lib\\site-packages\\xgboost\\data.py:208: FutureWarning: pandas.Int64Index is deprecated and will be removed from pandas in a future version. Use pandas.Index with the appropriate dtype instead.\n",
      "  from pandas import MultiIndex, Int64Index\n",
      "C:\\Users\\micha\\anaconda3\\lib\\site-packages\\xgboost\\data.py:208: FutureWarning: pandas.Int64Index is deprecated and will be removed from pandas in a future version. Use pandas.Index with the appropriate dtype instead.\n",
      "  from pandas import MultiIndex, Int64Index\n",
      "[flaml.automl: 06-07 20:24:08] {2744} INFO -  at 40.9s,\testimator xgboost's best error=0.2075,\tbest estimator lgbm's best error=0.2040\n",
      "[flaml.automl: 06-07 20:24:08] {2567} INFO - iteration 213, current learner xgboost\n",
      "C:\\Users\\micha\\anaconda3\\lib\\site-packages\\xgboost\\data.py:208: FutureWarning: pandas.Int64Index is deprecated and will be removed from pandas in a future version. Use pandas.Index with the appropriate dtype instead.\n",
      "  from pandas import MultiIndex, Int64Index\n",
      "C:\\Users\\micha\\anaconda3\\lib\\site-packages\\xgboost\\data.py:208: FutureWarning: pandas.Int64Index is deprecated and will be removed from pandas in a future version. Use pandas.Index with the appropriate dtype instead.\n",
      "  from pandas import MultiIndex, Int64Index\n",
      "C:\\Users\\micha\\anaconda3\\lib\\site-packages\\xgboost\\data.py:208: FutureWarning: pandas.Int64Index is deprecated and will be removed from pandas in a future version. Use pandas.Index with the appropriate dtype instead.\n",
      "  from pandas import MultiIndex, Int64Index\n",
      "[flaml.automl: 06-07 20:24:08] {2744} INFO -  at 41.0s,\testimator xgboost's best error=0.2075,\tbest estimator lgbm's best error=0.2040\n",
      "[flaml.automl: 06-07 20:24:08] {2567} INFO - iteration 214, current learner extra_tree\n",
      "[flaml.automl: 06-07 20:24:09] {2744} INFO -  at 41.7s,\testimator extra_tree's best error=0.2052,\tbest estimator lgbm's best error=0.2040\n",
      "[flaml.automl: 06-07 20:24:09] {2567} INFO - iteration 215, current learner extra_tree\n",
      "[flaml.automl: 06-07 20:24:09] {2744} INFO -  at 42.1s,\testimator extra_tree's best error=0.2052,\tbest estimator lgbm's best error=0.2040\n",
      "[flaml.automl: 06-07 20:24:09] {2567} INFO - iteration 216, current learner catboost\n",
      "[flaml.automl: 06-07 20:24:10] {2744} INFO -  at 42.9s,\testimator catboost's best error=0.2134,\tbest estimator lgbm's best error=0.2040\n",
      "[flaml.automl: 06-07 20:24:10] {2567} INFO - iteration 217, current learner extra_tree\n",
      "[flaml.automl: 06-07 20:24:11] {2744} INFO -  at 43.6s,\testimator extra_tree's best error=0.2052,\tbest estimator lgbm's best error=0.2040\n",
      "[flaml.automl: 06-07 20:24:11] {2567} INFO - iteration 218, current learner lgbm\n",
      "[flaml.automl: 06-07 20:24:11] {2744} INFO -  at 43.8s,\testimator lgbm's best error=0.2040,\tbest estimator lgbm's best error=0.2040\n",
      "[flaml.automl: 06-07 20:24:11] {2567} INFO - iteration 219, current learner lgbm\n",
      "[flaml.automl: 06-07 20:24:11] {2744} INFO -  at 43.9s,\testimator lgbm's best error=0.2040,\tbest estimator lgbm's best error=0.2040\n",
      "[flaml.automl: 06-07 20:24:11] {2567} INFO - iteration 220, current learner lgbm\n",
      "[flaml.automl: 06-07 20:24:11] {2744} INFO -  at 44.0s,\testimator lgbm's best error=0.2040,\tbest estimator lgbm's best error=0.2040\n",
      "[flaml.automl: 06-07 20:24:11] {2567} INFO - iteration 221, current learner xgboost\n",
      "C:\\Users\\micha\\anaconda3\\lib\\site-packages\\xgboost\\data.py:208: FutureWarning: pandas.Int64Index is deprecated and will be removed from pandas in a future version. Use pandas.Index with the appropriate dtype instead.\n",
      "  from pandas import MultiIndex, Int64Index\n",
      "C:\\Users\\micha\\anaconda3\\lib\\site-packages\\xgboost\\data.py:208: FutureWarning: pandas.Int64Index is deprecated and will be removed from pandas in a future version. Use pandas.Index with the appropriate dtype instead.\n",
      "  from pandas import MultiIndex, Int64Index\n",
      "C:\\Users\\micha\\anaconda3\\lib\\site-packages\\xgboost\\data.py:208: FutureWarning: pandas.Int64Index is deprecated and will be removed from pandas in a future version. Use pandas.Index with the appropriate dtype instead.\n",
      "  from pandas import MultiIndex, Int64Index\n",
      "[flaml.automl: 06-07 20:24:11] {2744} INFO -  at 44.1s,\testimator xgboost's best error=0.2075,\tbest estimator lgbm's best error=0.2040\n",
      "[flaml.automl: 06-07 20:24:11] {2567} INFO - iteration 222, current learner lgbm\n",
      "[flaml.automl: 06-07 20:24:11] {2744} INFO -  at 44.2s,\testimator lgbm's best error=0.2040,\tbest estimator lgbm's best error=0.2040\n",
      "[flaml.automl: 06-07 20:24:11] {2567} INFO - iteration 223, current learner extra_tree\n",
      "[flaml.automl: 06-07 20:24:11] {2744} INFO -  at 44.5s,\testimator extra_tree's best error=0.2052,\tbest estimator lgbm's best error=0.2040\n",
      "[flaml.automl: 06-07 20:24:11] {2567} INFO - iteration 224, current learner extra_tree\n",
      "[flaml.automl: 06-07 20:24:12] {2744} INFO -  at 45.0s,\testimator extra_tree's best error=0.2052,\tbest estimator lgbm's best error=0.2040\n",
      "[flaml.automl: 06-07 20:24:12] {2567} INFO - iteration 225, current learner lgbm\n",
      "[flaml.automl: 06-07 20:24:12] {2744} INFO -  at 45.2s,\testimator lgbm's best error=0.2040,\tbest estimator lgbm's best error=0.2040\n",
      "[flaml.automl: 06-07 20:24:12] {2567} INFO - iteration 226, current learner lgbm\n",
      "[flaml.automl: 06-07 20:24:12] {2744} INFO -  at 45.2s,\testimator lgbm's best error=0.2040,\tbest estimator lgbm's best error=0.2040\n",
      "[flaml.automl: 06-07 20:24:12] {2567} INFO - iteration 227, current learner rf\n",
      "[flaml.automl: 06-07 20:24:13] {2744} INFO -  at 45.5s,\testimator rf's best error=0.2242,\tbest estimator lgbm's best error=0.2040\n",
      "[flaml.automl: 06-07 20:24:13] {2567} INFO - iteration 228, current learner lgbm\n",
      "[flaml.automl: 06-07 20:24:13] {2744} INFO -  at 45.7s,\testimator lgbm's best error=0.2040,\tbest estimator lgbm's best error=0.2040\n",
      "[flaml.automl: 06-07 20:24:13] {2567} INFO - iteration 229, current learner extra_tree\n",
      "[flaml.automl: 06-07 20:24:13] {2744} INFO -  at 46.0s,\testimator extra_tree's best error=0.2052,\tbest estimator lgbm's best error=0.2040\n",
      "[flaml.automl: 06-07 20:24:13] {2567} INFO - iteration 230, current learner rf\n",
      "[flaml.automl: 06-07 20:24:13] {2744} INFO -  at 46.4s,\testimator rf's best error=0.2242,\tbest estimator lgbm's best error=0.2040\n",
      "[flaml.automl: 06-07 20:24:13] {2567} INFO - iteration 231, current learner extra_tree\n",
      "[flaml.automl: 06-07 20:24:14] {2744} INFO -  at 47.1s,\testimator extra_tree's best error=0.2052,\tbest estimator lgbm's best error=0.2040\n",
      "[flaml.automl: 06-07 20:24:14] {2567} INFO - iteration 232, current learner xgboost\n",
      "C:\\Users\\micha\\anaconda3\\lib\\site-packages\\xgboost\\data.py:208: FutureWarning: pandas.Int64Index is deprecated and will be removed from pandas in a future version. Use pandas.Index with the appropriate dtype instead.\n",
      "  from pandas import MultiIndex, Int64Index\n",
      "C:\\Users\\micha\\anaconda3\\lib\\site-packages\\xgboost\\data.py:208: FutureWarning: pandas.Int64Index is deprecated and will be removed from pandas in a future version. Use pandas.Index with the appropriate dtype instead.\n",
      "  from pandas import MultiIndex, Int64Index\n",
      "C:\\Users\\micha\\anaconda3\\lib\\site-packages\\xgboost\\data.py:208: FutureWarning: pandas.Int64Index is deprecated and will be removed from pandas in a future version. Use pandas.Index with the appropriate dtype instead.\n",
      "  from pandas import MultiIndex, Int64Index\n",
      "[flaml.automl: 06-07 20:24:14] {2744} INFO -  at 47.3s,\testimator xgboost's best error=0.2075,\tbest estimator lgbm's best error=0.2040\n",
      "[flaml.automl: 06-07 20:24:14] {2567} INFO - iteration 233, current learner extra_tree\n"
     ]
    },
    {
     "name": "stderr",
     "output_type": "stream",
     "text": [
      "[flaml.automl: 06-07 20:24:15] {2744} INFO -  at 47.6s,\testimator extra_tree's best error=0.2052,\tbest estimator lgbm's best error=0.2040\n",
      "[flaml.automl: 06-07 20:24:15] {2567} INFO - iteration 234, current learner extra_tree\n",
      "[flaml.automl: 06-07 20:24:15] {2744} INFO -  at 48.1s,\testimator extra_tree's best error=0.2052,\tbest estimator lgbm's best error=0.2040\n",
      "[flaml.automl: 06-07 20:24:15] {2567} INFO - iteration 235, current learner extra_tree\n",
      "[flaml.automl: 06-07 20:24:16] {2744} INFO -  at 48.7s,\testimator extra_tree's best error=0.2052,\tbest estimator lgbm's best error=0.2040\n",
      "[flaml.automl: 06-07 20:24:16] {2567} INFO - iteration 236, current learner catboost\n",
      "[flaml.automl: 06-07 20:24:17] {2744} INFO -  at 49.5s,\testimator catboost's best error=0.2124,\tbest estimator lgbm's best error=0.2040\n",
      "[flaml.automl: 06-07 20:24:17] {2567} INFO - iteration 237, current learner xgboost\n",
      "C:\\Users\\micha\\anaconda3\\lib\\site-packages\\xgboost\\data.py:208: FutureWarning: pandas.Int64Index is deprecated and will be removed from pandas in a future version. Use pandas.Index with the appropriate dtype instead.\n",
      "  from pandas import MultiIndex, Int64Index\n",
      "C:\\Users\\micha\\anaconda3\\lib\\site-packages\\xgboost\\data.py:208: FutureWarning: pandas.Int64Index is deprecated and will be removed from pandas in a future version. Use pandas.Index with the appropriate dtype instead.\n",
      "  from pandas import MultiIndex, Int64Index\n",
      "C:\\Users\\micha\\anaconda3\\lib\\site-packages\\xgboost\\data.py:208: FutureWarning: pandas.Int64Index is deprecated and will be removed from pandas in a future version. Use pandas.Index with the appropriate dtype instead.\n",
      "  from pandas import MultiIndex, Int64Index\n",
      "[flaml.automl: 06-07 20:24:17] {2744} INFO -  at 49.7s,\testimator xgboost's best error=0.2075,\tbest estimator lgbm's best error=0.2040\n",
      "[flaml.automl: 06-07 20:24:17] {2567} INFO - iteration 238, current learner extra_tree\n",
      "[flaml.automl: 06-07 20:24:17] {2744} INFO -  at 50.0s,\testimator extra_tree's best error=0.2052,\tbest estimator lgbm's best error=0.2040\n",
      "[flaml.automl: 06-07 20:24:17] {2567} INFO - iteration 239, current learner lgbm\n",
      "[flaml.automl: 06-07 20:24:17] {2744} INFO -  at 50.2s,\testimator lgbm's best error=0.2040,\tbest estimator lgbm's best error=0.2040\n",
      "[flaml.automl: 06-07 20:24:17] {2567} INFO - iteration 240, current learner xgboost\n",
      "C:\\Users\\micha\\anaconda3\\lib\\site-packages\\xgboost\\data.py:208: FutureWarning: pandas.Int64Index is deprecated and will be removed from pandas in a future version. Use pandas.Index with the appropriate dtype instead.\n",
      "  from pandas import MultiIndex, Int64Index\n",
      "C:\\Users\\micha\\anaconda3\\lib\\site-packages\\xgboost\\data.py:208: FutureWarning: pandas.Int64Index is deprecated and will be removed from pandas in a future version. Use pandas.Index with the appropriate dtype instead.\n",
      "  from pandas import MultiIndex, Int64Index\n",
      "C:\\Users\\micha\\anaconda3\\lib\\site-packages\\xgboost\\data.py:208: FutureWarning: pandas.Int64Index is deprecated and will be removed from pandas in a future version. Use pandas.Index with the appropriate dtype instead.\n",
      "  from pandas import MultiIndex, Int64Index\n",
      "[flaml.automl: 06-07 20:24:17] {2744} INFO -  at 50.3s,\testimator xgboost's best error=0.2075,\tbest estimator lgbm's best error=0.2040\n",
      "[flaml.automl: 06-07 20:24:17] {2567} INFO - iteration 241, current learner xgboost\n",
      "C:\\Users\\micha\\anaconda3\\lib\\site-packages\\xgboost\\data.py:208: FutureWarning: pandas.Int64Index is deprecated and will be removed from pandas in a future version. Use pandas.Index with the appropriate dtype instead.\n",
      "  from pandas import MultiIndex, Int64Index\n",
      "C:\\Users\\micha\\anaconda3\\lib\\site-packages\\xgboost\\data.py:208: FutureWarning: pandas.Int64Index is deprecated and will be removed from pandas in a future version. Use pandas.Index with the appropriate dtype instead.\n",
      "  from pandas import MultiIndex, Int64Index\n",
      "C:\\Users\\micha\\anaconda3\\lib\\site-packages\\xgboost\\data.py:208: FutureWarning: pandas.Int64Index is deprecated and will be removed from pandas in a future version. Use pandas.Index with the appropriate dtype instead.\n",
      "  from pandas import MultiIndex, Int64Index\n",
      "[flaml.automl: 06-07 20:24:18] {2744} INFO -  at 50.5s,\testimator xgboost's best error=0.2075,\tbest estimator lgbm's best error=0.2040\n",
      "[flaml.automl: 06-07 20:24:18] {2567} INFO - iteration 242, current learner lgbm\n",
      "[flaml.automl: 06-07 20:24:18] {2744} INFO -  at 50.6s,\testimator lgbm's best error=0.2040,\tbest estimator lgbm's best error=0.2040\n",
      "[flaml.automl: 06-07 20:24:18] {2567} INFO - iteration 243, current learner xgboost\n",
      "C:\\Users\\micha\\anaconda3\\lib\\site-packages\\xgboost\\data.py:208: FutureWarning: pandas.Int64Index is deprecated and will be removed from pandas in a future version. Use pandas.Index with the appropriate dtype instead.\n",
      "  from pandas import MultiIndex, Int64Index\n",
      "C:\\Users\\micha\\anaconda3\\lib\\site-packages\\xgboost\\data.py:208: FutureWarning: pandas.Int64Index is deprecated and will be removed from pandas in a future version. Use pandas.Index with the appropriate dtype instead.\n",
      "  from pandas import MultiIndex, Int64Index\n",
      "C:\\Users\\micha\\anaconda3\\lib\\site-packages\\xgboost\\data.py:208: FutureWarning: pandas.Int64Index is deprecated and will be removed from pandas in a future version. Use pandas.Index with the appropriate dtype instead.\n",
      "  from pandas import MultiIndex, Int64Index\n",
      "[flaml.automl: 06-07 20:24:18] {2744} INFO -  at 50.8s,\testimator xgboost's best error=0.2066,\tbest estimator lgbm's best error=0.2040\n",
      "[flaml.automl: 06-07 20:24:18] {2567} INFO - iteration 244, current learner xgboost\n",
      "C:\\Users\\micha\\anaconda3\\lib\\site-packages\\xgboost\\data.py:208: FutureWarning: pandas.Int64Index is deprecated and will be removed from pandas in a future version. Use pandas.Index with the appropriate dtype instead.\n",
      "  from pandas import MultiIndex, Int64Index\n",
      "C:\\Users\\micha\\anaconda3\\lib\\site-packages\\xgboost\\data.py:208: FutureWarning: pandas.Int64Index is deprecated and will be removed from pandas in a future version. Use pandas.Index with the appropriate dtype instead.\n",
      "  from pandas import MultiIndex, Int64Index\n",
      "C:\\Users\\micha\\anaconda3\\lib\\site-packages\\xgboost\\data.py:208: FutureWarning: pandas.Int64Index is deprecated and will be removed from pandas in a future version. Use pandas.Index with the appropriate dtype instead.\n",
      "  from pandas import MultiIndex, Int64Index\n",
      "[flaml.automl: 06-07 20:24:18] {2744} INFO -  at 51.0s,\testimator xgboost's best error=0.2066,\tbest estimator lgbm's best error=0.2040\n",
      "[flaml.automl: 06-07 20:24:18] {2567} INFO - iteration 245, current learner extra_tree\n",
      "[flaml.automl: 06-07 20:24:18] {2744} INFO -  at 51.4s,\testimator extra_tree's best error=0.2052,\tbest estimator lgbm's best error=0.2040\n",
      "[flaml.automl: 06-07 20:24:18] {2567} INFO - iteration 246, current learner lgbm\n",
      "[flaml.automl: 06-07 20:24:19] {2744} INFO -  at 51.5s,\testimator lgbm's best error=0.2018,\tbest estimator lgbm's best error=0.2018\n",
      "[flaml.automl: 06-07 20:24:19] {2567} INFO - iteration 247, current learner extra_tree\n",
      "[flaml.automl: 06-07 20:24:19] {2744} INFO -  at 52.0s,\testimator extra_tree's best error=0.2052,\tbest estimator lgbm's best error=0.2018\n",
      "[flaml.automl: 06-07 20:24:19] {2567} INFO - iteration 248, current learner rf\n",
      "[flaml.automl: 06-07 20:24:20] {2744} INFO -  at 52.5s,\testimator rf's best error=0.2242,\tbest estimator lgbm's best error=0.2018\n",
      "[flaml.automl: 06-07 20:24:20] {2567} INFO - iteration 249, current learner lgbm\n",
      "[flaml.automl: 06-07 20:24:20] {2744} INFO -  at 52.7s,\testimator lgbm's best error=0.2018,\tbest estimator lgbm's best error=0.2018\n",
      "[flaml.automl: 06-07 20:24:20] {2567} INFO - iteration 250, current learner xgboost\n",
      "C:\\Users\\micha\\anaconda3\\lib\\site-packages\\xgboost\\data.py:208: FutureWarning: pandas.Int64Index is deprecated and will be removed from pandas in a future version. Use pandas.Index with the appropriate dtype instead.\n",
      "  from pandas import MultiIndex, Int64Index\n",
      "C:\\Users\\micha\\anaconda3\\lib\\site-packages\\xgboost\\data.py:208: FutureWarning: pandas.Int64Index is deprecated and will be removed from pandas in a future version. Use pandas.Index with the appropriate dtype instead.\n",
      "  from pandas import MultiIndex, Int64Index\n",
      "C:\\Users\\micha\\anaconda3\\lib\\site-packages\\xgboost\\data.py:208: FutureWarning: pandas.Int64Index is deprecated and will be removed from pandas in a future version. Use pandas.Index with the appropriate dtype instead.\n",
      "  from pandas import MultiIndex, Int64Index\n"
     ]
    },
    {
     "name": "stderr",
     "output_type": "stream",
     "text": [
      "[flaml.automl: 06-07 20:24:20] {2744} INFO -  at 53.0s,\testimator xgboost's best error=0.2066,\tbest estimator lgbm's best error=0.2018\n",
      "[flaml.automl: 06-07 20:24:20] {2567} INFO - iteration 251, current learner rf\n",
      "[flaml.automl: 06-07 20:24:20] {2744} INFO -  at 53.4s,\testimator rf's best error=0.2242,\tbest estimator lgbm's best error=0.2018\n",
      "[flaml.automl: 06-07 20:24:20] {2567} INFO - iteration 252, current learner lgbm\n",
      "[flaml.automl: 06-07 20:24:20] {2744} INFO -  at 53.5s,\testimator lgbm's best error=0.2018,\tbest estimator lgbm's best error=0.2018\n",
      "[flaml.automl: 06-07 20:24:20] {2567} INFO - iteration 253, current learner lgbm\n",
      "[flaml.automl: 06-07 20:24:21] {2744} INFO -  at 53.5s,\testimator lgbm's best error=0.2018,\tbest estimator lgbm's best error=0.2018\n",
      "[flaml.automl: 06-07 20:24:21] {2567} INFO - iteration 254, current learner xgboost\n",
      "C:\\Users\\micha\\anaconda3\\lib\\site-packages\\xgboost\\data.py:208: FutureWarning: pandas.Int64Index is deprecated and will be removed from pandas in a future version. Use pandas.Index with the appropriate dtype instead.\n",
      "  from pandas import MultiIndex, Int64Index\n",
      "C:\\Users\\micha\\anaconda3\\lib\\site-packages\\xgboost\\data.py:208: FutureWarning: pandas.Int64Index is deprecated and will be removed from pandas in a future version. Use pandas.Index with the appropriate dtype instead.\n",
      "  from pandas import MultiIndex, Int64Index\n",
      "C:\\Users\\micha\\anaconda3\\lib\\site-packages\\xgboost\\data.py:208: FutureWarning: pandas.Int64Index is deprecated and will be removed from pandas in a future version. Use pandas.Index with the appropriate dtype instead.\n",
      "  from pandas import MultiIndex, Int64Index\n",
      "[flaml.automl: 06-07 20:24:21] {2744} INFO -  at 53.7s,\testimator xgboost's best error=0.2066,\tbest estimator lgbm's best error=0.2018\n",
      "[flaml.automl: 06-07 20:24:21] {2567} INFO - iteration 255, current learner extra_tree\n",
      "[flaml.automl: 06-07 20:24:21] {2744} INFO -  at 54.0s,\testimator extra_tree's best error=0.2052,\tbest estimator lgbm's best error=0.2018\n",
      "[flaml.automl: 06-07 20:24:21] {2567} INFO - iteration 256, current learner lgbm\n",
      "[flaml.automl: 06-07 20:24:21] {2744} INFO -  at 54.1s,\testimator lgbm's best error=0.2018,\tbest estimator lgbm's best error=0.2018\n",
      "[flaml.automl: 06-07 20:24:21] {2567} INFO - iteration 257, current learner xgb_limitdepth\n",
      "C:\\Users\\micha\\anaconda3\\lib\\site-packages\\xgboost\\data.py:208: FutureWarning: pandas.Int64Index is deprecated and will be removed from pandas in a future version. Use pandas.Index with the appropriate dtype instead.\n",
      "  from pandas import MultiIndex, Int64Index\n",
      "C:\\Users\\micha\\anaconda3\\lib\\site-packages\\xgboost\\data.py:208: FutureWarning: pandas.Int64Index is deprecated and will be removed from pandas in a future version. Use pandas.Index with the appropriate dtype instead.\n",
      "  from pandas import MultiIndex, Int64Index\n",
      "C:\\Users\\micha\\anaconda3\\lib\\site-packages\\xgboost\\data.py:208: FutureWarning: pandas.Int64Index is deprecated and will be removed from pandas in a future version. Use pandas.Index with the appropriate dtype instead.\n",
      "  from pandas import MultiIndex, Int64Index\n",
      "[flaml.automl: 06-07 20:24:21] {2744} INFO -  at 54.2s,\testimator xgb_limitdepth's best error=0.2376,\tbest estimator lgbm's best error=0.2018\n",
      "[flaml.automl: 06-07 20:24:21] {2567} INFO - iteration 258, current learner lgbm\n",
      "[flaml.automl: 06-07 20:24:21] {2744} INFO -  at 54.3s,\testimator lgbm's best error=0.2018,\tbest estimator lgbm's best error=0.2018\n",
      "[flaml.automl: 06-07 20:24:21] {2567} INFO - iteration 259, current learner xgb_limitdepth\n",
      "C:\\Users\\micha\\anaconda3\\lib\\site-packages\\xgboost\\data.py:208: FutureWarning: pandas.Int64Index is deprecated and will be removed from pandas in a future version. Use pandas.Index with the appropriate dtype instead.\n",
      "  from pandas import MultiIndex, Int64Index\n",
      "C:\\Users\\micha\\anaconda3\\lib\\site-packages\\xgboost\\data.py:208: FutureWarning: pandas.Int64Index is deprecated and will be removed from pandas in a future version. Use pandas.Index with the appropriate dtype instead.\n",
      "  from pandas import MultiIndex, Int64Index\n",
      "C:\\Users\\micha\\anaconda3\\lib\\site-packages\\xgboost\\data.py:208: FutureWarning: pandas.Int64Index is deprecated and will be removed from pandas in a future version. Use pandas.Index with the appropriate dtype instead.\n",
      "  from pandas import MultiIndex, Int64Index\n",
      "[flaml.automl: 06-07 20:24:21] {2744} INFO -  at 54.4s,\testimator xgb_limitdepth's best error=0.2285,\tbest estimator lgbm's best error=0.2018\n",
      "[flaml.automl: 06-07 20:24:21] {2567} INFO - iteration 260, current learner xgb_limitdepth\n",
      "C:\\Users\\micha\\anaconda3\\lib\\site-packages\\xgboost\\data.py:208: FutureWarning: pandas.Int64Index is deprecated and will be removed from pandas in a future version. Use pandas.Index with the appropriate dtype instead.\n",
      "  from pandas import MultiIndex, Int64Index\n",
      "C:\\Users\\micha\\anaconda3\\lib\\site-packages\\xgboost\\data.py:208: FutureWarning: pandas.Int64Index is deprecated and will be removed from pandas in a future version. Use pandas.Index with the appropriate dtype instead.\n",
      "  from pandas import MultiIndex, Int64Index\n",
      "C:\\Users\\micha\\anaconda3\\lib\\site-packages\\xgboost\\data.py:208: FutureWarning: pandas.Int64Index is deprecated and will be removed from pandas in a future version. Use pandas.Index with the appropriate dtype instead.\n",
      "  from pandas import MultiIndex, Int64Index\n",
      "[flaml.automl: 06-07 20:24:21] {2744} INFO -  at 54.5s,\testimator xgb_limitdepth's best error=0.2207,\tbest estimator lgbm's best error=0.2018\n",
      "[flaml.automl: 06-07 20:24:21] {2567} INFO - iteration 261, current learner xgb_limitdepth\n",
      "C:\\Users\\micha\\anaconda3\\lib\\site-packages\\xgboost\\data.py:208: FutureWarning: pandas.Int64Index is deprecated and will be removed from pandas in a future version. Use pandas.Index with the appropriate dtype instead.\n",
      "  from pandas import MultiIndex, Int64Index\n",
      "C:\\Users\\micha\\anaconda3\\lib\\site-packages\\xgboost\\data.py:208: FutureWarning: pandas.Int64Index is deprecated and will be removed from pandas in a future version. Use pandas.Index with the appropriate dtype instead.\n",
      "  from pandas import MultiIndex, Int64Index\n",
      "C:\\Users\\micha\\anaconda3\\lib\\site-packages\\xgboost\\data.py:208: FutureWarning: pandas.Int64Index is deprecated and will be removed from pandas in a future version. Use pandas.Index with the appropriate dtype instead.\n",
      "  from pandas import MultiIndex, Int64Index\n",
      "[flaml.automl: 06-07 20:24:22] {2744} INFO -  at 54.6s,\testimator xgb_limitdepth's best error=0.2207,\tbest estimator lgbm's best error=0.2018\n",
      "[flaml.automl: 06-07 20:24:22] {2567} INFO - iteration 262, current learner xgb_limitdepth\n",
      "C:\\Users\\micha\\anaconda3\\lib\\site-packages\\xgboost\\data.py:208: FutureWarning: pandas.Int64Index is deprecated and will be removed from pandas in a future version. Use pandas.Index with the appropriate dtype instead.\n",
      "  from pandas import MultiIndex, Int64Index\n",
      "C:\\Users\\micha\\anaconda3\\lib\\site-packages\\xgboost\\data.py:208: FutureWarning: pandas.Int64Index is deprecated and will be removed from pandas in a future version. Use pandas.Index with the appropriate dtype instead.\n",
      "  from pandas import MultiIndex, Int64Index\n",
      "C:\\Users\\micha\\anaconda3\\lib\\site-packages\\xgboost\\data.py:208: FutureWarning: pandas.Int64Index is deprecated and will be removed from pandas in a future version. Use pandas.Index with the appropriate dtype instead.\n",
      "  from pandas import MultiIndex, Int64Index\n",
      "[flaml.automl: 06-07 20:24:22] {2744} INFO -  at 54.7s,\testimator xgb_limitdepth's best error=0.2207,\tbest estimator lgbm's best error=0.2018\n",
      "[flaml.automl: 06-07 20:24:22] {2567} INFO - iteration 263, current learner xgb_limitdepth\n",
      "C:\\Users\\micha\\anaconda3\\lib\\site-packages\\xgboost\\data.py:208: FutureWarning: pandas.Int64Index is deprecated and will be removed from pandas in a future version. Use pandas.Index with the appropriate dtype instead.\n",
      "  from pandas import MultiIndex, Int64Index\n",
      "C:\\Users\\micha\\anaconda3\\lib\\site-packages\\xgboost\\data.py:208: FutureWarning: pandas.Int64Index is deprecated and will be removed from pandas in a future version. Use pandas.Index with the appropriate dtype instead.\n",
      "  from pandas import MultiIndex, Int64Index\n",
      "C:\\Users\\micha\\anaconda3\\lib\\site-packages\\xgboost\\data.py:208: FutureWarning: pandas.Int64Index is deprecated and will be removed from pandas in a future version. Use pandas.Index with the appropriate dtype instead.\n",
      "  from pandas import MultiIndex, Int64Index\n"
     ]
    },
    {
     "name": "stderr",
     "output_type": "stream",
     "text": [
      "[flaml.automl: 06-07 20:24:22] {2744} INFO -  at 54.8s,\testimator xgb_limitdepth's best error=0.2207,\tbest estimator lgbm's best error=0.2018\n",
      "[flaml.automl: 06-07 20:24:22] {2567} INFO - iteration 264, current learner xgboost\n",
      "C:\\Users\\micha\\anaconda3\\lib\\site-packages\\xgboost\\data.py:208: FutureWarning: pandas.Int64Index is deprecated and will be removed from pandas in a future version. Use pandas.Index with the appropriate dtype instead.\n",
      "  from pandas import MultiIndex, Int64Index\n",
      "C:\\Users\\micha\\anaconda3\\lib\\site-packages\\xgboost\\data.py:208: FutureWarning: pandas.Int64Index is deprecated and will be removed from pandas in a future version. Use pandas.Index with the appropriate dtype instead.\n",
      "  from pandas import MultiIndex, Int64Index\n",
      "C:\\Users\\micha\\anaconda3\\lib\\site-packages\\xgboost\\data.py:208: FutureWarning: pandas.Int64Index is deprecated and will be removed from pandas in a future version. Use pandas.Index with the appropriate dtype instead.\n",
      "  from pandas import MultiIndex, Int64Index\n",
      "[flaml.automl: 06-07 20:24:22] {2744} INFO -  at 55.2s,\testimator xgboost's best error=0.2066,\tbest estimator lgbm's best error=0.2018\n",
      "[flaml.automl: 06-07 20:24:22] {2567} INFO - iteration 265, current learner xgb_limitdepth\n",
      "C:\\Users\\micha\\anaconda3\\lib\\site-packages\\xgboost\\data.py:208: FutureWarning: pandas.Int64Index is deprecated and will be removed from pandas in a future version. Use pandas.Index with the appropriate dtype instead.\n",
      "  from pandas import MultiIndex, Int64Index\n",
      "C:\\Users\\micha\\anaconda3\\lib\\site-packages\\xgboost\\data.py:208: FutureWarning: pandas.Int64Index is deprecated and will be removed from pandas in a future version. Use pandas.Index with the appropriate dtype instead.\n",
      "  from pandas import MultiIndex, Int64Index\n",
      "C:\\Users\\micha\\anaconda3\\lib\\site-packages\\xgboost\\data.py:208: FutureWarning: pandas.Int64Index is deprecated and will be removed from pandas in a future version. Use pandas.Index with the appropriate dtype instead.\n",
      "  from pandas import MultiIndex, Int64Index\n",
      "[flaml.automl: 06-07 20:24:22] {2744} INFO -  at 55.2s,\testimator xgb_limitdepth's best error=0.2207,\tbest estimator lgbm's best error=0.2018\n",
      "[flaml.automl: 06-07 20:24:22] {2567} INFO - iteration 266, current learner xgb_limitdepth\n",
      "C:\\Users\\micha\\anaconda3\\lib\\site-packages\\xgboost\\data.py:208: FutureWarning: pandas.Int64Index is deprecated and will be removed from pandas in a future version. Use pandas.Index with the appropriate dtype instead.\n",
      "  from pandas import MultiIndex, Int64Index\n",
      "C:\\Users\\micha\\anaconda3\\lib\\site-packages\\xgboost\\data.py:208: FutureWarning: pandas.Int64Index is deprecated and will be removed from pandas in a future version. Use pandas.Index with the appropriate dtype instead.\n",
      "  from pandas import MultiIndex, Int64Index\n",
      "C:\\Users\\micha\\anaconda3\\lib\\site-packages\\xgboost\\data.py:208: FutureWarning: pandas.Int64Index is deprecated and will be removed from pandas in a future version. Use pandas.Index with the appropriate dtype instead.\n",
      "  from pandas import MultiIndex, Int64Index\n",
      "[flaml.automl: 06-07 20:24:22] {2744} INFO -  at 55.4s,\testimator xgb_limitdepth's best error=0.2207,\tbest estimator lgbm's best error=0.2018\n",
      "[flaml.automl: 06-07 20:24:22] {2567} INFO - iteration 267, current learner xgb_limitdepth\n",
      "C:\\Users\\micha\\anaconda3\\lib\\site-packages\\xgboost\\data.py:208: FutureWarning: pandas.Int64Index is deprecated and will be removed from pandas in a future version. Use pandas.Index with the appropriate dtype instead.\n",
      "  from pandas import MultiIndex, Int64Index\n",
      "C:\\Users\\micha\\anaconda3\\lib\\site-packages\\xgboost\\data.py:208: FutureWarning: pandas.Int64Index is deprecated and will be removed from pandas in a future version. Use pandas.Index with the appropriate dtype instead.\n",
      "  from pandas import MultiIndex, Int64Index\n",
      "C:\\Users\\micha\\anaconda3\\lib\\site-packages\\xgboost\\data.py:208: FutureWarning: pandas.Int64Index is deprecated and will be removed from pandas in a future version. Use pandas.Index with the appropriate dtype instead.\n",
      "  from pandas import MultiIndex, Int64Index\n",
      "[flaml.automl: 06-07 20:24:22] {2744} INFO -  at 55.5s,\testimator xgb_limitdepth's best error=0.2207,\tbest estimator lgbm's best error=0.2018\n",
      "[flaml.automl: 06-07 20:24:22] {2567} INFO - iteration 268, current learner xgb_limitdepth\n",
      "C:\\Users\\micha\\anaconda3\\lib\\site-packages\\xgboost\\data.py:208: FutureWarning: pandas.Int64Index is deprecated and will be removed from pandas in a future version. Use pandas.Index with the appropriate dtype instead.\n",
      "  from pandas import MultiIndex, Int64Index\n",
      "C:\\Users\\micha\\anaconda3\\lib\\site-packages\\xgboost\\data.py:208: FutureWarning: pandas.Int64Index is deprecated and will be removed from pandas in a future version. Use pandas.Index with the appropriate dtype instead.\n",
      "  from pandas import MultiIndex, Int64Index\n",
      "C:\\Users\\micha\\anaconda3\\lib\\site-packages\\xgboost\\data.py:208: FutureWarning: pandas.Int64Index is deprecated and will be removed from pandas in a future version. Use pandas.Index with the appropriate dtype instead.\n",
      "  from pandas import MultiIndex, Int64Index\n",
      "[flaml.automl: 06-07 20:24:23] {2744} INFO -  at 55.6s,\testimator xgb_limitdepth's best error=0.2207,\tbest estimator lgbm's best error=0.2018\n",
      "[flaml.automl: 06-07 20:24:23] {2567} INFO - iteration 269, current learner xgb_limitdepth\n",
      "C:\\Users\\micha\\anaconda3\\lib\\site-packages\\xgboost\\data.py:208: FutureWarning: pandas.Int64Index is deprecated and will be removed from pandas in a future version. Use pandas.Index with the appropriate dtype instead.\n",
      "  from pandas import MultiIndex, Int64Index\n",
      "C:\\Users\\micha\\anaconda3\\lib\\site-packages\\xgboost\\data.py:208: FutureWarning: pandas.Int64Index is deprecated and will be removed from pandas in a future version. Use pandas.Index with the appropriate dtype instead.\n",
      "  from pandas import MultiIndex, Int64Index\n",
      "C:\\Users\\micha\\anaconda3\\lib\\site-packages\\xgboost\\data.py:208: FutureWarning: pandas.Int64Index is deprecated and will be removed from pandas in a future version. Use pandas.Index with the appropriate dtype instead.\n",
      "  from pandas import MultiIndex, Int64Index\n",
      "[flaml.automl: 06-07 20:24:23] {2744} INFO -  at 55.7s,\testimator xgb_limitdepth's best error=0.2207,\tbest estimator lgbm's best error=0.2018\n",
      "[flaml.automl: 06-07 20:24:23] {2567} INFO - iteration 270, current learner xgb_limitdepth\n",
      "C:\\Users\\micha\\anaconda3\\lib\\site-packages\\xgboost\\data.py:208: FutureWarning: pandas.Int64Index is deprecated and will be removed from pandas in a future version. Use pandas.Index with the appropriate dtype instead.\n",
      "  from pandas import MultiIndex, Int64Index\n",
      "C:\\Users\\micha\\anaconda3\\lib\\site-packages\\xgboost\\data.py:208: FutureWarning: pandas.Int64Index is deprecated and will be removed from pandas in a future version. Use pandas.Index with the appropriate dtype instead.\n",
      "  from pandas import MultiIndex, Int64Index\n",
      "C:\\Users\\micha\\anaconda3\\lib\\site-packages\\xgboost\\data.py:208: FutureWarning: pandas.Int64Index is deprecated and will be removed from pandas in a future version. Use pandas.Index with the appropriate dtype instead.\n",
      "  from pandas import MultiIndex, Int64Index\n",
      "[flaml.automl: 06-07 20:24:23] {2744} INFO -  at 55.8s,\testimator xgb_limitdepth's best error=0.2207,\tbest estimator lgbm's best error=0.2018\n",
      "[flaml.automl: 06-07 20:24:23] {2567} INFO - iteration 271, current learner lgbm\n",
      "[flaml.automl: 06-07 20:24:23] {2744} INFO -  at 56.0s,\testimator lgbm's best error=0.2018,\tbest estimator lgbm's best error=0.2018\n",
      "[flaml.automl: 06-07 20:24:23] {2567} INFO - iteration 272, current learner xgb_limitdepth\n",
      "C:\\Users\\micha\\anaconda3\\lib\\site-packages\\xgboost\\data.py:208: FutureWarning: pandas.Int64Index is deprecated and will be removed from pandas in a future version. Use pandas.Index with the appropriate dtype instead.\n",
      "  from pandas import MultiIndex, Int64Index\n",
      "C:\\Users\\micha\\anaconda3\\lib\\site-packages\\xgboost\\data.py:208: FutureWarning: pandas.Int64Index is deprecated and will be removed from pandas in a future version. Use pandas.Index with the appropriate dtype instead.\n",
      "  from pandas import MultiIndex, Int64Index\n",
      "C:\\Users\\micha\\anaconda3\\lib\\site-packages\\xgboost\\data.py:208: FutureWarning: pandas.Int64Index is deprecated and will be removed from pandas in a future version. Use pandas.Index with the appropriate dtype instead.\n",
      "  from pandas import MultiIndex, Int64Index\n"
     ]
    },
    {
     "name": "stderr",
     "output_type": "stream",
     "text": [
      "[flaml.automl: 06-07 20:24:23] {2744} INFO -  at 56.1s,\testimator xgb_limitdepth's best error=0.2207,\tbest estimator lgbm's best error=0.2018\n",
      "[flaml.automl: 06-07 20:24:23] {2567} INFO - iteration 273, current learner xgboost\n",
      "C:\\Users\\micha\\anaconda3\\lib\\site-packages\\xgboost\\data.py:208: FutureWarning: pandas.Int64Index is deprecated and will be removed from pandas in a future version. Use pandas.Index with the appropriate dtype instead.\n",
      "  from pandas import MultiIndex, Int64Index\n",
      "C:\\Users\\micha\\anaconda3\\lib\\site-packages\\xgboost\\data.py:208: FutureWarning: pandas.Int64Index is deprecated and will be removed from pandas in a future version. Use pandas.Index with the appropriate dtype instead.\n",
      "  from pandas import MultiIndex, Int64Index\n",
      "C:\\Users\\micha\\anaconda3\\lib\\site-packages\\xgboost\\data.py:208: FutureWarning: pandas.Int64Index is deprecated and will be removed from pandas in a future version. Use pandas.Index with the appropriate dtype instead.\n",
      "  from pandas import MultiIndex, Int64Index\n",
      "[flaml.automl: 06-07 20:24:23] {2744} INFO -  at 56.2s,\testimator xgboost's best error=0.2066,\tbest estimator lgbm's best error=0.2018\n",
      "[flaml.automl: 06-07 20:24:23] {2567} INFO - iteration 274, current learner rf\n",
      "[flaml.automl: 06-07 20:24:24] {2744} INFO -  at 56.5s,\testimator rf's best error=0.2242,\tbest estimator lgbm's best error=0.2018\n",
      "[flaml.automl: 06-07 20:24:24] {2567} INFO - iteration 275, current learner xgboost\n",
      "C:\\Users\\micha\\anaconda3\\lib\\site-packages\\xgboost\\data.py:208: FutureWarning: pandas.Int64Index is deprecated and will be removed from pandas in a future version. Use pandas.Index with the appropriate dtype instead.\n",
      "  from pandas import MultiIndex, Int64Index\n",
      "C:\\Users\\micha\\anaconda3\\lib\\site-packages\\xgboost\\data.py:208: FutureWarning: pandas.Int64Index is deprecated and will be removed from pandas in a future version. Use pandas.Index with the appropriate dtype instead.\n",
      "  from pandas import MultiIndex, Int64Index\n",
      "C:\\Users\\micha\\anaconda3\\lib\\site-packages\\xgboost\\data.py:208: FutureWarning: pandas.Int64Index is deprecated and will be removed from pandas in a future version. Use pandas.Index with the appropriate dtype instead.\n",
      "  from pandas import MultiIndex, Int64Index\n",
      "[flaml.automl: 06-07 20:24:24] {2744} INFO -  at 56.8s,\testimator xgboost's best error=0.2066,\tbest estimator lgbm's best error=0.2018\n",
      "[flaml.automl: 06-07 20:24:24] {2567} INFO - iteration 276, current learner catboost\n",
      "[flaml.automl: 06-07 20:24:24] {2744} INFO -  at 57.3s,\testimator catboost's best error=0.2124,\tbest estimator lgbm's best error=0.2018\n",
      "[flaml.automl: 06-07 20:24:24] {2567} INFO - iteration 277, current learner lgbm\n",
      "[flaml.automl: 06-07 20:24:24] {2744} INFO -  at 57.4s,\testimator lgbm's best error=0.2018,\tbest estimator lgbm's best error=0.2018\n",
      "[flaml.automl: 06-07 20:24:24] {2567} INFO - iteration 278, current learner xgb_limitdepth\n",
      "C:\\Users\\micha\\anaconda3\\lib\\site-packages\\xgboost\\data.py:208: FutureWarning: pandas.Int64Index is deprecated and will be removed from pandas in a future version. Use pandas.Index with the appropriate dtype instead.\n",
      "  from pandas import MultiIndex, Int64Index\n",
      "C:\\Users\\micha\\anaconda3\\lib\\site-packages\\xgboost\\data.py:208: FutureWarning: pandas.Int64Index is deprecated and will be removed from pandas in a future version. Use pandas.Index with the appropriate dtype instead.\n",
      "  from pandas import MultiIndex, Int64Index\n",
      "C:\\Users\\micha\\anaconda3\\lib\\site-packages\\xgboost\\data.py:208: FutureWarning: pandas.Int64Index is deprecated and will be removed from pandas in a future version. Use pandas.Index with the appropriate dtype instead.\n",
      "  from pandas import MultiIndex, Int64Index\n",
      "[flaml.automl: 06-07 20:24:25] {2744} INFO -  at 57.5s,\testimator xgb_limitdepth's best error=0.2154,\tbest estimator lgbm's best error=0.2018\n",
      "[flaml.automl: 06-07 20:24:25] {2567} INFO - iteration 279, current learner xgboost\n",
      "C:\\Users\\micha\\anaconda3\\lib\\site-packages\\xgboost\\data.py:208: FutureWarning: pandas.Int64Index is deprecated and will be removed from pandas in a future version. Use pandas.Index with the appropriate dtype instead.\n",
      "  from pandas import MultiIndex, Int64Index\n",
      "C:\\Users\\micha\\anaconda3\\lib\\site-packages\\xgboost\\data.py:208: FutureWarning: pandas.Int64Index is deprecated and will be removed from pandas in a future version. Use pandas.Index with the appropriate dtype instead.\n",
      "  from pandas import MultiIndex, Int64Index\n",
      "C:\\Users\\micha\\anaconda3\\lib\\site-packages\\xgboost\\data.py:208: FutureWarning: pandas.Int64Index is deprecated and will be removed from pandas in a future version. Use pandas.Index with the appropriate dtype instead.\n",
      "  from pandas import MultiIndex, Int64Index\n",
      "[flaml.automl: 06-07 20:24:25] {2744} INFO -  at 57.8s,\testimator xgboost's best error=0.2066,\tbest estimator lgbm's best error=0.2018\n",
      "[flaml.automl: 06-07 20:24:25] {2567} INFO - iteration 280, current learner xgb_limitdepth\n",
      "C:\\Users\\micha\\anaconda3\\lib\\site-packages\\xgboost\\data.py:208: FutureWarning: pandas.Int64Index is deprecated and will be removed from pandas in a future version. Use pandas.Index with the appropriate dtype instead.\n",
      "  from pandas import MultiIndex, Int64Index\n",
      "C:\\Users\\micha\\anaconda3\\lib\\site-packages\\xgboost\\data.py:208: FutureWarning: pandas.Int64Index is deprecated and will be removed from pandas in a future version. Use pandas.Index with the appropriate dtype instead.\n",
      "  from pandas import MultiIndex, Int64Index\n",
      "C:\\Users\\micha\\anaconda3\\lib\\site-packages\\xgboost\\data.py:208: FutureWarning: pandas.Int64Index is deprecated and will be removed from pandas in a future version. Use pandas.Index with the appropriate dtype instead.\n",
      "  from pandas import MultiIndex, Int64Index\n",
      "[flaml.automl: 06-07 20:24:25] {2744} INFO -  at 57.9s,\testimator xgb_limitdepth's best error=0.2154,\tbest estimator lgbm's best error=0.2018\n",
      "[flaml.automl: 06-07 20:24:25] {2567} INFO - iteration 281, current learner xgb_limitdepth\n",
      "C:\\Users\\micha\\anaconda3\\lib\\site-packages\\xgboost\\data.py:208: FutureWarning: pandas.Int64Index is deprecated and will be removed from pandas in a future version. Use pandas.Index with the appropriate dtype instead.\n",
      "  from pandas import MultiIndex, Int64Index\n",
      "C:\\Users\\micha\\anaconda3\\lib\\site-packages\\xgboost\\data.py:208: FutureWarning: pandas.Int64Index is deprecated and will be removed from pandas in a future version. Use pandas.Index with the appropriate dtype instead.\n",
      "  from pandas import MultiIndex, Int64Index\n",
      "C:\\Users\\micha\\anaconda3\\lib\\site-packages\\xgboost\\data.py:208: FutureWarning: pandas.Int64Index is deprecated and will be removed from pandas in a future version. Use pandas.Index with the appropriate dtype instead.\n",
      "  from pandas import MultiIndex, Int64Index\n",
      "[flaml.automl: 06-07 20:24:25] {2744} INFO -  at 58.0s,\testimator xgb_limitdepth's best error=0.2154,\tbest estimator lgbm's best error=0.2018\n",
      "[flaml.automl: 06-07 20:24:25] {2567} INFO - iteration 282, current learner lgbm\n",
      "[flaml.automl: 06-07 20:24:25] {2744} INFO -  at 58.1s,\testimator lgbm's best error=0.2018,\tbest estimator lgbm's best error=0.2018\n",
      "[flaml.automl: 06-07 20:24:25] {2567} INFO - iteration 283, current learner rf\n",
      "[flaml.automl: 06-07 20:24:26] {2744} INFO -  at 58.7s,\testimator rf's best error=0.2242,\tbest estimator lgbm's best error=0.2018\n",
      "[flaml.automl: 06-07 20:24:26] {2567} INFO - iteration 284, current learner lgbm\n",
      "[flaml.automl: 06-07 20:24:26] {2744} INFO -  at 58.8s,\testimator lgbm's best error=0.2018,\tbest estimator lgbm's best error=0.2018\n",
      "[flaml.automl: 06-07 20:24:26] {2567} INFO - iteration 285, current learner xgb_limitdepth\n",
      "C:\\Users\\micha\\anaconda3\\lib\\site-packages\\xgboost\\data.py:208: FutureWarning: pandas.Int64Index is deprecated and will be removed from pandas in a future version. Use pandas.Index with the appropriate dtype instead.\n",
      "  from pandas import MultiIndex, Int64Index\n",
      "C:\\Users\\micha\\anaconda3\\lib\\site-packages\\xgboost\\data.py:208: FutureWarning: pandas.Int64Index is deprecated and will be removed from pandas in a future version. Use pandas.Index with the appropriate dtype instead.\n",
      "  from pandas import MultiIndex, Int64Index\n",
      "C:\\Users\\micha\\anaconda3\\lib\\site-packages\\xgboost\\data.py:208: FutureWarning: pandas.Int64Index is deprecated and will be removed from pandas in a future version. Use pandas.Index with the appropriate dtype instead.\n",
      "  from pandas import MultiIndex, Int64Index\n"
     ]
    },
    {
     "name": "stderr",
     "output_type": "stream",
     "text": [
      "[flaml.automl: 06-07 20:24:26] {2744} INFO -  at 58.9s,\testimator xgb_limitdepth's best error=0.2154,\tbest estimator lgbm's best error=0.2018\n",
      "[flaml.automl: 06-07 20:24:26] {2567} INFO - iteration 286, current learner xgb_limitdepth\n",
      "C:\\Users\\micha\\anaconda3\\lib\\site-packages\\xgboost\\data.py:208: FutureWarning: pandas.Int64Index is deprecated and will be removed from pandas in a future version. Use pandas.Index with the appropriate dtype instead.\n",
      "  from pandas import MultiIndex, Int64Index\n",
      "C:\\Users\\micha\\anaconda3\\lib\\site-packages\\xgboost\\data.py:208: FutureWarning: pandas.Int64Index is deprecated and will be removed from pandas in a future version. Use pandas.Index with the appropriate dtype instead.\n",
      "  from pandas import MultiIndex, Int64Index\n",
      "C:\\Users\\micha\\anaconda3\\lib\\site-packages\\xgboost\\data.py:208: FutureWarning: pandas.Int64Index is deprecated and will be removed from pandas in a future version. Use pandas.Index with the appropriate dtype instead.\n",
      "  from pandas import MultiIndex, Int64Index\n",
      "[flaml.automl: 06-07 20:24:26] {2744} INFO -  at 59.1s,\testimator xgb_limitdepth's best error=0.2154,\tbest estimator lgbm's best error=0.2018\n",
      "[flaml.automl: 06-07 20:24:26] {2567} INFO - iteration 287, current learner xgb_limitdepth\n",
      "C:\\Users\\micha\\anaconda3\\lib\\site-packages\\xgboost\\data.py:208: FutureWarning: pandas.Int64Index is deprecated and will be removed from pandas in a future version. Use pandas.Index with the appropriate dtype instead.\n",
      "  from pandas import MultiIndex, Int64Index\n",
      "C:\\Users\\micha\\anaconda3\\lib\\site-packages\\xgboost\\data.py:208: FutureWarning: pandas.Int64Index is deprecated and will be removed from pandas in a future version. Use pandas.Index with the appropriate dtype instead.\n",
      "  from pandas import MultiIndex, Int64Index\n",
      "C:\\Users\\micha\\anaconda3\\lib\\site-packages\\xgboost\\data.py:208: FutureWarning: pandas.Int64Index is deprecated and will be removed from pandas in a future version. Use pandas.Index with the appropriate dtype instead.\n",
      "  from pandas import MultiIndex, Int64Index\n",
      "[flaml.automl: 06-07 20:24:26] {2744} INFO -  at 59.2s,\testimator xgb_limitdepth's best error=0.2154,\tbest estimator lgbm's best error=0.2018\n",
      "[flaml.automl: 06-07 20:24:26] {2567} INFO - iteration 288, current learner extra_tree\n",
      "[flaml.automl: 06-07 20:24:27] {2744} INFO -  at 59.6s,\testimator extra_tree's best error=0.2052,\tbest estimator lgbm's best error=0.2018\n",
      "[flaml.automl: 06-07 20:24:27] {2567} INFO - iteration 289, current learner lgbm\n",
      "[flaml.automl: 06-07 20:24:27] {2744} INFO -  at 59.7s,\testimator lgbm's best error=0.2018,\tbest estimator lgbm's best error=0.2018\n",
      "[flaml.automl: 06-07 20:24:27] {2567} INFO - iteration 290, current learner lgbm\n",
      "[flaml.automl: 06-07 20:24:27] {2744} INFO -  at 59.8s,\testimator lgbm's best error=0.2018,\tbest estimator lgbm's best error=0.2018\n",
      "[flaml.automl: 06-07 20:24:27] {2567} INFO - iteration 291, current learner xgb_limitdepth\n",
      "C:\\Users\\micha\\anaconda3\\lib\\site-packages\\xgboost\\data.py:208: FutureWarning: pandas.Int64Index is deprecated and will be removed from pandas in a future version. Use pandas.Index with the appropriate dtype instead.\n",
      "  from pandas import MultiIndex, Int64Index\n",
      "C:\\Users\\micha\\anaconda3\\lib\\site-packages\\xgboost\\data.py:208: FutureWarning: pandas.Int64Index is deprecated and will be removed from pandas in a future version. Use pandas.Index with the appropriate dtype instead.\n",
      "  from pandas import MultiIndex, Int64Index\n",
      "C:\\Users\\micha\\anaconda3\\lib\\site-packages\\xgboost\\data.py:208: FutureWarning: pandas.Int64Index is deprecated and will be removed from pandas in a future version. Use pandas.Index with the appropriate dtype instead.\n",
      "  from pandas import MultiIndex, Int64Index\n",
      "[flaml.automl: 06-07 20:24:27] {2744} INFO -  at 60.0s,\testimator xgb_limitdepth's best error=0.2154,\tbest estimator lgbm's best error=0.2018\n",
      "[flaml.automl: 06-07 20:24:27] {2974} INFO - retrain lgbm for 0.0s\n",
      "[flaml.automl: 06-07 20:24:27] {2981} INFO - retrained model: LGBMClassifier(colsample_bytree=0.7499769478925308,\n",
      "               learning_rate=0.08082902425474071, max_bin=1023,\n",
      "               min_child_samples=19, n_estimators=51, num_leaves=11,\n",
      "               reg_alpha=0.01363127819569445, reg_lambda=0.04871132169787342,\n",
      "               verbose=-1)\n",
      "[flaml.automl: 06-07 20:24:27] {2310} INFO - fit succeeded\n",
      "[flaml.automl: 06-07 20:24:27] {2311} INFO - Time taken to find the best model: 51.536869525909424\n",
      "[flaml.automl: 06-07 20:24:27] {2322} WARNING - Time taken to find the best model is 86% of the provided time budget and not all estimators' hyperparameter search converged. Consider increasing the time budget.\n"
     ]
    },
    {
     "ename": "TypeError",
     "evalue": "estimator should be an estimator implementing 'fit' method, 'lgbm' was passed",
     "output_type": "error",
     "traceback": [
      "\u001b[1;31m---------------------------------------------------------------------------\u001b[0m",
      "\u001b[1;31mTypeError\u001b[0m                                 Traceback (most recent call last)",
      "\u001b[1;32m<ipython-input-8-978718ce8220>\u001b[0m in \u001b[0;36m<module>\u001b[1;34m\u001b[0m\n\u001b[0;32m     20\u001b[0m     \u001b[0mflaml\u001b[0m\u001b[1;33m.\u001b[0m\u001b[0mfit\u001b[0m\u001b[1;33m(\u001b[0m\u001b[0mx\u001b[0m \u001b[1;33m=\u001b[0m \u001b[0mdata_x\u001b[0m\u001b[1;33m,\u001b[0m\u001b[0my\u001b[0m \u001b[1;33m=\u001b[0m \u001b[0mdata_y\u001b[0m\u001b[1;33m,\u001b[0m \u001b[0mcv\u001b[0m\u001b[1;33m=\u001b[0m\u001b[0mKFold\u001b[0m\u001b[1;33m(\u001b[0m\u001b[0mn_splits\u001b[0m\u001b[1;33m=\u001b[0m\u001b[1;36m3\u001b[0m\u001b[1;33m,\u001b[0m \u001b[0mrandom_state\u001b[0m\u001b[1;33m=\u001b[0m\u001b[1;36m444\u001b[0m\u001b[1;33m,\u001b[0m \u001b[0mshuffle\u001b[0m\u001b[1;33m=\u001b[0m\u001b[1;32mTrue\u001b[0m\u001b[1;33m)\u001b[0m\u001b[1;33m,\u001b[0m\u001b[1;33m**\u001b[0m\u001b[0mautoml_settings\u001b[0m\u001b[1;33m)\u001b[0m\u001b[1;33m\u001b[0m\u001b[1;33m\u001b[0m\u001b[0m\n\u001b[0;32m     21\u001b[0m     \u001b[0mnames1\u001b[0m\u001b[1;33m.\u001b[0m\u001b[0mappend\u001b[0m\u001b[1;33m(\u001b[0m\u001b[0mdataset\u001b[0m\u001b[1;33m.\u001b[0m\u001b[0mname\u001b[0m\u001b[1;33m)\u001b[0m\u001b[1;33m\u001b[0m\u001b[1;33m\u001b[0m\u001b[0m\n\u001b[1;32m---> 22\u001b[1;33m     accuracies1.append(cross_val_score(estimator = flaml.ml.best_estimator, X = data_x, y = data_y, scoring = 'roc_auc',\n\u001b[0m\u001b[0;32m     23\u001b[0m                                       cv=KFold(n_splits=3, random_state=444, shuffle=True)))\n\u001b[0;32m     24\u001b[0m     \u001b[0mtimes1\u001b[0m\u001b[1;33m.\u001b[0m\u001b[0mappend\u001b[0m\u001b[1;33m(\u001b[0m\u001b[0mtime\u001b[0m\u001b[1;33m.\u001b[0m\u001b[0mtime\u001b[0m\u001b[1;33m(\u001b[0m\u001b[1;33m)\u001b[0m\u001b[1;33m-\u001b[0m\u001b[0mstart_time\u001b[0m\u001b[1;33m)\u001b[0m\u001b[1;33m\u001b[0m\u001b[1;33m\u001b[0m\u001b[0m\n",
      "\u001b[1;32m~\\anaconda3\\lib\\site-packages\\sklearn\\model_selection\\_validation.py\u001b[0m in \u001b[0;36mcross_val_score\u001b[1;34m(estimator, X, y, groups, scoring, cv, n_jobs, verbose, fit_params, pre_dispatch, error_score)\u001b[0m\n\u001b[0;32m    505\u001b[0m     \"\"\"\n\u001b[0;32m    506\u001b[0m     \u001b[1;31m# To ensure multimetric format is not supported\u001b[0m\u001b[1;33m\u001b[0m\u001b[1;33m\u001b[0m\u001b[1;33m\u001b[0m\u001b[0m\n\u001b[1;32m--> 507\u001b[1;33m     \u001b[0mscorer\u001b[0m \u001b[1;33m=\u001b[0m \u001b[0mcheck_scoring\u001b[0m\u001b[1;33m(\u001b[0m\u001b[0mestimator\u001b[0m\u001b[1;33m,\u001b[0m \u001b[0mscoring\u001b[0m\u001b[1;33m=\u001b[0m\u001b[0mscoring\u001b[0m\u001b[1;33m)\u001b[0m\u001b[1;33m\u001b[0m\u001b[1;33m\u001b[0m\u001b[0m\n\u001b[0m\u001b[0;32m    508\u001b[0m \u001b[1;33m\u001b[0m\u001b[0m\n\u001b[0;32m    509\u001b[0m     cv_results = cross_validate(\n",
      "\u001b[1;32m~\\anaconda3\\lib\\site-packages\\sklearn\\metrics\\_scorer.py\u001b[0m in \u001b[0;36mcheck_scoring\u001b[1;34m(estimator, scoring, allow_none)\u001b[0m\n\u001b[0;32m    446\u001b[0m     \"\"\"\n\u001b[0;32m    447\u001b[0m     \u001b[1;32mif\u001b[0m \u001b[1;32mnot\u001b[0m \u001b[0mhasattr\u001b[0m\u001b[1;33m(\u001b[0m\u001b[0mestimator\u001b[0m\u001b[1;33m,\u001b[0m \u001b[1;34m\"fit\"\u001b[0m\u001b[1;33m)\u001b[0m\u001b[1;33m:\u001b[0m\u001b[1;33m\u001b[0m\u001b[1;33m\u001b[0m\u001b[0m\n\u001b[1;32m--> 448\u001b[1;33m         raise TypeError(\n\u001b[0m\u001b[0;32m    449\u001b[0m             \u001b[1;34m\"estimator should be an estimator implementing 'fit' method, %r was passed\"\u001b[0m\u001b[1;33m\u001b[0m\u001b[1;33m\u001b[0m\u001b[0m\n\u001b[0;32m    450\u001b[0m             \u001b[1;33m%\u001b[0m \u001b[0mestimator\u001b[0m\u001b[1;33m\u001b[0m\u001b[1;33m\u001b[0m\u001b[0m\n",
      "\u001b[1;31mTypeError\u001b[0m: estimator should be an estimator implementing 'fit' method, 'lgbm' was passed"
     ]
    }
   ],
   "source": [
    "from team5 import OurFlaml\n",
    "automl_settings = {\n",
    "        \"time_budget\": 60,\n",
    "        \"metric\": 'roc_auc',\n",
    "        \"task\": 'classification',\n",
    "        \"log_file_name\": 'mylog.log',\n",
    "    }\n",
    "for task_id in tasks_ids:\n",
    "    dataset = openml.tasks.get_task(task_id).get_dataset()\n",
    "    if pd.DataFrame(dataset.get_data()[0])[dataset.default_target_attribute].nunique() != 2:\n",
    "        continue\n",
    "    data_x, data_y, a, b = dataset.get_data(\n",
    "        dataset_format='array',\n",
    "        target = dataset.default_target_attribute\n",
    "    )\n",
    "    data_x = pd.DataFrame(data_x)\n",
    "    data_y = pd.Series(data_y)\n",
    "    start_time = time.time()\n",
    "    flaml = OurFlaml.OurFlaml()\n",
    "    flaml.fit(x = data_x,y = data_y, cv=KFold(n_splits=3, random_state=444, shuffle=True),**automl_settings)\n",
    "    names1.append(dataset.name)\n",
    "    accuracies1.append(cross_val_score(estimator = flaml.ml.best_estimator, X = data_x, y = data_y, scoring = 'roc_auc',\n",
    "                                      cv=KFold(n_splits=3, random_state=444, shuffle=True)))\n",
    "    times1.append(time.time()-start_time)"
   ]
  },
  {
   "cell_type": "code",
   "execution_count": 25,
   "metadata": {},
   "outputs": [],
   "source": [
    "df1 = pd.DataFrame({\n",
    "    'Nazwa zbioru': names1,\n",
    "    \"AUC\": accuracies1,\n",
    "    \"Czas trenowania\":times1})"
   ]
  },
  {
   "cell_type": "code",
   "execution_count": 26,
   "metadata": {},
   "outputs": [
    {
     "data": {
      "image/png": "[encoded data removed]",
      "text/plain": [
       "<Figure size 432x288 with 1 Axes>"
      ]
     },
     "metadata": {
      "needs_background": "light"
     },
     "output_type": "display_data"
    },
    {
     "data": {
      "text/plain": [
       "<Figure size 2000x1600 with 0 Axes>"
      ]
     },
     "metadata": {},
     "output_type": "display_data"
    }
   ],
   "source": [
    "plt.bar('Nazwa zbioru', 'AUC',data = df1.sort_values(by='AUC',))\n",
    "plt.title(\"ROC AUC for each dataset (FLAML)\")\n",
    "plt.xticks(rotation=90)\n",
    "plt.figure(figsize=(25, 20), dpi=80)\n",
    "plt.show()"
   ]
  },
  {
   "cell_type": "code",
   "execution_count": 7,
   "metadata": {},
   "outputs": [
    {
     "data": {
      "text/plain": [
       "[]"
      ]
     },
     "execution_count": 7,
     "metadata": {},
     "output_type": "execute_result"
    }
   ],
   "source": [
    "accuracies1"
   ]
  },
  {
   "cell_type": "code",
   "execution_count": 28,
   "metadata": {},
   "outputs": [
    {
     "data": {
      "text/html": [
       "<div>\n",
       "<style scoped>\n",
       "    .dataframe tbody tr th:only-of-type {\n",
       "        vertical-align: middle;\n",
       "    }\n",
       "\n",
       "    .dataframe tbody tr th {\n",
       "        vertical-align: top;\n",
       "    }\n",
       "\n",
       "    .dataframe thead th {\n",
       "        text-align: right;\n",
       "    }\n",
       "</style>\n",
       "<table border=\"1\" class=\"dataframe\">\n",
       "  <thead>\n",
       "    <tr style=\"text-align: right;\">\n",
       "      <th></th>\n",
       "      <th>Nazwa zbioru</th>\n",
       "      <th>AUC</th>\n",
       "      <th>Czas trenowania</th>\n",
       "    </tr>\n",
       "  </thead>\n",
       "  <tbody>\n",
       "    <tr>\n",
       "      <th>0</th>\n",
       "      <td>credit-g</td>\n",
       "      <td>0.789788</td>\n",
       "      <td>16.156255</td>\n",
       "    </tr>\n",
       "    <tr>\n",
       "      <th>1</th>\n",
       "      <td>kr-vs-kp</td>\n",
       "      <td>0.999030</td>\n",
       "      <td>14.786120</td>\n",
       "    </tr>\n",
       "    <tr>\n",
       "      <th>2</th>\n",
       "      <td>blood-transfusion-service-center</td>\n",
       "      <td>0.733323</td>\n",
       "      <td>7.478860</td>\n",
       "    </tr>\n",
       "    <tr>\n",
       "      <th>3</th>\n",
       "      <td>kc1</td>\n",
       "      <td>0.830463</td>\n",
       "      <td>22.101531</td>\n",
       "    </tr>\n",
       "    <tr>\n",
       "      <th>4</th>\n",
       "      <td>blood-transfusion-service-center</td>\n",
       "      <td>0.741065</td>\n",
       "      <td>7.258633</td>\n",
       "    </tr>\n",
       "    <tr>\n",
       "      <th>5</th>\n",
       "      <td>phoneme</td>\n",
       "      <td>0.958587</td>\n",
       "      <td>26.763726</td>\n",
       "    </tr>\n",
       "    <tr>\n",
       "      <th>6</th>\n",
       "      <td>bank-marketing</td>\n",
       "      <td>0.929497</td>\n",
       "      <td>319.840505</td>\n",
       "    </tr>\n",
       "    <tr>\n",
       "      <th>7</th>\n",
       "      <td>nomao</td>\n",
       "      <td>0.994635</td>\n",
       "      <td>319.886999</td>\n",
       "    </tr>\n",
       "    <tr>\n",
       "      <th>8</th>\n",
       "      <td>Amazon_employee_access</td>\n",
       "      <td>0.848410</td>\n",
       "      <td>180.141056</td>\n",
       "    </tr>\n",
       "    <tr>\n",
       "      <th>9</th>\n",
       "      <td>adult</td>\n",
       "      <td>0.915972</td>\n",
       "      <td>220.787195</td>\n",
       "    </tr>\n",
       "    <tr>\n",
       "      <th>10</th>\n",
       "      <td>Australian</td>\n",
       "      <td>0.940510</td>\n",
       "      <td>7.942779</td>\n",
       "    </tr>\n",
       "    <tr>\n",
       "      <th>11</th>\n",
       "      <td>numerai28.6</td>\n",
       "      <td>0.530373</td>\n",
       "      <td>2270.048718</td>\n",
       "    </tr>\n",
       "  </tbody>\n",
       "</table>\n",
       "</div>"
      ],
      "text/plain": [
       "                        Nazwa zbioru       AUC  Czas trenowania\n",
       "0                           credit-g  0.789788        16.156255\n",
       "1                           kr-vs-kp  0.999030        14.786120\n",
       "2   blood-transfusion-service-center  0.733323         7.478860\n",
       "3                                kc1  0.830463        22.101531\n",
       "4   blood-transfusion-service-center  0.741065         7.258633\n",
       "5                            phoneme  0.958587        26.763726\n",
       "6                     bank-marketing  0.929497       319.840505\n",
       "7                              nomao  0.994635       319.886999\n",
       "8             Amazon_employee_access  0.848410       180.141056\n",
       "9                              adult  0.915972       220.787195\n",
       "10                        Australian  0.940510         7.942779\n",
       "11                       numerai28.6  0.530373      2270.048718"
      ]
     },
     "execution_count": 28,
     "metadata": {},
     "output_type": "execute_result"
    }
   ],
   "source": [
    "df"
   ]
  },
  {
   "cell_type": "code",
   "execution_count": 29,
   "metadata": {},
   "outputs": [
    {
     "data": {
      "text/html": [
       "<div>\n",
       "<style scoped>\n",
       "    .dataframe tbody tr th:only-of-type {\n",
       "        vertical-align: middle;\n",
       "    }\n",
       "\n",
       "    .dataframe tbody tr th {\n",
       "        vertical-align: top;\n",
       "    }\n",
       "\n",
       "    .dataframe thead th {\n",
       "        text-align: right;\n",
       "    }\n",
       "</style>\n",
       "<table border=\"1\" class=\"dataframe\">\n",
       "  <thead>\n",
       "    <tr style=\"text-align: right;\">\n",
       "      <th></th>\n",
       "      <th>Nazwa zbioru</th>\n",
       "      <th>AUC</th>\n",
       "      <th>Czas trenowania</th>\n",
       "    </tr>\n",
       "  </thead>\n",
       "  <tbody>\n",
       "    <tr>\n",
       "      <th>0</th>\n",
       "      <td>credit-g</td>\n",
       "      <td>0.778015</td>\n",
       "      <td>60.126661</td>\n",
       "    </tr>\n",
       "    <tr>\n",
       "      <th>1</th>\n",
       "      <td>kr-vs-kp</td>\n",
       "      <td>0.995620</td>\n",
       "      <td>60.494047</td>\n",
       "    </tr>\n",
       "    <tr>\n",
       "      <th>2</th>\n",
       "      <td>blood-transfusion-service-center</td>\n",
       "      <td>0.795432</td>\n",
       "      <td>60.107111</td>\n",
       "    </tr>\n",
       "    <tr>\n",
       "      <th>3</th>\n",
       "      <td>kc1</td>\n",
       "      <td>0.866287</td>\n",
       "      <td>60.214755</td>\n",
       "    </tr>\n",
       "    <tr>\n",
       "      <th>4</th>\n",
       "      <td>blood-transfusion-service-center</td>\n",
       "      <td>0.795432</td>\n",
       "      <td>60.137103</td>\n",
       "    </tr>\n",
       "    <tr>\n",
       "      <th>5</th>\n",
       "      <td>phoneme</td>\n",
       "      <td>0.902853</td>\n",
       "      <td>60.598400</td>\n",
       "    </tr>\n",
       "    <tr>\n",
       "      <th>6</th>\n",
       "      <td>bank-marketing</td>\n",
       "      <td>0.908894</td>\n",
       "      <td>62.000510</td>\n",
       "    </tr>\n",
       "    <tr>\n",
       "      <th>7</th>\n",
       "      <td>nomao</td>\n",
       "      <td>0.972320</td>\n",
       "      <td>62.233964</td>\n",
       "    </tr>\n",
       "    <tr>\n",
       "      <th>8</th>\n",
       "      <td>Amazon_employee_access</td>\n",
       "      <td>0.949251</td>\n",
       "      <td>61.284085</td>\n",
       "    </tr>\n",
       "    <tr>\n",
       "      <th>9</th>\n",
       "      <td>adult</td>\n",
       "      <td>0.870173</td>\n",
       "      <td>61.081150</td>\n",
       "    </tr>\n",
       "    <tr>\n",
       "      <th>10</th>\n",
       "      <td>Australian</td>\n",
       "      <td>0.879710</td>\n",
       "      <td>60.030111</td>\n",
       "    </tr>\n",
       "    <tr>\n",
       "      <th>11</th>\n",
       "      <td>numerai28.6</td>\n",
       "      <td>0.520608</td>\n",
       "      <td>61.063363</td>\n",
       "    </tr>\n",
       "  </tbody>\n",
       "</table>\n",
       "</div>"
      ],
      "text/plain": [
       "                        Nazwa zbioru       AUC  Czas trenowania\n",
       "0                           credit-g  0.778015        60.126661\n",
       "1                           kr-vs-kp  0.995620        60.494047\n",
       "2   blood-transfusion-service-center  0.795432        60.107111\n",
       "3                                kc1  0.866287        60.214755\n",
       "4   blood-transfusion-service-center  0.795432        60.137103\n",
       "5                            phoneme  0.902853        60.598400\n",
       "6                     bank-marketing  0.908894        62.000510\n",
       "7                              nomao  0.972320        62.233964\n",
       "8             Amazon_employee_access  0.949251        61.284085\n",
       "9                              adult  0.870173        61.081150\n",
       "10                        Australian  0.879710        60.030111\n",
       "11                       numerai28.6  0.520608        61.063363"
      ]
     },
     "execution_count": 29,
     "metadata": {},
     "output_type": "execute_result"
    }
   ],
   "source": [
    "df1"
   ]
  },
  {
   "cell_type": "code",
   "execution_count": 10,
   "metadata": {},
   "outputs": [],
   "source": [
    "names1 = ['credit-g', 'kr-vs-kp','blood-transfusion-service-center','kc1','phoneme','bank-marketing','nomao',\n",
    "              'Amazon_employee_access','adult','Australian','numerai28.8']\n",
    "times1 = [16.156255, 14.786120, 7.258633, 22.101531,26.763726, 319.840505,\n",
    "          319.886999, 180.141056,220.787195,7.942779,2270.048718]"
   ]
  },
  {
   "cell_type": "code",
   "execution_count": 11,
   "metadata": {},
   "outputs": [],
   "source": [
    "df1 = pd.DataFrame({\n",
    "    'Nazwa zbioru': names1,\n",
    "    \"Czas trenowania\":times1})"
   ]
  },
  {
   "cell_type": "code",
   "execution_count": 13,
   "metadata": {},
   "outputs": [],
   "source": [
    "import numpy as np\n"
   ]
  },
  {
   "cell_type": "code",
   "execution_count": 19,
   "metadata": {},
   "outputs": [],
   "source": [
    "df1 = df1.assign(Czas_trenowania = lambda x: np.log10(x[\"Czas trenowania\"]))"
   ]
  },
  {
   "cell_type": "code",
   "execution_count": 20,
   "metadata": {},
   "outputs": [
    {
     "data": {
      "image/png": "[encoded data removed]",
      "text/plain": [
       "<Figure size 432x288 with 1 Axes>"
      ]
     },
     "metadata": {
      "needs_background": "light"
     },
     "output_type": "display_data"
    },
    {
     "data": {
      "text/plain": [
       "<Figure size 2000x1600 with 0 Axes>"
      ]
     },
     "metadata": {},
     "output_type": "display_data"
    }
   ],
   "source": [
    "plt.bar('Nazwa zbioru', 'Czas_trenowania',data = df1.sort_values(by='Czas_trenowania',ascending=False))\n",
    "plt.title(\"Logarithm of the time to train OurML on each dataset\")\n",
    "plt.xticks(rotation=90)\n",
    "plt.figure(figsize=(25, 20), dpi=80)\n",
    "plt.show()"
   ]
  }
 ],
 "metadata": {
  "interpreter": {
   "hash": "c3eb45716d4223b37f966190c9e8a5abcb9553af427af581635cac7176bbd7a0"
  },
  "kernelspec": {
   "display_name": "Python 3",
   "language": "python",
   "name": "python3"
  },
  "language_info": {
   "codemirror_mode": {
    "name": "ipython",
    "version": 3
   },
   "file_extension": ".py",
   "mimetype": "text/x-python",
   "name": "python",
   "nbconvert_exporter": "python",
   "pygments_lexer": "ipython3",
   "version": "3.8.3"
  }
 },
 "nbformat": 4,
 "nbformat_minor": 2
}
