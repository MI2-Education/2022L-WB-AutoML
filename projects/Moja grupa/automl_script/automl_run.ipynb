{
 "cells": [
  {
   "cell_type": "code",
   "execution_count": null,
   "id": "1f1663ad-962b-4b3c-8154-fdd839e8f532",
   "metadata": {},
   "outputs": [],
   "source": [
    "from AutoML_preprocess import cross_valid\n",
    "import numpy as np\n",
    "import pandas as pd\n",
    "import pickle\n",
    "import os\n",
    "import datetime\n",
    "from tqdm import tqdm"
   ]
  },
  {
   "cell_type": "code",
   "execution_count": null,
   "id": "029d3f9d-91ac-44c2-8c44-f19513afbb78",
   "metadata": {},
   "outputs": [],
   "source": [
    "def load_pickle(path):\n",
    "    with open(path, 'rb') as handle:\n",
    "        data = pickle.load(handle)\n",
    "    return data\n",
    "\n",
    "def save_pickle(path, data):\n",
    "    with open(path, 'wb') as handle:\n",
    "        pickle.dump(data, handle, protocol=pickle.HIGHEST_PROTOCOL)\n",
    "\n",
    "def load_data(dataset_name):\n",
    "    dataset_path = os.path.join(\"..\", \"data\", f\"{dataset_name}.pkl\")\n",
    "    indexes_path = os.path.join(\"..\", \"data\", f\"{dataset_name}_splits.pkl\")\n",
    "    df = pd.read_pickle(dataset_path)\n",
    "    indexes = load_pickle(indexes_path)\n",
    "    return df, indexes"
   ]
  },
  {
   "cell_type": "code",
   "execution_count": null,
   "id": "de942e5a-ebfa-4b53-8d8f-907daa5cd506",
   "metadata": {},
   "outputs": [],
   "source": [
    "datasets1 = ['kr-vs-kp', 'credit-g', 'kc1', 'KDDCup09_appetency', 'adult', 'phoneme',\n",
    "'nomao', 'blood-transfusion-service-center', 'bank-marketing',\n",
    "'Amazon_employee_access', 'higgs', 'numerai28.6', 'airlines', 'Australian']\n",
    "y_index_column1 = [-1] * 13\n",
    "datasets2 = ['MiniBooNE', 'guillermo', 'riccardo', 'APSFailure', 'christine',\n",
    "'jasmine', 'sylvine', 'albert']\n",
    "y_index_column2 = [0] * 8"
   ]
  },
  {
   "cell_type": "code",
   "execution_count": null,
   "id": "724aac85-d4ac-49b9-8c39-38dd90df752b",
   "metadata": {},
   "outputs": [],
   "source": [
    "datasets = datasets1 + datasets2\n",
    "y_index_column = y_index_column1 + y_index_column2"
   ]
  },
  {
   "cell_type": "code",
   "execution_count": null,
   "id": "6403c9c2-c6be-427f-9ef0-b73688d0257d",
   "metadata": {},
   "outputs": [],
   "source": [
    "modeling_results = {}\n",
    "\n",
    "def model_data(datasets, y_index_column, start=0, end=10):\n",
    "    for i, sets in tqdm(enumerate(datasets), desc=\"Datasets\"):\n",
    "        print(sets)\n",
    "        print(48 * \"-\")\n",
    "        df, indexes = load_data(sets)\n",
    "        X = df.drop(df.columns[y_index_column[i]], axis=1)\n",
    "        y = df[df.columns[y_index_column[i]]]\n",
    "        try:\n",
    "            models, results = cross_valid(X, y, indexes, model, result, start, end)\n",
    "        except Exception as e:\n",
    "            print(e)\n",
    "            return modeling_results\n",
    "        modeling_results[sets] = results\n",
    "        modeling_results[sets][\"models\"] = models\n",
    "    return modeling_results"
   ]
  },
  {
   "cell_type": "code",
   "execution_count": null,
   "id": "fbc10366-77d0-4c30-a3d6-fef3c81e8453",
   "metadata": {},
   "outputs": [],
   "source": [
    "score = model_data(datasets, y_index_column)"
   ]
  }
 ],
 "metadata": {
  "kernelspec": {
   "display_name": "autosklearn",
   "language": "python",
   "name": "autosklearn"
  },
  "language_info": {
   "codemirror_mode": {
    "name": "ipython",
    "version": 3
   },
   "file_extension": ".py",
   "mimetype": "text/x-python",
   "name": "python",
   "nbconvert_exporter": "python",
   "pygments_lexer": "ipython3",
   "version": "3.9.12"
  }
 },
 "nbformat": 4,
 "nbformat_minor": 5
}
