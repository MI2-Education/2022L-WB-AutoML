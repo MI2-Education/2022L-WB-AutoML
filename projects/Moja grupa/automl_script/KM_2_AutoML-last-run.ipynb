{
 "cells": [
  {
   "cell_type": "code",
   "execution_count": 1,
   "id": "d1f03c34-28cc-4f7e-bba8-2af6b907734f",
   "metadata": {
    "tags": []
   },
   "outputs": [],
   "source": [
    "from AutoML_preprocess import cross_valid\n",
    "import numpy as np\n",
    "import pandas as pd\n",
    "import pickle\n",
    "import os\n",
    "import datetime"
   ]
  },
  {
   "cell_type": "code",
   "execution_count": 2,
   "id": "38f2d8df-deb8-4294-901f-5ea3126dcd64",
   "metadata": {},
   "outputs": [],
   "source": [
    "def load_pickle(path):\n",
    "    with open(path, 'rb') as handle:\n",
    "        data = pickle.load(handle)\n",
    "    return data\n",
    "\n",
    "def load_data(dataset_name):\n",
    "    dataset_path = os.path.join(\"data\", f\"{dataset_name}.pkl\")\n",
    "    indexes_path = os.path.join(\"data\", f\"{dataset_name}_splits.pkl\")\n",
    "    df = pd.read_pickle(dataset_path)\n",
    "    indexes = load_pickle(indexes_path)\n",
    "    return df, indexes"
   ]
  },
  {
   "cell_type": "code",
   "execution_count": 3,
   "id": "d5f77606-097b-4908-bd8e-96cf61f301b3",
   "metadata": {},
   "outputs": [],
   "source": [
    "def model_data(datasets, y_index_column):\n",
    "    modeling_results = {}\n",
    "    for i, sets in enumerate(datasets):\n",
    "        print(sets)\n",
    "        print(48 * \"-\")\n",
    "        df, indexes = load_data(sets)\n",
    "        X = df.drop(df.columns[y_index_column[i]], axis=1)\n",
    "        y = df[df.columns[y_index_column[i]]]\n",
    "        try:\n",
    "            results = cross_valid(X, y, indexes)\n",
    "        except Exception as e:\n",
    "            print(e)\n",
    "            return modeling_results\n",
    "        modeling_results[sets] = results\n",
    "    return modeling_results"
   ]
  },
  {
   "cell_type": "code",
   "execution_count": 4,
   "id": "4430c645-2dcc-44fa-913b-e30a6550b04c",
   "metadata": {},
   "outputs": [],
   "source": [
    "datasets = ['airlines', 'albert'] # trzeba dodac 'airlines', target na koncu\n",
    "y_index_column = [-1, 0]"
   ]
  },
  {
   "cell_type": "code",
   "execution_count": 5,
   "id": "f7c4b6b6-7c97-4389-a193-544f6925957d",
   "metadata": {
    "tags": []
   },
   "outputs": [
    {
     "name": "stdout",
     "output_type": "stream",
     "text": [
      "airlines\n",
      "------------------------------------------------\n",
      "albert\n",
      "------------------------------------------------\n"
     ]
    }
   ],
   "source": [
    "score = model_data(datasets, y_index_column)"
   ]
  },
  {
   "cell_type": "code",
   "execution_count": 6,
   "id": "6eaaf328-f948-4a01-9a36-6f87eaa781c3",
   "metadata": {
    "tags": []
   },
   "outputs": [
    {
     "data": {
      "text/plain": [
       "{'airlines': {'accuracy': [0.5545523647082816,\n",
       "   0.5545523647082816,\n",
       "   0.5545523647082816,\n",
       "   0.554562646000964,\n",
       "   0.554562646000964,\n",
       "   0.554562646000964,\n",
       "   0.554562646000964,\n",
       "   0.554562646000964,\n",
       "   0.554562646000964,\n",
       "   0.5545441061960028],\n",
       "  'auc': [0.5, 0.5, 0.5, 0.5, 0.5, 0.5, 0.5, 0.5, 0.5, 0.5]},\n",
       " 'albert': {'accuracy': [0.5, 0.5, 0.5, 0.5, 0.5, 0.5, 0.5, 0.5, 0.5, 0.5],\n",
       "  'auc': [0.5, 0.5, 0.5, 0.5, 0.5, 0.5, 0.5, 0.5, 0.5, 0.5]}}"
      ]
     },
     "execution_count": 6,
     "metadata": {},
     "output_type": "execute_result"
    }
   ],
   "source": [
    "score"
   ]
  },
  {
   "cell_type": "code",
   "execution_count": 7,
   "id": "c2d8fe48-aa2f-492c-9a28-cecef98de1dd",
   "metadata": {
    "tags": []
   },
   "outputs": [],
   "source": [
    "s = pd.DataFrame.from_dict(score)\n",
    "s.to_csv(\"folds_results_4.csv\")\n",
    "df = s.applymap(lambda x: f\"{np.mean(np.array(x))} +- {np.std(np.array(x))}\")\n",
    "df.to_csv(\"results_4.csv\")"
   ]
  }
 ],
 "metadata": {
  "kernelspec": {
   "display_name": "Python 3 (ipykernel)",
   "language": "python",
   "name": "python3"
  },
  "language_info": {
   "codemirror_mode": {
    "name": "ipython",
    "version": 3
   },
   "file_extension": ".py",
   "mimetype": "text/x-python",
   "name": "python",
   "nbconvert_exporter": "python",
   "pygments_lexer": "ipython3",
   "version": "3.9.7"
  }
 },
 "nbformat": 4,
 "nbformat_minor": 5
}
