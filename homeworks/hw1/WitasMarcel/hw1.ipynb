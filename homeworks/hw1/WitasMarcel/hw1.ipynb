{
 "cells": [
  {
   "cell_type": "markdown",
   "id": "65336cde",
   "metadata": {},
   "source": [
    "# Warsztaty Badawcze\n",
    "## Praca domowa 1\n",
    "*Marcel Witas*"
   ]
  },
  {
   "cell_type": "code",
   "execution_count": 1,
   "id": "e75ea651",
   "metadata": {},
   "outputs": [],
   "source": [
    "import pandas as pd\n",
    "import numpy as np\n",
    "import re\n",
    "\n",
    "from matplotlib import pyplot as plt\n",
    "import seaborn as sns\n",
    "from sklearn.preprocessing import OneHotEncoder"
   ]
  },
  {
   "cell_type": "markdown",
   "id": "c114ef8c",
   "metadata": {},
   "source": [
    "## Wczytanie zbioru danych\n",
    "Dane pochodzą z amerykańskich szpitali. Dotyczą pacjentów, którym została zdiagnozowana cukrzyca, byli w szpitalu co najmniej 1 dzień, a maksymalnie 14 dni, podczas ich pobytu przeprowadzono testy laboratoryjne oraz podanawano leki. Zmienną objaśnianą jest *readmitted*, która mówi, czy pacjent trafił do szpitala drugi raz."
   ]
  },
  {
   "cell_type": "code",
   "execution_count": 2,
   "id": "a27d0610",
   "metadata": {
    "scrolled": true
   },
   "outputs": [
    {
     "data": {
      "text/html": [
       "<div>\n",
       "<style scoped>\n",
       "    .dataframe tbody tr th:only-of-type {\n",
       "        vertical-align: middle;\n",
       "    }\n",
       "\n",
       "    .dataframe tbody tr th {\n",
       "        vertical-align: top;\n",
       "    }\n",
       "\n",
       "    .dataframe thead th {\n",
       "        text-align: right;\n",
       "    }\n",
       "</style>\n",
       "<table border=\"1\" class=\"dataframe\">\n",
       "  <thead>\n",
       "    <tr style=\"text-align: right;\">\n",
       "      <th></th>\n",
       "      <th>encounter_id</th>\n",
       "      <th>patient_nbr</th>\n",
       "      <th>race</th>\n",
       "      <th>gender</th>\n",
       "      <th>age</th>\n",
       "      <th>weight</th>\n",
       "      <th>admission_type_id</th>\n",
       "      <th>discharge_disposition_id</th>\n",
       "      <th>admission_source_id</th>\n",
       "      <th>time_in_hospital</th>\n",
       "      <th>...</th>\n",
       "      <th>citoglipton</th>\n",
       "      <th>insulin</th>\n",
       "      <th>glyburide-metformin</th>\n",
       "      <th>glipizide-metformin</th>\n",
       "      <th>glimepiride-pioglitazone</th>\n",
       "      <th>metformin-rosiglitazone</th>\n",
       "      <th>metformin-pioglitazone</th>\n",
       "      <th>change</th>\n",
       "      <th>diabetesMed</th>\n",
       "      <th>readmitted</th>\n",
       "    </tr>\n",
       "  </thead>\n",
       "  <tbody>\n",
       "    <tr>\n",
       "      <th>0</th>\n",
       "      <td>2278392</td>\n",
       "      <td>8222157</td>\n",
       "      <td>Caucasian</td>\n",
       "      <td>Female</td>\n",
       "      <td>[0-10)</td>\n",
       "      <td>?</td>\n",
       "      <td>6</td>\n",
       "      <td>25</td>\n",
       "      <td>1</td>\n",
       "      <td>1</td>\n",
       "      <td>...</td>\n",
       "      <td>No</td>\n",
       "      <td>No</td>\n",
       "      <td>No</td>\n",
       "      <td>No</td>\n",
       "      <td>No</td>\n",
       "      <td>No</td>\n",
       "      <td>No</td>\n",
       "      <td>No</td>\n",
       "      <td>No</td>\n",
       "      <td>NO</td>\n",
       "    </tr>\n",
       "    <tr>\n",
       "      <th>1</th>\n",
       "      <td>149190</td>\n",
       "      <td>55629189</td>\n",
       "      <td>Caucasian</td>\n",
       "      <td>Female</td>\n",
       "      <td>[10-20)</td>\n",
       "      <td>?</td>\n",
       "      <td>1</td>\n",
       "      <td>1</td>\n",
       "      <td>7</td>\n",
       "      <td>3</td>\n",
       "      <td>...</td>\n",
       "      <td>No</td>\n",
       "      <td>Up</td>\n",
       "      <td>No</td>\n",
       "      <td>No</td>\n",
       "      <td>No</td>\n",
       "      <td>No</td>\n",
       "      <td>No</td>\n",
       "      <td>Ch</td>\n",
       "      <td>Yes</td>\n",
       "      <td>&gt;30</td>\n",
       "    </tr>\n",
       "    <tr>\n",
       "      <th>2</th>\n",
       "      <td>64410</td>\n",
       "      <td>86047875</td>\n",
       "      <td>AfricanAmerican</td>\n",
       "      <td>Female</td>\n",
       "      <td>[20-30)</td>\n",
       "      <td>?</td>\n",
       "      <td>1</td>\n",
       "      <td>1</td>\n",
       "      <td>7</td>\n",
       "      <td>2</td>\n",
       "      <td>...</td>\n",
       "      <td>No</td>\n",
       "      <td>No</td>\n",
       "      <td>No</td>\n",
       "      <td>No</td>\n",
       "      <td>No</td>\n",
       "      <td>No</td>\n",
       "      <td>No</td>\n",
       "      <td>No</td>\n",
       "      <td>Yes</td>\n",
       "      <td>NO</td>\n",
       "    </tr>\n",
       "    <tr>\n",
       "      <th>3</th>\n",
       "      <td>500364</td>\n",
       "      <td>82442376</td>\n",
       "      <td>Caucasian</td>\n",
       "      <td>Male</td>\n",
       "      <td>[30-40)</td>\n",
       "      <td>?</td>\n",
       "      <td>1</td>\n",
       "      <td>1</td>\n",
       "      <td>7</td>\n",
       "      <td>2</td>\n",
       "      <td>...</td>\n",
       "      <td>No</td>\n",
       "      <td>Up</td>\n",
       "      <td>No</td>\n",
       "      <td>No</td>\n",
       "      <td>No</td>\n",
       "      <td>No</td>\n",
       "      <td>No</td>\n",
       "      <td>Ch</td>\n",
       "      <td>Yes</td>\n",
       "      <td>NO</td>\n",
       "    </tr>\n",
       "    <tr>\n",
       "      <th>4</th>\n",
       "      <td>16680</td>\n",
       "      <td>42519267</td>\n",
       "      <td>Caucasian</td>\n",
       "      <td>Male</td>\n",
       "      <td>[40-50)</td>\n",
       "      <td>?</td>\n",
       "      <td>1</td>\n",
       "      <td>1</td>\n",
       "      <td>7</td>\n",
       "      <td>1</td>\n",
       "      <td>...</td>\n",
       "      <td>No</td>\n",
       "      <td>Steady</td>\n",
       "      <td>No</td>\n",
       "      <td>No</td>\n",
       "      <td>No</td>\n",
       "      <td>No</td>\n",
       "      <td>No</td>\n",
       "      <td>Ch</td>\n",
       "      <td>Yes</td>\n",
       "      <td>NO</td>\n",
       "    </tr>\n",
       "  </tbody>\n",
       "</table>\n",
       "<p>5 rows × 50 columns</p>\n",
       "</div>"
      ],
      "text/plain": [
       "   encounter_id  patient_nbr             race  gender      age weight  \\\n",
       "0       2278392      8222157        Caucasian  Female   [0-10)      ?   \n",
       "1        149190     55629189        Caucasian  Female  [10-20)      ?   \n",
       "2         64410     86047875  AfricanAmerican  Female  [20-30)      ?   \n",
       "3        500364     82442376        Caucasian    Male  [30-40)      ?   \n",
       "4         16680     42519267        Caucasian    Male  [40-50)      ?   \n",
       "\n",
       "   admission_type_id  discharge_disposition_id  admission_source_id  \\\n",
       "0                  6                        25                    1   \n",
       "1                  1                         1                    7   \n",
       "2                  1                         1                    7   \n",
       "3                  1                         1                    7   \n",
       "4                  1                         1                    7   \n",
       "\n",
       "   time_in_hospital  ... citoglipton insulin  glyburide-metformin  \\\n",
       "0                 1  ...          No      No                   No   \n",
       "1                 3  ...          No      Up                   No   \n",
       "2                 2  ...          No      No                   No   \n",
       "3                 2  ...          No      Up                   No   \n",
       "4                 1  ...          No  Steady                   No   \n",
       "\n",
       "   glipizide-metformin  glimepiride-pioglitazone  metformin-rosiglitazone  \\\n",
       "0                   No                        No                       No   \n",
       "1                   No                        No                       No   \n",
       "2                   No                        No                       No   \n",
       "3                   No                        No                       No   \n",
       "4                   No                        No                       No   \n",
       "\n",
       "   metformin-pioglitazone  change diabetesMed readmitted  \n",
       "0                      No      No          No         NO  \n",
       "1                      No      Ch         Yes        >30  \n",
       "2                      No      No         Yes         NO  \n",
       "3                      No      Ch         Yes         NO  \n",
       "4                      No      Ch         Yes         NO  \n",
       "\n",
       "[5 rows x 50 columns]"
      ]
     },
     "execution_count": 2,
     "metadata": {},
     "output_type": "execute_result"
    }
   ],
   "source": [
    "diabetes_df = pd.read_csv(\"dataset_diabetes\\diabetic_data.csv\")\n",
    "diabetes_df.head(5)"
   ]
  },
  {
   "cell_type": "markdown",
   "id": "0415a88e",
   "metadata": {},
   "source": [
    "### Preprocessing"
   ]
  },
  {
   "cell_type": "markdown",
   "id": "14158bae",
   "metadata": {},
   "source": [
    "#### Zmienna objaśniana"
   ]
  },
  {
   "cell_type": "code",
   "execution_count": 3,
   "id": "2e8ec0f7",
   "metadata": {
    "scrolled": true
   },
   "outputs": [
    {
     "data": {
      "text/plain": [
       "NO     54864\n",
       ">30    35545\n",
       "<30    11357\n",
       "Name: readmitted, dtype: int64"
      ]
     },
     "execution_count": 3,
     "metadata": {},
     "output_type": "execute_result"
    }
   ],
   "source": [
    "diabetes_df['readmitted'].value_counts()"
   ]
  },
  {
   "cell_type": "markdown",
   "id": "9db80327",
   "metadata": {},
   "source": [
    "Zmienna *readmitted* przyjmuje wartości \"NO\", \">30\", \"<30\", a zatem został rozróżniony czas, po którym dana osoba trafiała do szpitala ponownie. Nas interesuje jedynie fakt, czy trafiła tam ponownie, zatem możemy przekształcić:"
   ]
  },
  {
   "cell_type": "code",
   "execution_count": 4,
   "id": "16f87d36",
   "metadata": {},
   "outputs": [],
   "source": [
    "diabetes_df['readmitted'] = [0 if x == 'NO' else 1 for x in diabetes_df['readmitted']]"
   ]
  },
  {
   "cell_type": "code",
   "execution_count": 5,
   "id": "0687372d",
   "metadata": {},
   "outputs": [
    {
     "data": {
      "text/html": [
       "<div>\n",
       "<style scoped>\n",
       "    .dataframe tbody tr th:only-of-type {\n",
       "        vertical-align: middle;\n",
       "    }\n",
       "\n",
       "    .dataframe tbody tr th {\n",
       "        vertical-align: top;\n",
       "    }\n",
       "\n",
       "    .dataframe thead th {\n",
       "        text-align: right;\n",
       "    }\n",
       "</style>\n",
       "<table border=\"1\" class=\"dataframe\">\n",
       "  <thead>\n",
       "    <tr style=\"text-align: right;\">\n",
       "      <th></th>\n",
       "      <th>encounter_id</th>\n",
       "      <th>patient_nbr</th>\n",
       "      <th>race</th>\n",
       "      <th>gender</th>\n",
       "      <th>age</th>\n",
       "      <th>weight</th>\n",
       "      <th>admission_type_id</th>\n",
       "      <th>discharge_disposition_id</th>\n",
       "      <th>admission_source_id</th>\n",
       "      <th>time_in_hospital</th>\n",
       "      <th>...</th>\n",
       "      <th>citoglipton</th>\n",
       "      <th>insulin</th>\n",
       "      <th>glyburide-metformin</th>\n",
       "      <th>glipizide-metformin</th>\n",
       "      <th>glimepiride-pioglitazone</th>\n",
       "      <th>metformin-rosiglitazone</th>\n",
       "      <th>metformin-pioglitazone</th>\n",
       "      <th>change</th>\n",
       "      <th>diabetesMed</th>\n",
       "      <th>readmitted</th>\n",
       "    </tr>\n",
       "  </thead>\n",
       "  <tbody>\n",
       "    <tr>\n",
       "      <th>0</th>\n",
       "      <td>2278392</td>\n",
       "      <td>8222157</td>\n",
       "      <td>Caucasian</td>\n",
       "      <td>Female</td>\n",
       "      <td>[0-10)</td>\n",
       "      <td>?</td>\n",
       "      <td>6</td>\n",
       "      <td>25</td>\n",
       "      <td>1</td>\n",
       "      <td>1</td>\n",
       "      <td>...</td>\n",
       "      <td>No</td>\n",
       "      <td>No</td>\n",
       "      <td>No</td>\n",
       "      <td>No</td>\n",
       "      <td>No</td>\n",
       "      <td>No</td>\n",
       "      <td>No</td>\n",
       "      <td>No</td>\n",
       "      <td>No</td>\n",
       "      <td>0</td>\n",
       "    </tr>\n",
       "    <tr>\n",
       "      <th>1</th>\n",
       "      <td>149190</td>\n",
       "      <td>55629189</td>\n",
       "      <td>Caucasian</td>\n",
       "      <td>Female</td>\n",
       "      <td>[10-20)</td>\n",
       "      <td>?</td>\n",
       "      <td>1</td>\n",
       "      <td>1</td>\n",
       "      <td>7</td>\n",
       "      <td>3</td>\n",
       "      <td>...</td>\n",
       "      <td>No</td>\n",
       "      <td>Up</td>\n",
       "      <td>No</td>\n",
       "      <td>No</td>\n",
       "      <td>No</td>\n",
       "      <td>No</td>\n",
       "      <td>No</td>\n",
       "      <td>Ch</td>\n",
       "      <td>Yes</td>\n",
       "      <td>1</td>\n",
       "    </tr>\n",
       "    <tr>\n",
       "      <th>2</th>\n",
       "      <td>64410</td>\n",
       "      <td>86047875</td>\n",
       "      <td>AfricanAmerican</td>\n",
       "      <td>Female</td>\n",
       "      <td>[20-30)</td>\n",
       "      <td>?</td>\n",
       "      <td>1</td>\n",
       "      <td>1</td>\n",
       "      <td>7</td>\n",
       "      <td>2</td>\n",
       "      <td>...</td>\n",
       "      <td>No</td>\n",
       "      <td>No</td>\n",
       "      <td>No</td>\n",
       "      <td>No</td>\n",
       "      <td>No</td>\n",
       "      <td>No</td>\n",
       "      <td>No</td>\n",
       "      <td>No</td>\n",
       "      <td>Yes</td>\n",
       "      <td>0</td>\n",
       "    </tr>\n",
       "    <tr>\n",
       "      <th>3</th>\n",
       "      <td>500364</td>\n",
       "      <td>82442376</td>\n",
       "      <td>Caucasian</td>\n",
       "      <td>Male</td>\n",
       "      <td>[30-40)</td>\n",
       "      <td>?</td>\n",
       "      <td>1</td>\n",
       "      <td>1</td>\n",
       "      <td>7</td>\n",
       "      <td>2</td>\n",
       "      <td>...</td>\n",
       "      <td>No</td>\n",
       "      <td>Up</td>\n",
       "      <td>No</td>\n",
       "      <td>No</td>\n",
       "      <td>No</td>\n",
       "      <td>No</td>\n",
       "      <td>No</td>\n",
       "      <td>Ch</td>\n",
       "      <td>Yes</td>\n",
       "      <td>0</td>\n",
       "    </tr>\n",
       "    <tr>\n",
       "      <th>4</th>\n",
       "      <td>16680</td>\n",
       "      <td>42519267</td>\n",
       "      <td>Caucasian</td>\n",
       "      <td>Male</td>\n",
       "      <td>[40-50)</td>\n",
       "      <td>?</td>\n",
       "      <td>1</td>\n",
       "      <td>1</td>\n",
       "      <td>7</td>\n",
       "      <td>1</td>\n",
       "      <td>...</td>\n",
       "      <td>No</td>\n",
       "      <td>Steady</td>\n",
       "      <td>No</td>\n",
       "      <td>No</td>\n",
       "      <td>No</td>\n",
       "      <td>No</td>\n",
       "      <td>No</td>\n",
       "      <td>Ch</td>\n",
       "      <td>Yes</td>\n",
       "      <td>0</td>\n",
       "    </tr>\n",
       "  </tbody>\n",
       "</table>\n",
       "<p>5 rows × 50 columns</p>\n",
       "</div>"
      ],
      "text/plain": [
       "   encounter_id  patient_nbr             race  gender      age weight  \\\n",
       "0       2278392      8222157        Caucasian  Female   [0-10)      ?   \n",
       "1        149190     55629189        Caucasian  Female  [10-20)      ?   \n",
       "2         64410     86047875  AfricanAmerican  Female  [20-30)      ?   \n",
       "3        500364     82442376        Caucasian    Male  [30-40)      ?   \n",
       "4         16680     42519267        Caucasian    Male  [40-50)      ?   \n",
       "\n",
       "   admission_type_id  discharge_disposition_id  admission_source_id  \\\n",
       "0                  6                        25                    1   \n",
       "1                  1                         1                    7   \n",
       "2                  1                         1                    7   \n",
       "3                  1                         1                    7   \n",
       "4                  1                         1                    7   \n",
       "\n",
       "   time_in_hospital  ... citoglipton insulin  glyburide-metformin  \\\n",
       "0                 1  ...          No      No                   No   \n",
       "1                 3  ...          No      Up                   No   \n",
       "2                 2  ...          No      No                   No   \n",
       "3                 2  ...          No      Up                   No   \n",
       "4                 1  ...          No  Steady                   No   \n",
       "\n",
       "   glipizide-metformin  glimepiride-pioglitazone  metformin-rosiglitazone  \\\n",
       "0                   No                        No                       No   \n",
       "1                   No                        No                       No   \n",
       "2                   No                        No                       No   \n",
       "3                   No                        No                       No   \n",
       "4                   No                        No                       No   \n",
       "\n",
       "   metformin-pioglitazone  change diabetesMed readmitted  \n",
       "0                      No      No          No          0  \n",
       "1                      No      Ch         Yes          1  \n",
       "2                      No      No         Yes          0  \n",
       "3                      No      Ch         Yes          0  \n",
       "4                      No      Ch         Yes          0  \n",
       "\n",
       "[5 rows x 50 columns]"
      ]
     },
     "execution_count": 5,
     "metadata": {},
     "output_type": "execute_result"
    }
   ],
   "source": [
    "diabetes_df.head(5)"
   ]
  },
  {
   "cell_type": "code",
   "execution_count": 6,
   "id": "19e3eab3",
   "metadata": {},
   "outputs": [
    {
     "name": "stdout",
     "output_type": "stream",
     "text": [
      "<class 'pandas.core.frame.DataFrame'>\n",
      "RangeIndex: 101766 entries, 0 to 101765\n",
      "Data columns (total 50 columns):\n",
      " #   Column                    Non-Null Count   Dtype \n",
      "---  ------                    --------------   ----- \n",
      " 0   encounter_id              101766 non-null  int64 \n",
      " 1   patient_nbr               101766 non-null  int64 \n",
      " 2   race                      101766 non-null  object\n",
      " 3   gender                    101766 non-null  object\n",
      " 4   age                       101766 non-null  object\n",
      " 5   weight                    101766 non-null  object\n",
      " 6   admission_type_id         101766 non-null  int64 \n",
      " 7   discharge_disposition_id  101766 non-null  int64 \n",
      " 8   admission_source_id       101766 non-null  int64 \n",
      " 9   time_in_hospital          101766 non-null  int64 \n",
      " 10  payer_code                101766 non-null  object\n",
      " 11  medical_specialty         101766 non-null  object\n",
      " 12  num_lab_procedures        101766 non-null  int64 \n",
      " 13  num_procedures            101766 non-null  int64 \n",
      " 14  num_medications           101766 non-null  int64 \n",
      " 15  number_outpatient         101766 non-null  int64 \n",
      " 16  number_emergency          101766 non-null  int64 \n",
      " 17  number_inpatient          101766 non-null  int64 \n",
      " 18  diag_1                    101766 non-null  object\n",
      " 19  diag_2                    101766 non-null  object\n",
      " 20  diag_3                    101766 non-null  object\n",
      " 21  number_diagnoses          101766 non-null  int64 \n",
      " 22  max_glu_serum             101766 non-null  object\n",
      " 23  A1Cresult                 101766 non-null  object\n",
      " 24  metformin                 101766 non-null  object\n",
      " 25  repaglinide               101766 non-null  object\n",
      " 26  nateglinide               101766 non-null  object\n",
      " 27  chlorpropamide            101766 non-null  object\n",
      " 28  glimepiride               101766 non-null  object\n",
      " 29  acetohexamide             101766 non-null  object\n",
      " 30  glipizide                 101766 non-null  object\n",
      " 31  glyburide                 101766 non-null  object\n",
      " 32  tolbutamide               101766 non-null  object\n",
      " 33  pioglitazone              101766 non-null  object\n",
      " 34  rosiglitazone             101766 non-null  object\n",
      " 35  acarbose                  101766 non-null  object\n",
      " 36  miglitol                  101766 non-null  object\n",
      " 37  troglitazone              101766 non-null  object\n",
      " 38  tolazamide                101766 non-null  object\n",
      " 39  examide                   101766 non-null  object\n",
      " 40  citoglipton               101766 non-null  object\n",
      " 41  insulin                   101766 non-null  object\n",
      " 42  glyburide-metformin       101766 non-null  object\n",
      " 43  glipizide-metformin       101766 non-null  object\n",
      " 44  glimepiride-pioglitazone  101766 non-null  object\n",
      " 45  metformin-rosiglitazone   101766 non-null  object\n",
      " 46  metformin-pioglitazone    101766 non-null  object\n",
      " 47  change                    101766 non-null  object\n",
      " 48  diabetesMed               101766 non-null  object\n",
      " 49  readmitted                101766 non-null  int64 \n",
      "dtypes: int64(14), object(36)\n",
      "memory usage: 38.8+ MB\n"
     ]
    }
   ],
   "source": [
    " diabetes_df.info()"
   ]
  },
  {
   "cell_type": "markdown",
   "id": "97455b1b",
   "metadata": {},
   "source": [
    "Teoretycznie zbiór danych nie zawiera braków. W rzeczywistości są jednak one zapisane w inny sposób, np. \"?\"."
   ]
  },
  {
   "cell_type": "markdown",
   "id": "dd226f5e",
   "metadata": {},
   "source": [
    "### Zmienne Numeryczne"
   ]
  },
  {
   "cell_type": "code",
   "execution_count": 7,
   "id": "7fd0e9d9",
   "metadata": {},
   "outputs": [
    {
     "name": "stderr",
     "output_type": "stream",
     "text": [
      "C:\\Users\\mwita\\Anaconda3\\lib\\site-packages\\pandas\\core\\frame.py:4308: SettingWithCopyWarning: \n",
      "A value is trying to be set on a copy of a slice from a DataFrame\n",
      "\n",
      "See the caveats in the documentation: https://pandas.pydata.org/pandas-docs/stable/user_guide/indexing.html#returning-a-view-versus-a-copy\n",
      "  return super().drop(\n"
     ]
    },
    {
     "data": {
      "text/html": [
       "<div>\n",
       "<style scoped>\n",
       "    .dataframe tbody tr th:only-of-type {\n",
       "        vertical-align: middle;\n",
       "    }\n",
       "\n",
       "    .dataframe tbody tr th {\n",
       "        vertical-align: top;\n",
       "    }\n",
       "\n",
       "    .dataframe thead th {\n",
       "        text-align: right;\n",
       "    }\n",
       "</style>\n",
       "<table border=\"1\" class=\"dataframe\">\n",
       "  <thead>\n",
       "    <tr style=\"text-align: right;\">\n",
       "      <th></th>\n",
       "      <th>time_in_hospital</th>\n",
       "      <th>num_lab_procedures</th>\n",
       "      <th>num_procedures</th>\n",
       "      <th>num_medications</th>\n",
       "      <th>number_outpatient</th>\n",
       "      <th>number_emergency</th>\n",
       "      <th>number_inpatient</th>\n",
       "      <th>number_diagnoses</th>\n",
       "    </tr>\n",
       "  </thead>\n",
       "  <tbody>\n",
       "    <tr>\n",
       "      <th>0</th>\n",
       "      <td>1</td>\n",
       "      <td>41</td>\n",
       "      <td>0</td>\n",
       "      <td>1</td>\n",
       "      <td>0</td>\n",
       "      <td>0</td>\n",
       "      <td>0</td>\n",
       "      <td>1</td>\n",
       "    </tr>\n",
       "    <tr>\n",
       "      <th>1</th>\n",
       "      <td>3</td>\n",
       "      <td>59</td>\n",
       "      <td>0</td>\n",
       "      <td>18</td>\n",
       "      <td>0</td>\n",
       "      <td>0</td>\n",
       "      <td>0</td>\n",
       "      <td>9</td>\n",
       "    </tr>\n",
       "    <tr>\n",
       "      <th>2</th>\n",
       "      <td>2</td>\n",
       "      <td>11</td>\n",
       "      <td>5</td>\n",
       "      <td>13</td>\n",
       "      <td>2</td>\n",
       "      <td>0</td>\n",
       "      <td>1</td>\n",
       "      <td>6</td>\n",
       "    </tr>\n",
       "    <tr>\n",
       "      <th>3</th>\n",
       "      <td>2</td>\n",
       "      <td>44</td>\n",
       "      <td>1</td>\n",
       "      <td>16</td>\n",
       "      <td>0</td>\n",
       "      <td>0</td>\n",
       "      <td>0</td>\n",
       "      <td>7</td>\n",
       "    </tr>\n",
       "    <tr>\n",
       "      <th>4</th>\n",
       "      <td>1</td>\n",
       "      <td>51</td>\n",
       "      <td>0</td>\n",
       "      <td>8</td>\n",
       "      <td>0</td>\n",
       "      <td>0</td>\n",
       "      <td>0</td>\n",
       "      <td>5</td>\n",
       "    </tr>\n",
       "    <tr>\n",
       "      <th>...</th>\n",
       "      <td>...</td>\n",
       "      <td>...</td>\n",
       "      <td>...</td>\n",
       "      <td>...</td>\n",
       "      <td>...</td>\n",
       "      <td>...</td>\n",
       "      <td>...</td>\n",
       "      <td>...</td>\n",
       "    </tr>\n",
       "    <tr>\n",
       "      <th>101761</th>\n",
       "      <td>3</td>\n",
       "      <td>51</td>\n",
       "      <td>0</td>\n",
       "      <td>16</td>\n",
       "      <td>0</td>\n",
       "      <td>0</td>\n",
       "      <td>0</td>\n",
       "      <td>9</td>\n",
       "    </tr>\n",
       "    <tr>\n",
       "      <th>101762</th>\n",
       "      <td>5</td>\n",
       "      <td>33</td>\n",
       "      <td>3</td>\n",
       "      <td>18</td>\n",
       "      <td>0</td>\n",
       "      <td>0</td>\n",
       "      <td>1</td>\n",
       "      <td>9</td>\n",
       "    </tr>\n",
       "    <tr>\n",
       "      <th>101763</th>\n",
       "      <td>1</td>\n",
       "      <td>53</td>\n",
       "      <td>0</td>\n",
       "      <td>9</td>\n",
       "      <td>1</td>\n",
       "      <td>0</td>\n",
       "      <td>0</td>\n",
       "      <td>13</td>\n",
       "    </tr>\n",
       "    <tr>\n",
       "      <th>101764</th>\n",
       "      <td>10</td>\n",
       "      <td>45</td>\n",
       "      <td>2</td>\n",
       "      <td>21</td>\n",
       "      <td>0</td>\n",
       "      <td>0</td>\n",
       "      <td>1</td>\n",
       "      <td>9</td>\n",
       "    </tr>\n",
       "    <tr>\n",
       "      <th>101765</th>\n",
       "      <td>6</td>\n",
       "      <td>13</td>\n",
       "      <td>3</td>\n",
       "      <td>3</td>\n",
       "      <td>0</td>\n",
       "      <td>0</td>\n",
       "      <td>0</td>\n",
       "      <td>9</td>\n",
       "    </tr>\n",
       "  </tbody>\n",
       "</table>\n",
       "<p>101766 rows × 8 columns</p>\n",
       "</div>"
      ],
      "text/plain": [
       "        time_in_hospital  num_lab_procedures  num_procedures  num_medications  \\\n",
       "0                      1                  41               0                1   \n",
       "1                      3                  59               0               18   \n",
       "2                      2                  11               5               13   \n",
       "3                      2                  44               1               16   \n",
       "4                      1                  51               0                8   \n",
       "...                  ...                 ...             ...              ...   \n",
       "101761                 3                  51               0               16   \n",
       "101762                 5                  33               3               18   \n",
       "101763                 1                  53               0                9   \n",
       "101764                10                  45               2               21   \n",
       "101765                 6                  13               3                3   \n",
       "\n",
       "        number_outpatient  number_emergency  number_inpatient  \\\n",
       "0                       0                 0                 0   \n",
       "1                       0                 0                 0   \n",
       "2                       2                 0                 1   \n",
       "3                       0                 0                 0   \n",
       "4                       0                 0                 0   \n",
       "...                   ...               ...               ...   \n",
       "101761                  0                 0                 0   \n",
       "101762                  0                 0                 1   \n",
       "101763                  1                 0                 0   \n",
       "101764                  0                 0                 1   \n",
       "101765                  0                 0                 0   \n",
       "\n",
       "        number_diagnoses  \n",
       "0                      1  \n",
       "1                      9  \n",
       "2                      6  \n",
       "3                      7  \n",
       "4                      5  \n",
       "...                  ...  \n",
       "101761                 9  \n",
       "101762                 9  \n",
       "101763                13  \n",
       "101764                 9  \n",
       "101765                 9  \n",
       "\n",
       "[101766 rows x 8 columns]"
      ]
     },
     "execution_count": 7,
     "metadata": {},
     "output_type": "execute_result"
    }
   ],
   "source": [
    "df_num = diabetes_df.select_dtypes(include=[np.number])\n",
    "df_num.drop('encounter_id', axis=1,inplace=True)\n",
    "df_num.drop('patient_nbr', axis=1,inplace=True)\n",
    "df_num.drop('discharge_disposition_id', axis=1,inplace=True)\n",
    "df_num.drop('admission_source_id', axis=1,inplace=True)\n",
    "df_num.drop('admission_type_id', axis=1,inplace=True)\n",
    "df_num.drop('readmitted', axis=1,inplace=True)\n",
    "df_num"
   ]
  },
  {
   "cell_type": "code",
   "execution_count": 8,
   "id": "1b4ab09a",
   "metadata": {
    "scrolled": false
   },
   "outputs": [
    {
     "data": {
      "image/png": "[encoded data removed]",
      "text/plain": [
       "<Figure size 1296x864 with 9 Axes>"
      ]
     },
     "metadata": {
      "needs_background": "light"
     },
     "output_type": "display_data"
    }
   ],
   "source": [
    "df_num.hist( figsize=(18, 12))\n",
    "\n",
    "plt.show()"
   ]
  },
  {
   "cell_type": "markdown",
   "id": "43d3d595",
   "metadata": {},
   "source": [
    "Zmienne przyjmują tylko wartości całkowite, num_lab_provedures i num_medications mają rozkład zbliżony do normalnego.\n",
    "#### Korelacje"
   ]
  },
  {
   "cell_type": "code",
   "execution_count": 9,
   "id": "2b9d9462",
   "metadata": {},
   "outputs": [
    {
     "data": {
      "image/png": "[encoded data removed]",
      "text/plain": [
       "<Figure size 432x288 with 2 Axes>"
      ]
     },
     "metadata": {
      "needs_background": "light"
     },
     "output_type": "display_data"
    }
   ],
   "source": [
    "heatmap = sns.heatmap(df_num.corr(), annot=True, vmin=-1, vmax=1, cmap=\"BrBG\")\n",
    "plt.show()"
   ]
  },
  {
   "cell_type": "markdown",
   "id": "68f37f45",
   "metadata": {},
   "source": [
    "### Zmienne  kategoryczne"
   ]
  },
  {
   "cell_type": "markdown",
   "id": "0350090f",
   "metadata": {},
   "source": [
    "#### Weight"
   ]
  },
  {
   "cell_type": "code",
   "execution_count": 10,
   "id": "7f333a3b",
   "metadata": {
    "scrolled": false
   },
   "outputs": [
    {
     "data": {
      "text/plain": [
       "?            98569\n",
       "[75-100)      1336\n",
       "[50-75)        897\n",
       "[100-125)      625\n",
       "[125-150)      145\n",
       "[25-50)         97\n",
       "[0-25)          48\n",
       "[150-175)       35\n",
       "[175-200)       11\n",
       ">200             3\n",
       "Name: weight, dtype: int64"
      ]
     },
     "execution_count": 10,
     "metadata": {},
     "output_type": "execute_result"
    }
   ],
   "source": [
    " diabetes_df['weight'].value_counts()"
   ]
  },
  {
   "cell_type": "markdown",
   "id": "f38e0dc2",
   "metadata": {},
   "source": [
    "Ponieważ kolumna *weight* zawiera powyżej 97% braków danych, możemy ją usunąć.\n",
    "Kolejne kolumny, które zawierają sporo braków danych, to *Payer code* i *Medical specialty*."
   ]
  },
  {
   "cell_type": "code",
   "execution_count": 11,
   "id": "e248c8d2",
   "metadata": {},
   "outputs": [],
   "source": [
    "diabetes_df.drop('weight', axis=1, inplace=True)"
   ]
  },
  {
   "cell_type": "markdown",
   "id": "2ee69c14",
   "metadata": {},
   "source": [
    "#### Payer Code"
   ]
  },
  {
   "cell_type": "markdown",
   "id": "59a9cf08",
   "metadata": {},
   "source": [
    "Przyjrzyjmy się kolumnie *payer_code*, która zawiera ponad 50% braków danych, zanim ją usuniemy, sprawdźmy, czy mogła mieć wpływ na ponowne przyjęcie do szpitala, np. czy self-pay byli przyjmowani ponownie rzadziej?"
   ]
  },
  {
   "cell_type": "code",
   "execution_count": 12,
   "id": "821be5fd",
   "metadata": {
    "scrolled": true
   },
   "outputs": [
    {
     "name": "stdout",
     "output_type": "stream",
     "text": [
      "0.4751348112642301\n"
     ]
    },
    {
     "data": {
      "image/png": "[encoded data removed]",
      "text/plain": [
       "<Figure size 432x288 with 1 Axes>"
      ]
     },
     "metadata": {
      "needs_background": "light"
     },
     "output_type": "display_data"
    }
   ],
   "source": [
    "print(diabetes_df.loc[diabetes_df['payer_code'] == 'SP','readmitted'].mean())\n",
    "sns.countplot(x = 'payer_code', data = diabetes_df, hue='readmitted')\n",
    "plt.show()"
   ]
  },
  {
   "cell_type": "markdown",
   "id": "5d5c0285",
   "metadata": {},
   "source": [
    "Jak widać, zmienna raczej nie miała wpływu na zmienną objaśnianą, zatem możemy ją usunąć."
   ]
  },
  {
   "cell_type": "code",
   "execution_count": 13,
   "id": "c9cab562",
   "metadata": {},
   "outputs": [],
   "source": [
    "diabetes_df.drop('payer_code', axis=1, inplace=True)"
   ]
  },
  {
   "cell_type": "code",
   "execution_count": 14,
   "id": "f2c83767",
   "metadata": {
    "scrolled": true
   },
   "outputs": [
    {
     "data": {
      "text/plain": [
       "0.49082208203132677"
      ]
     },
     "execution_count": 14,
     "metadata": {},
     "output_type": "execute_result"
    }
   ],
   "source": [
    "diabetes_df.loc[diabetes_df['medical_specialty'] == '?','medical_specialty'].count() / diabetes_df.loc[:,'medical_specialty'].count()"
   ]
  },
  {
   "cell_type": "code",
   "execution_count": 15,
   "id": "ac2fa372",
   "metadata": {
    "scrolled": true
   },
   "outputs": [
    {
     "data": {
      "text/plain": [
       "?                                49949\n",
       "InternalMedicine                 14635\n",
       "Emergency/Trauma                  7565\n",
       "Family/GeneralPractice            7440\n",
       "Cardiology                        5352\n",
       "                                 ...  \n",
       "Speech                               1\n",
       "Proctology                           1\n",
       "Psychiatry-Addictive                 1\n",
       "Pediatrics-InfectiousDiseases        1\n",
       "SportsMedicine                       1\n",
       "Name: medical_specialty, Length: 73, dtype: int64"
      ]
     },
     "execution_count": 15,
     "metadata": {},
     "output_type": "execute_result"
    }
   ],
   "source": [
    "\n",
    "diabetes_df['medical_specialty'].value_counts()\n",
    "# v = ['InternalMedicine',                     \n",
    "# 'Emergency/Trauma',                     \n",
    "# 'Family/GeneralPractice',\n",
    "# 'Cardiology', 'Pediatry' ]\n",
    "# df = diabetes_df.loc[diabetes_df['medical_specialty'].isin(v),:]\n",
    "# sns.countplot(x = 'medical_specialty', data = df, hue='readmitted')\n",
    "# plt.show()"
   ]
  },
  {
   "cell_type": "code",
   "execution_count": 16,
   "id": "64e373ff",
   "metadata": {},
   "outputs": [],
   "source": [
    "diabetes_df.drop('medical_specialty', axis=1, inplace=True)"
   ]
  },
  {
   "cell_type": "markdown",
   "id": "36d1078f",
   "metadata": {},
   "source": [
    "#### Admission type"
   ]
  },
  {
   "cell_type": "code",
   "execution_count": 17,
   "id": "a9a1d9e9",
   "metadata": {},
   "outputs": [
    {
     "data": {
      "text/html": [
       "<div>\n",
       "<style scoped>\n",
       "    .dataframe tbody tr th:only-of-type {\n",
       "        vertical-align: middle;\n",
       "    }\n",
       "\n",
       "    .dataframe tbody tr th {\n",
       "        vertical-align: top;\n",
       "    }\n",
       "\n",
       "    .dataframe thead th {\n",
       "        text-align: right;\n",
       "    }\n",
       "</style>\n",
       "<table border=\"1\" class=\"dataframe\">\n",
       "  <thead>\n",
       "    <tr style=\"text-align: right;\">\n",
       "      <th></th>\n",
       "      <th>encounter_id</th>\n",
       "      <th>patient_nbr</th>\n",
       "      <th>race</th>\n",
       "      <th>gender</th>\n",
       "      <th>age</th>\n",
       "      <th>admission_type_id</th>\n",
       "      <th>discharge_disposition_id</th>\n",
       "      <th>admission_source_id</th>\n",
       "      <th>time_in_hospital</th>\n",
       "      <th>num_lab_procedures</th>\n",
       "      <th>...</th>\n",
       "      <th>citoglipton</th>\n",
       "      <th>insulin</th>\n",
       "      <th>glyburide-metformin</th>\n",
       "      <th>glipizide-metformin</th>\n",
       "      <th>glimepiride-pioglitazone</th>\n",
       "      <th>metformin-rosiglitazone</th>\n",
       "      <th>metformin-pioglitazone</th>\n",
       "      <th>change</th>\n",
       "      <th>diabetesMed</th>\n",
       "      <th>readmitted</th>\n",
       "    </tr>\n",
       "  </thead>\n",
       "  <tbody>\n",
       "    <tr>\n",
       "      <th>2043</th>\n",
       "      <td>13169532</td>\n",
       "      <td>20191257</td>\n",
       "      <td>Caucasian</td>\n",
       "      <td>Male</td>\n",
       "      <td>[50-60)</td>\n",
       "      <td>4</td>\n",
       "      <td>1</td>\n",
       "      <td>4</td>\n",
       "      <td>2</td>\n",
       "      <td>56</td>\n",
       "      <td>...</td>\n",
       "      <td>No</td>\n",
       "      <td>Steady</td>\n",
       "      <td>No</td>\n",
       "      <td>No</td>\n",
       "      <td>No</td>\n",
       "      <td>No</td>\n",
       "      <td>No</td>\n",
       "      <td>No</td>\n",
       "      <td>Yes</td>\n",
       "      <td>0</td>\n",
       "    </tr>\n",
       "    <tr>\n",
       "      <th>2203</th>\n",
       "      <td>14369772</td>\n",
       "      <td>59902119</td>\n",
       "      <td>Caucasian</td>\n",
       "      <td>Male</td>\n",
       "      <td>[80-90)</td>\n",
       "      <td>4</td>\n",
       "      <td>1</td>\n",
       "      <td>4</td>\n",
       "      <td>2</td>\n",
       "      <td>46</td>\n",
       "      <td>...</td>\n",
       "      <td>No</td>\n",
       "      <td>Steady</td>\n",
       "      <td>No</td>\n",
       "      <td>No</td>\n",
       "      <td>No</td>\n",
       "      <td>No</td>\n",
       "      <td>No</td>\n",
       "      <td>No</td>\n",
       "      <td>Yes</td>\n",
       "      <td>1</td>\n",
       "    </tr>\n",
       "    <tr>\n",
       "      <th>2461</th>\n",
       "      <td>16168812</td>\n",
       "      <td>21564738</td>\n",
       "      <td>AfricanAmerican</td>\n",
       "      <td>Male</td>\n",
       "      <td>[70-80)</td>\n",
       "      <td>4</td>\n",
       "      <td>6</td>\n",
       "      <td>4</td>\n",
       "      <td>5</td>\n",
       "      <td>73</td>\n",
       "      <td>...</td>\n",
       "      <td>No</td>\n",
       "      <td>Up</td>\n",
       "      <td>No</td>\n",
       "      <td>No</td>\n",
       "      <td>No</td>\n",
       "      <td>No</td>\n",
       "      <td>No</td>\n",
       "      <td>Ch</td>\n",
       "      <td>Yes</td>\n",
       "      <td>0</td>\n",
       "    </tr>\n",
       "    <tr>\n",
       "      <th>4823</th>\n",
       "      <td>26323434</td>\n",
       "      <td>20593143</td>\n",
       "      <td>Caucasian</td>\n",
       "      <td>Female</td>\n",
       "      <td>[60-70)</td>\n",
       "      <td>4</td>\n",
       "      <td>6</td>\n",
       "      <td>4</td>\n",
       "      <td>2</td>\n",
       "      <td>39</td>\n",
       "      <td>...</td>\n",
       "      <td>No</td>\n",
       "      <td>Steady</td>\n",
       "      <td>No</td>\n",
       "      <td>No</td>\n",
       "      <td>No</td>\n",
       "      <td>No</td>\n",
       "      <td>No</td>\n",
       "      <td>No</td>\n",
       "      <td>Yes</td>\n",
       "      <td>1</td>\n",
       "    </tr>\n",
       "    <tr>\n",
       "      <th>35877</th>\n",
       "      <td>110766078</td>\n",
       "      <td>2177469</td>\n",
       "      <td>AfricanAmerican</td>\n",
       "      <td>Male</td>\n",
       "      <td>[60-70)</td>\n",
       "      <td>4</td>\n",
       "      <td>1</td>\n",
       "      <td>14</td>\n",
       "      <td>3</td>\n",
       "      <td>66</td>\n",
       "      <td>...</td>\n",
       "      <td>No</td>\n",
       "      <td>Steady</td>\n",
       "      <td>No</td>\n",
       "      <td>No</td>\n",
       "      <td>No</td>\n",
       "      <td>No</td>\n",
       "      <td>No</td>\n",
       "      <td>No</td>\n",
       "      <td>Yes</td>\n",
       "      <td>0</td>\n",
       "    </tr>\n",
       "    <tr>\n",
       "      <th>47548</th>\n",
       "      <td>146024844</td>\n",
       "      <td>58776723</td>\n",
       "      <td>Hispanic</td>\n",
       "      <td>Male</td>\n",
       "      <td>[40-50)</td>\n",
       "      <td>4</td>\n",
       "      <td>1</td>\n",
       "      <td>7</td>\n",
       "      <td>6</td>\n",
       "      <td>39</td>\n",
       "      <td>...</td>\n",
       "      <td>No</td>\n",
       "      <td>No</td>\n",
       "      <td>No</td>\n",
       "      <td>No</td>\n",
       "      <td>No</td>\n",
       "      <td>No</td>\n",
       "      <td>No</td>\n",
       "      <td>No</td>\n",
       "      <td>No</td>\n",
       "      <td>0</td>\n",
       "    </tr>\n",
       "    <tr>\n",
       "      <th>48711</th>\n",
       "      <td>148261332</td>\n",
       "      <td>217206</td>\n",
       "      <td>Caucasian</td>\n",
       "      <td>Female</td>\n",
       "      <td>[70-80)</td>\n",
       "      <td>4</td>\n",
       "      <td>6</td>\n",
       "      <td>1</td>\n",
       "      <td>4</td>\n",
       "      <td>37</td>\n",
       "      <td>...</td>\n",
       "      <td>No</td>\n",
       "      <td>No</td>\n",
       "      <td>No</td>\n",
       "      <td>No</td>\n",
       "      <td>No</td>\n",
       "      <td>No</td>\n",
       "      <td>No</td>\n",
       "      <td>Ch</td>\n",
       "      <td>Yes</td>\n",
       "      <td>1</td>\n",
       "    </tr>\n",
       "    <tr>\n",
       "      <th>80354</th>\n",
       "      <td>247730952</td>\n",
       "      <td>20103048</td>\n",
       "      <td>Hispanic</td>\n",
       "      <td>Female</td>\n",
       "      <td>[0-10)</td>\n",
       "      <td>4</td>\n",
       "      <td>1</td>\n",
       "      <td>1</td>\n",
       "      <td>2</td>\n",
       "      <td>27</td>\n",
       "      <td>...</td>\n",
       "      <td>No</td>\n",
       "      <td>No</td>\n",
       "      <td>No</td>\n",
       "      <td>No</td>\n",
       "      <td>No</td>\n",
       "      <td>No</td>\n",
       "      <td>No</td>\n",
       "      <td>No</td>\n",
       "      <td>No</td>\n",
       "      <td>0</td>\n",
       "    </tr>\n",
       "    <tr>\n",
       "      <th>87714</th>\n",
       "      <td>280652286</td>\n",
       "      <td>33119388</td>\n",
       "      <td>Caucasian</td>\n",
       "      <td>Male</td>\n",
       "      <td>[60-70)</td>\n",
       "      <td>4</td>\n",
       "      <td>1</td>\n",
       "      <td>4</td>\n",
       "      <td>3</td>\n",
       "      <td>28</td>\n",
       "      <td>...</td>\n",
       "      <td>No</td>\n",
       "      <td>Steady</td>\n",
       "      <td>Steady</td>\n",
       "      <td>No</td>\n",
       "      <td>No</td>\n",
       "      <td>No</td>\n",
       "      <td>No</td>\n",
       "      <td>Ch</td>\n",
       "      <td>Yes</td>\n",
       "      <td>0</td>\n",
       "    </tr>\n",
       "    <tr>\n",
       "      <th>100721</th>\n",
       "      <td>429690494</td>\n",
       "      <td>115019244</td>\n",
       "      <td>Asian</td>\n",
       "      <td>Male</td>\n",
       "      <td>[80-90)</td>\n",
       "      <td>4</td>\n",
       "      <td>6</td>\n",
       "      <td>7</td>\n",
       "      <td>3</td>\n",
       "      <td>51</td>\n",
       "      <td>...</td>\n",
       "      <td>No</td>\n",
       "      <td>No</td>\n",
       "      <td>No</td>\n",
       "      <td>No</td>\n",
       "      <td>No</td>\n",
       "      <td>No</td>\n",
       "      <td>No</td>\n",
       "      <td>No</td>\n",
       "      <td>Yes</td>\n",
       "      <td>0</td>\n",
       "    </tr>\n",
       "  </tbody>\n",
       "</table>\n",
       "<p>10 rows × 47 columns</p>\n",
       "</div>"
      ],
      "text/plain": [
       "        encounter_id  patient_nbr             race  gender      age  \\\n",
       "2043        13169532     20191257        Caucasian    Male  [50-60)   \n",
       "2203        14369772     59902119        Caucasian    Male  [80-90)   \n",
       "2461        16168812     21564738  AfricanAmerican    Male  [70-80)   \n",
       "4823        26323434     20593143        Caucasian  Female  [60-70)   \n",
       "35877      110766078      2177469  AfricanAmerican    Male  [60-70)   \n",
       "47548      146024844     58776723         Hispanic    Male  [40-50)   \n",
       "48711      148261332       217206        Caucasian  Female  [70-80)   \n",
       "80354      247730952     20103048         Hispanic  Female   [0-10)   \n",
       "87714      280652286     33119388        Caucasian    Male  [60-70)   \n",
       "100721     429690494    115019244            Asian    Male  [80-90)   \n",
       "\n",
       "        admission_type_id  discharge_disposition_id  admission_source_id  \\\n",
       "2043                    4                         1                    4   \n",
       "2203                    4                         1                    4   \n",
       "2461                    4                         6                    4   \n",
       "4823                    4                         6                    4   \n",
       "35877                   4                         1                   14   \n",
       "47548                   4                         1                    7   \n",
       "48711                   4                         6                    1   \n",
       "80354                   4                         1                    1   \n",
       "87714                   4                         1                    4   \n",
       "100721                  4                         6                    7   \n",
       "\n",
       "        time_in_hospital  num_lab_procedures  ...  citoglipton  insulin  \\\n",
       "2043                   2                  56  ...           No   Steady   \n",
       "2203                   2                  46  ...           No   Steady   \n",
       "2461                   5                  73  ...           No       Up   \n",
       "4823                   2                  39  ...           No   Steady   \n",
       "35877                  3                  66  ...           No   Steady   \n",
       "47548                  6                  39  ...           No       No   \n",
       "48711                  4                  37  ...           No       No   \n",
       "80354                  2                  27  ...           No       No   \n",
       "87714                  3                  28  ...           No   Steady   \n",
       "100721                 3                  51  ...           No       No   \n",
       "\n",
       "        glyburide-metformin  glipizide-metformin  glimepiride-pioglitazone  \\\n",
       "2043                     No                   No                        No   \n",
       "2203                     No                   No                        No   \n",
       "2461                     No                   No                        No   \n",
       "4823                     No                   No                        No   \n",
       "35877                    No                   No                        No   \n",
       "47548                    No                   No                        No   \n",
       "48711                    No                   No                        No   \n",
       "80354                    No                   No                        No   \n",
       "87714                Steady                   No                        No   \n",
       "100721                   No                   No                        No   \n",
       "\n",
       "       metformin-rosiglitazone metformin-pioglitazone change  diabetesMed  \\\n",
       "2043                        No                     No     No          Yes   \n",
       "2203                        No                     No     No          Yes   \n",
       "2461                        No                     No     Ch          Yes   \n",
       "4823                        No                     No     No          Yes   \n",
       "35877                       No                     No     No          Yes   \n",
       "47548                       No                     No     No           No   \n",
       "48711                       No                     No     Ch          Yes   \n",
       "80354                       No                     No     No           No   \n",
       "87714                       No                     No     Ch          Yes   \n",
       "100721                      No                     No     No          Yes   \n",
       "\n",
       "       readmitted  \n",
       "2043            0  \n",
       "2203            1  \n",
       "2461            0  \n",
       "4823            1  \n",
       "35877           0  \n",
       "47548           0  \n",
       "48711           1  \n",
       "80354           0  \n",
       "87714           0  \n",
       "100721          0  \n",
       "\n",
       "[10 rows x 47 columns]"
      ]
     },
     "execution_count": 17,
     "metadata": {},
     "output_type": "execute_result"
    }
   ],
   "source": [
    "diabetes_df.loc[diabetes_df['admission_type_id'] == 4]"
   ]
  },
  {
   "cell_type": "markdown",
   "id": "cbebac4f",
   "metadata": {},
   "source": [
    "Są to prawdopodobnie błędne dane (wiek się nie zgadza)."
   ]
  },
  {
   "cell_type": "code",
   "execution_count": 18,
   "id": "ffa683f8",
   "metadata": {},
   "outputs": [],
   "source": [
    "diabetes_df.drop(diabetes_df[diabetes_df['admission_type_id'] == 4].index, inplace = True)"
   ]
  },
  {
   "cell_type": "code",
   "execution_count": 19,
   "id": "750076c6",
   "metadata": {},
   "outputs": [],
   "source": [
    "diabetes_df['admission_type_id'] = [4 if x >4 else x for x in diabetes_df['admission_type_id']]\n",
    "dictio = {1 : \"Emergency\", \n",
    "          2: \"Urgent\",\n",
    "          3: \"Elective\", \n",
    "         4 : \"Unknown/other\"}\n",
    "\n",
    "\n",
    "diabetes_df['admission_type_id'] = diabetes_df['admission_type_id'].replace(dictio)"
   ]
  },
  {
   "cell_type": "code",
   "execution_count": 20,
   "id": "821f94a1",
   "metadata": {},
   "outputs": [
    {
     "data": {
      "text/plain": [
       "Emergency        53990\n",
       "Elective         18869\n",
       "Urgent           18480\n",
       "Unknown/other    10417\n",
       "Name: admission_type_id, dtype: int64"
      ]
     },
     "execution_count": 20,
     "metadata": {},
     "output_type": "execute_result"
    }
   ],
   "source": [
    "diabetes_df['admission_type_id'].value_counts()"
   ]
  },
  {
   "cell_type": "code",
   "execution_count": 21,
   "id": "dc2fe9ac",
   "metadata": {},
   "outputs": [],
   "source": [
    "#One hot"
   ]
  },
  {
   "cell_type": "markdown",
   "id": "afab3975",
   "metadata": {},
   "source": [
    "#### Change"
   ]
  },
  {
   "cell_type": "code",
   "execution_count": 22,
   "id": "3a77f3f5",
   "metadata": {},
   "outputs": [],
   "source": [
    "diabetes_df['change'] = [0 if x == 'No' else 1 for x in diabetes_df['change']]"
   ]
  },
  {
   "cell_type": "markdown",
   "id": "230f4e29",
   "metadata": {},
   "source": [
    "#### Diabetes medications"
   ]
  },
  {
   "cell_type": "code",
   "execution_count": 23,
   "id": "4354d59d",
   "metadata": {},
   "outputs": [],
   "source": [
    "diabetes_df['diabetesMed'] = [0 if x == 'No' else 1 for x in diabetes_df['diabetesMed']]"
   ]
  },
  {
   "cell_type": "markdown",
   "id": "71c881b4",
   "metadata": {},
   "source": [
    "#### Race"
   ]
  },
  {
   "cell_type": "code",
   "execution_count": 24,
   "id": "e6c3e822",
   "metadata": {},
   "outputs": [],
   "source": [
    "#diabetes_df.drop(diabetes_df[diabetes_df['race'] == \"?\"].index, inplace=True)\n",
    "diabetes_df['race'] = [ 'Unknown' if (x == '?' )  else x for x in diabetes_df['race']]"
   ]
  },
  {
   "cell_type": "code",
   "execution_count": 25,
   "id": "2c8ffe9c",
   "metadata": {
    "scrolled": true
   },
   "outputs": [],
   "source": [
    "diabetes_df['race'] = [ x if (x == 'Caucasian' or x =='AfricanAmerican')  else 'Other' for x in diabetes_df['race']]\n",
    "# sns.countplot(x = 'race', data = diabetes_df, hue='readmitted')\n",
    "# plt.show()\n"
   ]
  },
  {
   "cell_type": "code",
   "execution_count": 26,
   "id": "e7d04e91",
   "metadata": {
    "scrolled": true
   },
   "outputs": [
    {
     "data": {
      "text/plain": [
       "Caucasian          76094\n",
       "AfricanAmerican    19208\n",
       "Other               6454\n",
       "Name: race, dtype: int64"
      ]
     },
     "execution_count": 26,
     "metadata": {},
     "output_type": "execute_result"
    }
   ],
   "source": [
    "diabetes_df['race'].value_counts()"
   ]
  },
  {
   "cell_type": "markdown",
   "id": "0a6eb8c3",
   "metadata": {},
   "source": [
    "#### Drugs"
   ]
  },
  {
   "cell_type": "markdown",
   "id": "58987940",
   "metadata": {},
   "source": [
    "W ramce danych mamy 24 zmienne odpowiadające lekom przyjmowanym przez pacjentów, które przyjumują 4 wartości."
   ]
  },
  {
   "cell_type": "code",
   "execution_count": 27,
   "id": "3722ed7f",
   "metadata": {},
   "outputs": [],
   "source": [
    "dictio = {\"No\" : 0, \n",
    "          \"Down\" : 1,\n",
    "          \"Steady\": 2, \n",
    "         \"Up\" : 3}"
   ]
  },
  {
   "cell_type": "markdown",
   "id": "d8dadf82",
   "metadata": {},
   "source": [
    "Skorzystamy z tego, że kolumny te zaczynają się od 'metformin', i jest ich 24."
   ]
  },
  {
   "cell_type": "code",
   "execution_count": 28,
   "id": "e23c3f1a",
   "metadata": {
    "scrolled": true
   },
   "outputs": [
    {
     "data": {
      "text/plain": [
       "Index(['metformin', 'repaglinide', 'nateglinide', 'chlorpropamide',\n",
       "       'glimepiride', 'acetohexamide', 'glipizide', 'glyburide', 'tolbutamide',\n",
       "       'pioglitazone', 'rosiglitazone', 'acarbose', 'miglitol', 'troglitazone',\n",
       "       'tolazamide', 'examide', 'citoglipton', 'insulin',\n",
       "       'glyburide-metformin', 'glipizide-metformin',\n",
       "       'glimepiride-pioglitazone', 'metformin-rosiglitazone',\n",
       "       'metformin-pioglitazone'],\n",
       "      dtype='object')"
      ]
     },
     "execution_count": 28,
     "metadata": {},
     "output_type": "execute_result"
    }
   ],
   "source": [
    "i = diabetes_df.columns.get_loc('metformin')\n",
    "drugs_col = diabetes_df.columns[i:i+23]\n",
    "drugs_col"
   ]
  },
  {
   "cell_type": "code",
   "execution_count": 29,
   "id": "649248ee",
   "metadata": {},
   "outputs": [],
   "source": [
    "for name in drugs_col:\n",
    "    diabetes_df[name] = diabetes_df[name].replace(dictio)"
   ]
  },
  {
   "cell_type": "code",
   "execution_count": 30,
   "id": "6e2ad46f",
   "metadata": {
    "scrolled": true
   },
   "outputs": [
    {
     "data": {
      "text/html": [
       "<div>\n",
       "<style scoped>\n",
       "    .dataframe tbody tr th:only-of-type {\n",
       "        vertical-align: middle;\n",
       "    }\n",
       "\n",
       "    .dataframe tbody tr th {\n",
       "        vertical-align: top;\n",
       "    }\n",
       "\n",
       "    .dataframe thead th {\n",
       "        text-align: right;\n",
       "    }\n",
       "</style>\n",
       "<table border=\"1\" class=\"dataframe\">\n",
       "  <thead>\n",
       "    <tr style=\"text-align: right;\">\n",
       "      <th></th>\n",
       "      <th>encounter_id</th>\n",
       "      <th>patient_nbr</th>\n",
       "      <th>race</th>\n",
       "      <th>gender</th>\n",
       "      <th>age</th>\n",
       "      <th>admission_type_id</th>\n",
       "      <th>discharge_disposition_id</th>\n",
       "      <th>admission_source_id</th>\n",
       "      <th>time_in_hospital</th>\n",
       "      <th>num_lab_procedures</th>\n",
       "      <th>...</th>\n",
       "      <th>citoglipton</th>\n",
       "      <th>insulin</th>\n",
       "      <th>glyburide-metformin</th>\n",
       "      <th>glipizide-metformin</th>\n",
       "      <th>glimepiride-pioglitazone</th>\n",
       "      <th>metformin-rosiglitazone</th>\n",
       "      <th>metformin-pioglitazone</th>\n",
       "      <th>change</th>\n",
       "      <th>diabetesMed</th>\n",
       "      <th>readmitted</th>\n",
       "    </tr>\n",
       "  </thead>\n",
       "  <tbody>\n",
       "    <tr>\n",
       "      <th>0</th>\n",
       "      <td>2278392</td>\n",
       "      <td>8222157</td>\n",
       "      <td>Caucasian</td>\n",
       "      <td>Female</td>\n",
       "      <td>[0-10)</td>\n",
       "      <td>Unknown/other</td>\n",
       "      <td>25</td>\n",
       "      <td>1</td>\n",
       "      <td>1</td>\n",
       "      <td>41</td>\n",
       "      <td>...</td>\n",
       "      <td>0</td>\n",
       "      <td>0</td>\n",
       "      <td>0</td>\n",
       "      <td>0</td>\n",
       "      <td>0</td>\n",
       "      <td>0</td>\n",
       "      <td>0</td>\n",
       "      <td>0</td>\n",
       "      <td>0</td>\n",
       "      <td>0</td>\n",
       "    </tr>\n",
       "    <tr>\n",
       "      <th>1</th>\n",
       "      <td>149190</td>\n",
       "      <td>55629189</td>\n",
       "      <td>Caucasian</td>\n",
       "      <td>Female</td>\n",
       "      <td>[10-20)</td>\n",
       "      <td>Emergency</td>\n",
       "      <td>1</td>\n",
       "      <td>7</td>\n",
       "      <td>3</td>\n",
       "      <td>59</td>\n",
       "      <td>...</td>\n",
       "      <td>0</td>\n",
       "      <td>3</td>\n",
       "      <td>0</td>\n",
       "      <td>0</td>\n",
       "      <td>0</td>\n",
       "      <td>0</td>\n",
       "      <td>0</td>\n",
       "      <td>1</td>\n",
       "      <td>1</td>\n",
       "      <td>1</td>\n",
       "    </tr>\n",
       "    <tr>\n",
       "      <th>2</th>\n",
       "      <td>64410</td>\n",
       "      <td>86047875</td>\n",
       "      <td>AfricanAmerican</td>\n",
       "      <td>Female</td>\n",
       "      <td>[20-30)</td>\n",
       "      <td>Emergency</td>\n",
       "      <td>1</td>\n",
       "      <td>7</td>\n",
       "      <td>2</td>\n",
       "      <td>11</td>\n",
       "      <td>...</td>\n",
       "      <td>0</td>\n",
       "      <td>0</td>\n",
       "      <td>0</td>\n",
       "      <td>0</td>\n",
       "      <td>0</td>\n",
       "      <td>0</td>\n",
       "      <td>0</td>\n",
       "      <td>0</td>\n",
       "      <td>1</td>\n",
       "      <td>0</td>\n",
       "    </tr>\n",
       "    <tr>\n",
       "      <th>3</th>\n",
       "      <td>500364</td>\n",
       "      <td>82442376</td>\n",
       "      <td>Caucasian</td>\n",
       "      <td>Male</td>\n",
       "      <td>[30-40)</td>\n",
       "      <td>Emergency</td>\n",
       "      <td>1</td>\n",
       "      <td>7</td>\n",
       "      <td>2</td>\n",
       "      <td>44</td>\n",
       "      <td>...</td>\n",
       "      <td>0</td>\n",
       "      <td>3</td>\n",
       "      <td>0</td>\n",
       "      <td>0</td>\n",
       "      <td>0</td>\n",
       "      <td>0</td>\n",
       "      <td>0</td>\n",
       "      <td>1</td>\n",
       "      <td>1</td>\n",
       "      <td>0</td>\n",
       "    </tr>\n",
       "    <tr>\n",
       "      <th>4</th>\n",
       "      <td>16680</td>\n",
       "      <td>42519267</td>\n",
       "      <td>Caucasian</td>\n",
       "      <td>Male</td>\n",
       "      <td>[40-50)</td>\n",
       "      <td>Emergency</td>\n",
       "      <td>1</td>\n",
       "      <td>7</td>\n",
       "      <td>1</td>\n",
       "      <td>51</td>\n",
       "      <td>...</td>\n",
       "      <td>0</td>\n",
       "      <td>2</td>\n",
       "      <td>0</td>\n",
       "      <td>0</td>\n",
       "      <td>0</td>\n",
       "      <td>0</td>\n",
       "      <td>0</td>\n",
       "      <td>1</td>\n",
       "      <td>1</td>\n",
       "      <td>0</td>\n",
       "    </tr>\n",
       "  </tbody>\n",
       "</table>\n",
       "<p>5 rows × 47 columns</p>\n",
       "</div>"
      ],
      "text/plain": [
       "   encounter_id  patient_nbr             race  gender      age  \\\n",
       "0       2278392      8222157        Caucasian  Female   [0-10)   \n",
       "1        149190     55629189        Caucasian  Female  [10-20)   \n",
       "2         64410     86047875  AfricanAmerican  Female  [20-30)   \n",
       "3        500364     82442376        Caucasian    Male  [30-40)   \n",
       "4         16680     42519267        Caucasian    Male  [40-50)   \n",
       "\n",
       "  admission_type_id  discharge_disposition_id  admission_source_id  \\\n",
       "0     Unknown/other                        25                    1   \n",
       "1         Emergency                         1                    7   \n",
       "2         Emergency                         1                    7   \n",
       "3         Emergency                         1                    7   \n",
       "4         Emergency                         1                    7   \n",
       "\n",
       "   time_in_hospital  num_lab_procedures  ...  citoglipton  insulin  \\\n",
       "0                 1                  41  ...            0        0   \n",
       "1                 3                  59  ...            0        3   \n",
       "2                 2                  11  ...            0        0   \n",
       "3                 2                  44  ...            0        3   \n",
       "4                 1                  51  ...            0        2   \n",
       "\n",
       "   glyburide-metformin  glipizide-metformin  glimepiride-pioglitazone  \\\n",
       "0                    0                    0                         0   \n",
       "1                    0                    0                         0   \n",
       "2                    0                    0                         0   \n",
       "3                    0                    0                         0   \n",
       "4                    0                    0                         0   \n",
       "\n",
       "  metformin-rosiglitazone metformin-pioglitazone change  diabetesMed  \\\n",
       "0                       0                      0      0            0   \n",
       "1                       0                      0      1            1   \n",
       "2                       0                      0      0            1   \n",
       "3                       0                      0      1            1   \n",
       "4                       0                      0      1            1   \n",
       "\n",
       "  readmitted  \n",
       "0          0  \n",
       "1          1  \n",
       "2          0  \n",
       "3          0  \n",
       "4          0  \n",
       "\n",
       "[5 rows x 47 columns]"
      ]
     },
     "execution_count": 30,
     "metadata": {},
     "output_type": "execute_result"
    }
   ],
   "source": [
    "diabetes_df.head(5)"
   ]
  },
  {
   "cell_type": "markdown",
   "id": "d4d4f1e3",
   "metadata": {},
   "source": [
    "#### Encounter id i patient number"
   ]
  },
  {
   "cell_type": "code",
   "execution_count": 31,
   "id": "1090f81e",
   "metadata": {
    "scrolled": true
   },
   "outputs": [
    {
     "data": {
      "text/plain": [
       "77856768     1\n",
       "60056922     1\n",
       "279188820    1\n",
       "264404190    1\n",
       "96928116     1\n",
       "            ..\n",
       "316096226    1\n",
       "390757988    1\n",
       "109989474    1\n",
       "241154934    1\n",
       "96210942     1\n",
       "Name: encounter_id, Length: 101756, dtype: int64"
      ]
     },
     "execution_count": 31,
     "metadata": {},
     "output_type": "execute_result"
    }
   ],
   "source": [
    " diabetes_df['encounter_id'].value_counts()"
   ]
  },
  {
   "cell_type": "markdown",
   "id": "30c943ea",
   "metadata": {},
   "source": [
    "\n",
    "Zmienne unikalne, czyli id pacjenta i wizyty, możemy usunąć, gdyż model mógłby je traktować jako numeryczne."
   ]
  },
  {
   "cell_type": "code",
   "execution_count": 32,
   "id": "32884d95",
   "metadata": {},
   "outputs": [],
   "source": [
    "diabetes_df.drop('encounter_id', axis=1, inplace=True)\n",
    "diabetes_df.drop('patient_nbr', axis=1, inplace=True)"
   ]
  },
  {
   "cell_type": "markdown",
   "id": "3f956386",
   "metadata": {},
   "source": [
    "#### Gender"
   ]
  },
  {
   "cell_type": "code",
   "execution_count": 33,
   "id": "26d22289",
   "metadata": {},
   "outputs": [
    {
     "data": {
      "text/plain": [
       "Female             54705\n",
       "Male               47048\n",
       "Unknown/Invalid        3\n",
       "Name: gender, dtype: int64"
      ]
     },
     "execution_count": 33,
     "metadata": {},
     "output_type": "execute_result"
    }
   ],
   "source": [
    "diabetes_df['gender'].value_counts()"
   ]
  },
  {
   "cell_type": "code",
   "execution_count": 34,
   "id": "97efb98f",
   "metadata": {},
   "outputs": [],
   "source": [
    "diabetes_df.drop(diabetes_df[diabetes_df['gender'] == \"Unknown/Invalid\"].index, inplace = True)\n",
    "diabetes_df['gender'] = [0 if x == 'Female' else 1 for x in diabetes_df['gender']]"
   ]
  },
  {
   "cell_type": "markdown",
   "id": "8abbee30",
   "metadata": {},
   "source": [
    "#### Age"
   ]
  },
  {
   "cell_type": "code",
   "execution_count": 35,
   "id": "aa173927",
   "metadata": {},
   "outputs": [
    {
     "data": {
      "text/plain": [
       "[70-80)     26064\n",
       "[60-70)     22479\n",
       "[50-60)     17255\n",
       "[80-90)     17195\n",
       "[40-50)      9684\n",
       "[30-40)      3775\n",
       "[90-100)     2793\n",
       "[20-30)      1657\n",
       "[10-20)       691\n",
       "[0-10)        160\n",
       "Name: age, dtype: int64"
      ]
     },
     "execution_count": 35,
     "metadata": {},
     "output_type": "execute_result"
    }
   ],
   "source": [
    "diabetes_df['age'].value_counts()"
   ]
  },
  {
   "cell_type": "code",
   "execution_count": 36,
   "id": "6caf5a9b",
   "metadata": {},
   "outputs": [],
   "source": [
    "diabetes_df['age'] = [int(re.findall(r'\\d+', x)[0])+5 for x in diabetes_df['age']]"
   ]
  },
  {
   "cell_type": "markdown",
   "id": "f4d3624b",
   "metadata": {},
   "source": [
    "#### Discharge disposition\t"
   ]
  },
  {
   "cell_type": "code",
   "execution_count": 37,
   "id": "0b9b6fcf",
   "metadata": {
    "scrolled": false
   },
   "outputs": [
    {
     "data": {
      "text/plain": [
       "1     60226\n",
       "3     13954\n",
       "6     12898\n",
       "18     3691\n",
       "2      2128\n",
       "22     1992\n",
       "11     1642\n",
       "5      1184\n",
       "25      989\n",
       "4       815\n",
       "7       623\n",
       "23      412\n",
       "13      399\n",
       "14      372\n",
       "28      139\n",
       "8       108\n",
       "15       63\n",
       "24       48\n",
       "9        21\n",
       "17       14\n",
       "16       11\n",
       "19        8\n",
       "10        6\n",
       "27        5\n",
       "12        3\n",
       "20        2\n",
       "Name: discharge_disposition_id, dtype: int64"
      ]
     },
     "execution_count": 37,
     "metadata": {},
     "output_type": "execute_result"
    }
   ],
   "source": [
    "diabetes_df['discharge_disposition_id'].value_counts()"
   ]
  },
  {
   "cell_type": "markdown",
   "id": "3d0944fd",
   "metadata": {},
   "source": [
    "Połączmy NULL, Not Mapped, Unknown/Invalid w jedną kategorię. Następnie wartości występujące rzadziej niż 1000 również w jedną."
   ]
  },
  {
   "cell_type": "code",
   "execution_count": 38,
   "id": "84c35cbb",
   "metadata": {},
   "outputs": [],
   "source": [
    "diabetes_df['discharge_disposition_id'] = [0 if (x == 25 or x == 26 or x==18) else x for x in diabetes_df['discharge_disposition_id']]"
   ]
  },
  {
   "cell_type": "code",
   "execution_count": 39,
   "id": "e03e79b3",
   "metadata": {},
   "outputs": [],
   "source": [
    "def getOthers(a, feature):\n",
    "    rares = feature.value_counts() < a\n",
    "    return feature.apply(lambda x: 30 if rares[x] else x)\n",
    "\n",
    "diabetes_df['discharge_disposition_id'] = getOthers(200, diabetes_df['discharge_disposition_id'])"
   ]
  },
  {
   "cell_type": "markdown",
   "id": "e4ce9fd9",
   "metadata": {},
   "source": [
    "#### Admission source"
   ]
  },
  {
   "cell_type": "code",
   "execution_count": 40,
   "id": "2788943d",
   "metadata": {
    "scrolled": true
   },
   "outputs": [
    {
     "data": {
      "text/plain": [
       "7     57490\n",
       "1     29562\n",
       "17     6781\n",
       "4      3182\n",
       "6      2264\n",
       "2      1104\n",
       "5       855\n",
       "3       187\n",
       "20      161\n",
       "9       125\n",
       "8        16\n",
       "22       12\n",
       "10        8\n",
       "11        2\n",
       "25        2\n",
       "13        1\n",
       "14        1\n",
       "Name: admission_source_id, dtype: int64"
      ]
     },
     "execution_count": 40,
     "metadata": {},
     "output_type": "execute_result"
    }
   ],
   "source": [
    "diabetes_df['admission_source_id'].value_counts()"
   ]
  },
  {
   "cell_type": "code",
   "execution_count": 41,
   "id": "7f59470a",
   "metadata": {},
   "outputs": [],
   "source": [
    "diabetes_df['admission_source_id'] = [0 if (x==9 or x == 17 or x == 20 or x==21) else x for x in diabetes_df['admission_source_id']]"
   ]
  },
  {
   "cell_type": "code",
   "execution_count": 42,
   "id": "30cd169b",
   "metadata": {},
   "outputs": [],
   "source": [
    "diabetes_df['admission_source_id'] = getOthers(200, diabetes_df['admission_source_id'])"
   ]
  },
  {
   "cell_type": "markdown",
   "id": "bdba18a6",
   "metadata": {},
   "source": [
    "#### Diagnosis 1,2,3\t"
   ]
  },
  {
   "cell_type": "code",
   "execution_count": 43,
   "id": "379bb08f",
   "metadata": {},
   "outputs": [],
   "source": [
    "diabetes_df['diag_1'] = ['0' if (x.find('E') !=-1 or x.find('V')!=-1 or x=='?') else x for x in diabetes_df['diag_1']]"
   ]
  },
  {
   "cell_type": "code",
   "execution_count": 44,
   "id": "ebcd9380",
   "metadata": {},
   "outputs": [],
   "source": [
    "diabetes_df['diag_2'] = ['0' if (x.find('E') !=-1 or x.find('V')!=-1 or x=='?') else x for x in diabetes_df['diag_2']]\n",
    "diabetes_df['diag_3'] = ['0' if (x.find('E') !=-1 or x.find('V')!=-1 or x=='?') else x for x in diabetes_df['diag_3']]"
   ]
  },
  {
   "cell_type": "code",
   "execution_count": 45,
   "id": "038c08c5",
   "metadata": {},
   "outputs": [],
   "source": [
    "def set_group(x):\n",
    "    if x >= 140 and x <= 239:\n",
    "        return 'Neoplasms'\n",
    "    elif x >= 250 and x <= 251:\n",
    "        return 'Diabetes'\n",
    "    elif x >= 390 and x <= 459 or x== 785:\n",
    "        return 'Circulatory'\n",
    "    elif x <=519 or x== 786:\n",
    "        return 'Respiratory'\n",
    "    elif x <= 579 or x== 787:\n",
    "        return 'Digestive'\n",
    "    elif x <= 629 or x== 788:\n",
    "        return 'Genitourinary'\n",
    "    elif x >= 710 and x <= 739:\n",
    "        return 'Musculoskeletal'\n",
    "    elif x >= 800 and x <= 999:\n",
    "        return 'Injury'\n",
    "    else:\n",
    "        return \"Other\"\n",
    "    \n",
    "def diag_transform(col):\n",
    "    column = col.apply(lambda x: float(x))\n",
    "    return column.apply(set_group)\n",
    "\n",
    "diabetes_df['diag_1'] = diag_transform(diabetes_df['diag_1'])    \n"
   ]
  },
  {
   "cell_type": "code",
   "execution_count": 46,
   "id": "c1827b18",
   "metadata": {},
   "outputs": [],
   "source": [
    "diabetes_df['diag_2'] = diag_transform(diabetes_df['diag_2'])    \n",
    "diabetes_df['diag_3'] = diag_transform(diabetes_df['diag_3'])    "
   ]
  },
  {
   "cell_type": "code",
   "execution_count": 47,
   "id": "1bcd666f",
   "metadata": {},
   "outputs": [
    {
     "data": {
      "text/plain": [
       "Circulatory        30433\n",
       "Respiratory        26117\n",
       "Digestive           9474\n",
       "Diabetes            8771\n",
       "Injury              6971\n",
       "Other               6481\n",
       "Genitourinary       5117\n",
       "Musculoskeletal     4956\n",
       "Neoplasms           3433\n",
       "Name: diag_1, dtype: int64"
      ]
     },
     "execution_count": 47,
     "metadata": {},
     "output_type": "execute_result"
    }
   ],
   "source": [
    "diabetes_df['diag_1'].value_counts()"
   ]
  },
  {
   "cell_type": "markdown",
   "id": "d2070c84",
   "metadata": {},
   "source": [
    "#### Glucose serum test result"
   ]
  },
  {
   "cell_type": "code",
   "execution_count": 48,
   "id": "ddebb785",
   "metadata": {},
   "outputs": [
    {
     "data": {
      "text/plain": [
       "None    96407\n",
       "Norm     2597\n",
       ">200     1485\n",
       ">300     1264\n",
       "Name: max_glu_serum, dtype: int64"
      ]
     },
     "execution_count": 48,
     "metadata": {},
     "output_type": "execute_result"
    }
   ],
   "source": [
    "diabetes_df['max_glu_serum'].value_counts()"
   ]
  },
  {
   "cell_type": "markdown",
   "id": "34c5ae44",
   "metadata": {},
   "source": [
    "Ponieważ w ponad 94000 rekordów test nie był robiony, możemy usunąć kolumnę."
   ]
  },
  {
   "cell_type": "code",
   "execution_count": 49,
   "id": "1978eb8a",
   "metadata": {},
   "outputs": [],
   "source": [
    "diabetes_df.drop('max_glu_serum', axis=1, inplace=True)"
   ]
  },
  {
   "cell_type": "markdown",
   "id": "0806820a",
   "metadata": {},
   "source": [
    "#### A1c test result"
   ]
  },
  {
   "cell_type": "code",
   "execution_count": 50,
   "id": "e8b1cb13",
   "metadata": {},
   "outputs": [
    {
     "data": {
      "text/plain": [
       "None    84737\n",
       ">8       8216\n",
       "Norm     4990\n",
       ">7       3810\n",
       "Name: A1Cresult, dtype: int64"
      ]
     },
     "execution_count": 50,
     "metadata": {},
     "output_type": "execute_result"
    }
   ],
   "source": [
    "diabetes_df['A1Cresult'].value_counts()"
   ]
  },
  {
   "cell_type": "markdown",
   "id": "8d6f8a60",
   "metadata": {},
   "source": [
    "#### One hot encoding"
   ]
  },
  {
   "cell_type": "code",
   "execution_count": 51,
   "id": "c331b1cf",
   "metadata": {},
   "outputs": [
    {
     "name": "stdout",
     "output_type": "stream",
     "text": [
      "<class 'pandas.core.frame.DataFrame'>\n",
      "Int64Index: 101753 entries, 0 to 101765\n",
      "Data columns (total 44 columns):\n",
      " #   Column                    Non-Null Count   Dtype \n",
      "---  ------                    --------------   ----- \n",
      " 0   race                      101753 non-null  object\n",
      " 1   gender                    101753 non-null  int64 \n",
      " 2   age                       101753 non-null  int64 \n",
      " 3   admission_type_id         101753 non-null  object\n",
      " 4   discharge_disposition_id  101753 non-null  int64 \n",
      " 5   admission_source_id       101753 non-null  int64 \n",
      " 6   time_in_hospital          101753 non-null  int64 \n",
      " 7   num_lab_procedures        101753 non-null  int64 \n",
      " 8   num_procedures            101753 non-null  int64 \n",
      " 9   num_medications           101753 non-null  int64 \n",
      " 10  number_outpatient         101753 non-null  int64 \n",
      " 11  number_emergency          101753 non-null  int64 \n",
      " 12  number_inpatient          101753 non-null  int64 \n",
      " 13  diag_1                    101753 non-null  object\n",
      " 14  diag_2                    101753 non-null  object\n",
      " 15  diag_3                    101753 non-null  object\n",
      " 16  number_diagnoses          101753 non-null  int64 \n",
      " 17  A1Cresult                 101753 non-null  object\n",
      " 18  metformin                 101753 non-null  int64 \n",
      " 19  repaglinide               101753 non-null  int64 \n",
      " 20  nateglinide               101753 non-null  int64 \n",
      " 21  chlorpropamide            101753 non-null  int64 \n",
      " 22  glimepiride               101753 non-null  int64 \n",
      " 23  acetohexamide             101753 non-null  int64 \n",
      " 24  glipizide                 101753 non-null  int64 \n",
      " 25  glyburide                 101753 non-null  int64 \n",
      " 26  tolbutamide               101753 non-null  int64 \n",
      " 27  pioglitazone              101753 non-null  int64 \n",
      " 28  rosiglitazone             101753 non-null  int64 \n",
      " 29  acarbose                  101753 non-null  int64 \n",
      " 30  miglitol                  101753 non-null  int64 \n",
      " 31  troglitazone              101753 non-null  int64 \n",
      " 32  tolazamide                101753 non-null  int64 \n",
      " 33  examide                   101753 non-null  int64 \n",
      " 34  citoglipton               101753 non-null  int64 \n",
      " 35  insulin                   101753 non-null  int64 \n",
      " 36  glyburide-metformin       101753 non-null  int64 \n",
      " 37  glipizide-metformin       101753 non-null  int64 \n",
      " 38  glimepiride-pioglitazone  101753 non-null  int64 \n",
      " 39  metformin-rosiglitazone   101753 non-null  int64 \n",
      " 40  metformin-pioglitazone    101753 non-null  int64 \n",
      " 41  change                    101753 non-null  int64 \n",
      " 42  diabetesMed               101753 non-null  int64 \n",
      " 43  readmitted                101753 non-null  int64 \n",
      "dtypes: int64(38), object(6)\n",
      "memory usage: 34.9+ MB\n"
     ]
    }
   ],
   "source": [
    "diabetes_df.info()"
   ]
  },
  {
   "cell_type": "code",
   "execution_count": 52,
   "id": "c6a1b33c",
   "metadata": {},
   "outputs": [],
   "source": [
    "\n",
    "one_hot_features = ['race', 'admission_type_id', 'diag_1', 'diag_2', 'diag_3', 'A1Cresult',\n",
    "       'discharge_disposition_id', 'admission_source_id']"
   ]
  },
  {
   "cell_type": "markdown",
   "id": "34ca39e9",
   "metadata": {},
   "source": [
    "Użyjemy poniższej funkcji:"
   ]
  },
  {
   "cell_type": "code",
   "execution_count": 53,
   "id": "f8352276",
   "metadata": {},
   "outputs": [],
   "source": [
    "\n",
    "def dummy_df(df, todummy_list):\n",
    "    for x in todummy_list:\n",
    "        dummies = pd.get_dummies(df[x], prefix=x, dummy_na=False)\n",
    "        df = df.drop(x, 1)\n",
    "        df = pd.concat([df, dummies], axis=1)\n",
    "    return df"
   ]
  },
  {
   "cell_type": "code",
   "execution_count": 54,
   "id": "6b22cff9",
   "metadata": {
    "scrolled": false
   },
   "outputs": [
    {
     "name": "stdout",
     "output_type": "stream",
     "text": [
      "<class 'pandas.core.frame.DataFrame'>\n",
      "Int64Index: 101753 entries, 0 to 101765\n",
      "Data columns (total 96 columns):\n",
      " #   Column                           Non-Null Count   Dtype\n",
      "---  ------                           --------------   -----\n",
      " 0   gender                           101753 non-null  int64\n",
      " 1   age                              101753 non-null  int64\n",
      " 2   time_in_hospital                 101753 non-null  int64\n",
      " 3   num_lab_procedures               101753 non-null  int64\n",
      " 4   num_procedures                   101753 non-null  int64\n",
      " 5   num_medications                  101753 non-null  int64\n",
      " 6   number_outpatient                101753 non-null  int64\n",
      " 7   number_emergency                 101753 non-null  int64\n",
      " 8   number_inpatient                 101753 non-null  int64\n",
      " 9   number_diagnoses                 101753 non-null  int64\n",
      " 10  metformin                        101753 non-null  int64\n",
      " 11  repaglinide                      101753 non-null  int64\n",
      " 12  nateglinide                      101753 non-null  int64\n",
      " 13  chlorpropamide                   101753 non-null  int64\n",
      " 14  glimepiride                      101753 non-null  int64\n",
      " 15  acetohexamide                    101753 non-null  int64\n",
      " 16  glipizide                        101753 non-null  int64\n",
      " 17  glyburide                        101753 non-null  int64\n",
      " 18  tolbutamide                      101753 non-null  int64\n",
      " 19  pioglitazone                     101753 non-null  int64\n",
      " 20  rosiglitazone                    101753 non-null  int64\n",
      " 21  acarbose                         101753 non-null  int64\n",
      " 22  miglitol                         101753 non-null  int64\n",
      " 23  troglitazone                     101753 non-null  int64\n",
      " 24  tolazamide                       101753 non-null  int64\n",
      " 25  examide                          101753 non-null  int64\n",
      " 26  citoglipton                      101753 non-null  int64\n",
      " 27  insulin                          101753 non-null  int64\n",
      " 28  glyburide-metformin              101753 non-null  int64\n",
      " 29  glipizide-metformin              101753 non-null  int64\n",
      " 30  glimepiride-pioglitazone         101753 non-null  int64\n",
      " 31  metformin-rosiglitazone          101753 non-null  int64\n",
      " 32  metformin-pioglitazone           101753 non-null  int64\n",
      " 33  change                           101753 non-null  int64\n",
      " 34  diabetesMed                      101753 non-null  int64\n",
      " 35  readmitted                       101753 non-null  int64\n",
      " 36  race_AfricanAmerican             101753 non-null  uint8\n",
      " 37  race_Caucasian                   101753 non-null  uint8\n",
      " 38  race_Other                       101753 non-null  uint8\n",
      " 39  admission_type_id_Elective       101753 non-null  uint8\n",
      " 40  admission_type_id_Emergency      101753 non-null  uint8\n",
      " 41  admission_type_id_Unknown/other  101753 non-null  uint8\n",
      " 42  admission_type_id_Urgent         101753 non-null  uint8\n",
      " 43  diag_1_Circulatory               101753 non-null  uint8\n",
      " 44  diag_1_Diabetes                  101753 non-null  uint8\n",
      " 45  diag_1_Digestive                 101753 non-null  uint8\n",
      " 46  diag_1_Genitourinary             101753 non-null  uint8\n",
      " 47  diag_1_Injury                    101753 non-null  uint8\n",
      " 48  diag_1_Musculoskeletal           101753 non-null  uint8\n",
      " 49  diag_1_Neoplasms                 101753 non-null  uint8\n",
      " 50  diag_1_Other                     101753 non-null  uint8\n",
      " 51  diag_1_Respiratory               101753 non-null  uint8\n",
      " 52  diag_2_Circulatory               101753 non-null  uint8\n",
      " 53  diag_2_Diabetes                  101753 non-null  uint8\n",
      " 54  diag_2_Digestive                 101753 non-null  uint8\n",
      " 55  diag_2_Genitourinary             101753 non-null  uint8\n",
      " 56  diag_2_Injury                    101753 non-null  uint8\n",
      " 57  diag_2_Musculoskeletal           101753 non-null  uint8\n",
      " 58  diag_2_Neoplasms                 101753 non-null  uint8\n",
      " 59  diag_2_Other                     101753 non-null  uint8\n",
      " 60  diag_2_Respiratory               101753 non-null  uint8\n",
      " 61  diag_3_Circulatory               101753 non-null  uint8\n",
      " 62  diag_3_Diabetes                  101753 non-null  uint8\n",
      " 63  diag_3_Digestive                 101753 non-null  uint8\n",
      " 64  diag_3_Genitourinary             101753 non-null  uint8\n",
      " 65  diag_3_Injury                    101753 non-null  uint8\n",
      " 66  diag_3_Musculoskeletal           101753 non-null  uint8\n",
      " 67  diag_3_Neoplasms                 101753 non-null  uint8\n",
      " 68  diag_3_Other                     101753 non-null  uint8\n",
      " 69  diag_3_Respiratory               101753 non-null  uint8\n",
      " 70  A1Cresult_>7                     101753 non-null  uint8\n",
      " 71  A1Cresult_>8                     101753 non-null  uint8\n",
      " 72  A1Cresult_None                   101753 non-null  uint8\n",
      " 73  A1Cresult_Norm                   101753 non-null  uint8\n",
      " 74  discharge_disposition_id_0       101753 non-null  uint8\n",
      " 75  discharge_disposition_id_1       101753 non-null  uint8\n",
      " 76  discharge_disposition_id_2       101753 non-null  uint8\n",
      " 77  discharge_disposition_id_3       101753 non-null  uint8\n",
      " 78  discharge_disposition_id_4       101753 non-null  uint8\n",
      " 79  discharge_disposition_id_5       101753 non-null  uint8\n",
      " 80  discharge_disposition_id_6       101753 non-null  uint8\n",
      " 81  discharge_disposition_id_7       101753 non-null  uint8\n",
      " 82  discharge_disposition_id_11      101753 non-null  uint8\n",
      " 83  discharge_disposition_id_13      101753 non-null  uint8\n",
      " 84  discharge_disposition_id_14      101753 non-null  uint8\n",
      " 85  discharge_disposition_id_22      101753 non-null  uint8\n",
      " 86  discharge_disposition_id_23      101753 non-null  uint8\n",
      " 87  discharge_disposition_id_30      101753 non-null  uint8\n",
      " 88  admission_source_id_0            101753 non-null  uint8\n",
      " 89  admission_source_id_1            101753 non-null  uint8\n",
      " 90  admission_source_id_2            101753 non-null  uint8\n",
      " 91  admission_source_id_4            101753 non-null  uint8\n",
      " 92  admission_source_id_5            101753 non-null  uint8\n",
      " 93  admission_source_id_6            101753 non-null  uint8\n",
      " 94  admission_source_id_7            101753 non-null  uint8\n",
      " 95  admission_source_id_30           101753 non-null  uint8\n",
      "dtypes: int64(36), uint8(60)\n",
      "memory usage: 34.5 MB\n"
     ]
    }
   ],
   "source": [
    "diabetes_df = dummy_df(diabetes_df, one_hot_features)\n",
    "diabetes_df.info()"
   ]
  },
  {
   "cell_type": "markdown",
   "id": "f27cfc82",
   "metadata": {},
   "source": [
    "#### Analiza jednowymiarowa"
   ]
  },
  {
   "cell_type": "code",
   "execution_count": 55,
   "id": "1efa7b66",
   "metadata": {
    "scrolled": true
   },
   "outputs": [
    {
     "data": {
      "image/png": "[encoded data removed]",
      "text/plain": [
       "<Figure size 1296x2160 with 24 Axes>"
      ]
     },
     "metadata": {
      "needs_background": "light"
     },
     "output_type": "display_data"
    }
   ],
   "source": [
    "fig, ax = plt.subplots(8,3, figsize = (18,30))\n",
    "for i in range(10, 33):\n",
    "    sns.countplot(data = diabetes_df, x = diabetes_df.columns[i],  ax = ax[(i-10)//3, (i-10)%3])\n",
    "    "
   ]
  },
  {
   "cell_type": "markdown",
   "id": "5e7b39b9",
   "metadata": {},
   "source": [
    "Zauważmy, że w niektórych kolumnach przeważa zdecydowanie jedna zmienna, zatem możemy je usunąć."
   ]
  },
  {
   "cell_type": "code",
   "execution_count": 56,
   "id": "2984931e",
   "metadata": {},
   "outputs": [],
   "source": [
    "diabetes_df = diabetes_df.drop(['repaglinide', 'nateglinide', 'chlorpropamide',\n",
    "        'acetohexamide', 'tolbutamide',\n",
    "        'acarbose', 'miglitol', 'troglitazone',\n",
    "       'tolazamide', 'examide', 'citoglipton', \n",
    "       'glyburide-metformin', 'glipizide-metformin',\n",
    "       'glimepiride-pioglitazone', 'metformin-rosiglitazone',\n",
    "       'metformin-pioglitazone'], axis = 1)"
   ]
  },
  {
   "cell_type": "markdown",
   "id": "4b62c525",
   "metadata": {},
   "source": [
    "### Od czego zależy readmitted?"
   ]
  },
  {
   "cell_type": "code",
   "execution_count": 57,
   "id": "e2399a2d",
   "metadata": {
    "scrolled": false
   },
   "outputs": [
    {
     "data": {
      "image/png": "[encoded data removed]",
      "text/plain": [
       "<Figure size 1296x1080 with 9 Axes>"
      ]
     },
     "metadata": {
      "needs_background": "light"
     },
     "output_type": "display_data"
    }
   ],
   "source": [
    "fig, ax = plt.subplots(3,3, figsize = (18,15))\n",
    "i_0=10\n",
    "for i in range(i_0, i_0+9):\n",
    "    sns.countplot(data = diabetes_df, x = diabetes_df.columns[i], hue = \"readmitted\", ax = ax[(i-i_0)//3, (i-i_0)%3])"
   ]
  },
  {
   "cell_type": "markdown",
   "id": "2f24bf20",
   "metadata": {},
   "source": [
    "Widać pewną zależność z np. z insulin."
   ]
  },
  {
   "cell_type": "markdown",
   "id": "8049a1cc",
   "metadata": {},
   "source": [
    "## Finalny zbiór danych"
   ]
  },
  {
   "cell_type": "code",
   "execution_count": 58,
   "id": "0b57f16b",
   "metadata": {},
   "outputs": [
    {
     "data": {
      "text/html": [
       "<div>\n",
       "<style scoped>\n",
       "    .dataframe tbody tr th:only-of-type {\n",
       "        vertical-align: middle;\n",
       "    }\n",
       "\n",
       "    .dataframe tbody tr th {\n",
       "        vertical-align: top;\n",
       "    }\n",
       "\n",
       "    .dataframe thead th {\n",
       "        text-align: right;\n",
       "    }\n",
       "</style>\n",
       "<table border=\"1\" class=\"dataframe\">\n",
       "  <thead>\n",
       "    <tr style=\"text-align: right;\">\n",
       "      <th></th>\n",
       "      <th>gender</th>\n",
       "      <th>age</th>\n",
       "      <th>time_in_hospital</th>\n",
       "      <th>num_lab_procedures</th>\n",
       "      <th>num_procedures</th>\n",
       "      <th>num_medications</th>\n",
       "      <th>number_outpatient</th>\n",
       "      <th>number_emergency</th>\n",
       "      <th>number_inpatient</th>\n",
       "      <th>number_diagnoses</th>\n",
       "      <th>...</th>\n",
       "      <th>discharge_disposition_id_23</th>\n",
       "      <th>discharge_disposition_id_30</th>\n",
       "      <th>admission_source_id_0</th>\n",
       "      <th>admission_source_id_1</th>\n",
       "      <th>admission_source_id_2</th>\n",
       "      <th>admission_source_id_4</th>\n",
       "      <th>admission_source_id_5</th>\n",
       "      <th>admission_source_id_6</th>\n",
       "      <th>admission_source_id_7</th>\n",
       "      <th>admission_source_id_30</th>\n",
       "    </tr>\n",
       "  </thead>\n",
       "  <tbody>\n",
       "    <tr>\n",
       "      <th>0</th>\n",
       "      <td>0</td>\n",
       "      <td>5</td>\n",
       "      <td>1</td>\n",
       "      <td>41</td>\n",
       "      <td>0</td>\n",
       "      <td>1</td>\n",
       "      <td>0</td>\n",
       "      <td>0</td>\n",
       "      <td>0</td>\n",
       "      <td>1</td>\n",
       "      <td>...</td>\n",
       "      <td>0</td>\n",
       "      <td>0</td>\n",
       "      <td>0</td>\n",
       "      <td>1</td>\n",
       "      <td>0</td>\n",
       "      <td>0</td>\n",
       "      <td>0</td>\n",
       "      <td>0</td>\n",
       "      <td>0</td>\n",
       "      <td>0</td>\n",
       "    </tr>\n",
       "    <tr>\n",
       "      <th>1</th>\n",
       "      <td>0</td>\n",
       "      <td>15</td>\n",
       "      <td>3</td>\n",
       "      <td>59</td>\n",
       "      <td>0</td>\n",
       "      <td>18</td>\n",
       "      <td>0</td>\n",
       "      <td>0</td>\n",
       "      <td>0</td>\n",
       "      <td>9</td>\n",
       "      <td>...</td>\n",
       "      <td>0</td>\n",
       "      <td>0</td>\n",
       "      <td>0</td>\n",
       "      <td>0</td>\n",
       "      <td>0</td>\n",
       "      <td>0</td>\n",
       "      <td>0</td>\n",
       "      <td>0</td>\n",
       "      <td>1</td>\n",
       "      <td>0</td>\n",
       "    </tr>\n",
       "    <tr>\n",
       "      <th>2</th>\n",
       "      <td>0</td>\n",
       "      <td>25</td>\n",
       "      <td>2</td>\n",
       "      <td>11</td>\n",
       "      <td>5</td>\n",
       "      <td>13</td>\n",
       "      <td>2</td>\n",
       "      <td>0</td>\n",
       "      <td>1</td>\n",
       "      <td>6</td>\n",
       "      <td>...</td>\n",
       "      <td>0</td>\n",
       "      <td>0</td>\n",
       "      <td>0</td>\n",
       "      <td>0</td>\n",
       "      <td>0</td>\n",
       "      <td>0</td>\n",
       "      <td>0</td>\n",
       "      <td>0</td>\n",
       "      <td>1</td>\n",
       "      <td>0</td>\n",
       "    </tr>\n",
       "    <tr>\n",
       "      <th>3</th>\n",
       "      <td>1</td>\n",
       "      <td>35</td>\n",
       "      <td>2</td>\n",
       "      <td>44</td>\n",
       "      <td>1</td>\n",
       "      <td>16</td>\n",
       "      <td>0</td>\n",
       "      <td>0</td>\n",
       "      <td>0</td>\n",
       "      <td>7</td>\n",
       "      <td>...</td>\n",
       "      <td>0</td>\n",
       "      <td>0</td>\n",
       "      <td>0</td>\n",
       "      <td>0</td>\n",
       "      <td>0</td>\n",
       "      <td>0</td>\n",
       "      <td>0</td>\n",
       "      <td>0</td>\n",
       "      <td>1</td>\n",
       "      <td>0</td>\n",
       "    </tr>\n",
       "    <tr>\n",
       "      <th>4</th>\n",
       "      <td>1</td>\n",
       "      <td>45</td>\n",
       "      <td>1</td>\n",
       "      <td>51</td>\n",
       "      <td>0</td>\n",
       "      <td>8</td>\n",
       "      <td>0</td>\n",
       "      <td>0</td>\n",
       "      <td>0</td>\n",
       "      <td>5</td>\n",
       "      <td>...</td>\n",
       "      <td>0</td>\n",
       "      <td>0</td>\n",
       "      <td>0</td>\n",
       "      <td>0</td>\n",
       "      <td>0</td>\n",
       "      <td>0</td>\n",
       "      <td>0</td>\n",
       "      <td>0</td>\n",
       "      <td>1</td>\n",
       "      <td>0</td>\n",
       "    </tr>\n",
       "    <tr>\n",
       "      <th>...</th>\n",
       "      <td>...</td>\n",
       "      <td>...</td>\n",
       "      <td>...</td>\n",
       "      <td>...</td>\n",
       "      <td>...</td>\n",
       "      <td>...</td>\n",
       "      <td>...</td>\n",
       "      <td>...</td>\n",
       "      <td>...</td>\n",
       "      <td>...</td>\n",
       "      <td>...</td>\n",
       "      <td>...</td>\n",
       "      <td>...</td>\n",
       "      <td>...</td>\n",
       "      <td>...</td>\n",
       "      <td>...</td>\n",
       "      <td>...</td>\n",
       "      <td>...</td>\n",
       "      <td>...</td>\n",
       "      <td>...</td>\n",
       "      <td>...</td>\n",
       "    </tr>\n",
       "    <tr>\n",
       "      <th>101761</th>\n",
       "      <td>1</td>\n",
       "      <td>75</td>\n",
       "      <td>3</td>\n",
       "      <td>51</td>\n",
       "      <td>0</td>\n",
       "      <td>16</td>\n",
       "      <td>0</td>\n",
       "      <td>0</td>\n",
       "      <td>0</td>\n",
       "      <td>9</td>\n",
       "      <td>...</td>\n",
       "      <td>0</td>\n",
       "      <td>0</td>\n",
       "      <td>0</td>\n",
       "      <td>0</td>\n",
       "      <td>0</td>\n",
       "      <td>0</td>\n",
       "      <td>0</td>\n",
       "      <td>0</td>\n",
       "      <td>1</td>\n",
       "      <td>0</td>\n",
       "    </tr>\n",
       "    <tr>\n",
       "      <th>101762</th>\n",
       "      <td>0</td>\n",
       "      <td>85</td>\n",
       "      <td>5</td>\n",
       "      <td>33</td>\n",
       "      <td>3</td>\n",
       "      <td>18</td>\n",
       "      <td>0</td>\n",
       "      <td>0</td>\n",
       "      <td>1</td>\n",
       "      <td>9</td>\n",
       "      <td>...</td>\n",
       "      <td>0</td>\n",
       "      <td>0</td>\n",
       "      <td>0</td>\n",
       "      <td>0</td>\n",
       "      <td>0</td>\n",
       "      <td>0</td>\n",
       "      <td>1</td>\n",
       "      <td>0</td>\n",
       "      <td>0</td>\n",
       "      <td>0</td>\n",
       "    </tr>\n",
       "    <tr>\n",
       "      <th>101763</th>\n",
       "      <td>1</td>\n",
       "      <td>75</td>\n",
       "      <td>1</td>\n",
       "      <td>53</td>\n",
       "      <td>0</td>\n",
       "      <td>9</td>\n",
       "      <td>1</td>\n",
       "      <td>0</td>\n",
       "      <td>0</td>\n",
       "      <td>13</td>\n",
       "      <td>...</td>\n",
       "      <td>0</td>\n",
       "      <td>0</td>\n",
       "      <td>0</td>\n",
       "      <td>0</td>\n",
       "      <td>0</td>\n",
       "      <td>0</td>\n",
       "      <td>0</td>\n",
       "      <td>0</td>\n",
       "      <td>1</td>\n",
       "      <td>0</td>\n",
       "    </tr>\n",
       "    <tr>\n",
       "      <th>101764</th>\n",
       "      <td>0</td>\n",
       "      <td>85</td>\n",
       "      <td>10</td>\n",
       "      <td>45</td>\n",
       "      <td>2</td>\n",
       "      <td>21</td>\n",
       "      <td>0</td>\n",
       "      <td>0</td>\n",
       "      <td>1</td>\n",
       "      <td>9</td>\n",
       "      <td>...</td>\n",
       "      <td>0</td>\n",
       "      <td>0</td>\n",
       "      <td>0</td>\n",
       "      <td>0</td>\n",
       "      <td>0</td>\n",
       "      <td>0</td>\n",
       "      <td>0</td>\n",
       "      <td>0</td>\n",
       "      <td>1</td>\n",
       "      <td>0</td>\n",
       "    </tr>\n",
       "    <tr>\n",
       "      <th>101765</th>\n",
       "      <td>1</td>\n",
       "      <td>75</td>\n",
       "      <td>6</td>\n",
       "      <td>13</td>\n",
       "      <td>3</td>\n",
       "      <td>3</td>\n",
       "      <td>0</td>\n",
       "      <td>0</td>\n",
       "      <td>0</td>\n",
       "      <td>9</td>\n",
       "      <td>...</td>\n",
       "      <td>0</td>\n",
       "      <td>0</td>\n",
       "      <td>0</td>\n",
       "      <td>0</td>\n",
       "      <td>0</td>\n",
       "      <td>0</td>\n",
       "      <td>0</td>\n",
       "      <td>0</td>\n",
       "      <td>1</td>\n",
       "      <td>0</td>\n",
       "    </tr>\n",
       "  </tbody>\n",
       "</table>\n",
       "<p>101753 rows × 80 columns</p>\n",
       "</div>"
      ],
      "text/plain": [
       "        gender  age  time_in_hospital  num_lab_procedures  num_procedures  \\\n",
       "0            0    5                 1                  41               0   \n",
       "1            0   15                 3                  59               0   \n",
       "2            0   25                 2                  11               5   \n",
       "3            1   35                 2                  44               1   \n",
       "4            1   45                 1                  51               0   \n",
       "...        ...  ...               ...                 ...             ...   \n",
       "101761       1   75                 3                  51               0   \n",
       "101762       0   85                 5                  33               3   \n",
       "101763       1   75                 1                  53               0   \n",
       "101764       0   85                10                  45               2   \n",
       "101765       1   75                 6                  13               3   \n",
       "\n",
       "        num_medications  number_outpatient  number_emergency  \\\n",
       "0                     1                  0                 0   \n",
       "1                    18                  0                 0   \n",
       "2                    13                  2                 0   \n",
       "3                    16                  0                 0   \n",
       "4                     8                  0                 0   \n",
       "...                 ...                ...               ...   \n",
       "101761               16                  0                 0   \n",
       "101762               18                  0                 0   \n",
       "101763                9                  1                 0   \n",
       "101764               21                  0                 0   \n",
       "101765                3                  0                 0   \n",
       "\n",
       "        number_inpatient  number_diagnoses  ...  discharge_disposition_id_23  \\\n",
       "0                      0                 1  ...                            0   \n",
       "1                      0                 9  ...                            0   \n",
       "2                      1                 6  ...                            0   \n",
       "3                      0                 7  ...                            0   \n",
       "4                      0                 5  ...                            0   \n",
       "...                  ...               ...  ...                          ...   \n",
       "101761                 0                 9  ...                            0   \n",
       "101762                 1                 9  ...                            0   \n",
       "101763                 0                13  ...                            0   \n",
       "101764                 1                 9  ...                            0   \n",
       "101765                 0                 9  ...                            0   \n",
       "\n",
       "        discharge_disposition_id_30  admission_source_id_0  \\\n",
       "0                                 0                      0   \n",
       "1                                 0                      0   \n",
       "2                                 0                      0   \n",
       "3                                 0                      0   \n",
       "4                                 0                      0   \n",
       "...                             ...                    ...   \n",
       "101761                            0                      0   \n",
       "101762                            0                      0   \n",
       "101763                            0                      0   \n",
       "101764                            0                      0   \n",
       "101765                            0                      0   \n",
       "\n",
       "        admission_source_id_1  admission_source_id_2  admission_source_id_4  \\\n",
       "0                           1                      0                      0   \n",
       "1                           0                      0                      0   \n",
       "2                           0                      0                      0   \n",
       "3                           0                      0                      0   \n",
       "4                           0                      0                      0   \n",
       "...                       ...                    ...                    ...   \n",
       "101761                      0                      0                      0   \n",
       "101762                      0                      0                      0   \n",
       "101763                      0                      0                      0   \n",
       "101764                      0                      0                      0   \n",
       "101765                      0                      0                      0   \n",
       "\n",
       "        admission_source_id_5  admission_source_id_6  admission_source_id_7  \\\n",
       "0                           0                      0                      0   \n",
       "1                           0                      0                      1   \n",
       "2                           0                      0                      1   \n",
       "3                           0                      0                      1   \n",
       "4                           0                      0                      1   \n",
       "...                       ...                    ...                    ...   \n",
       "101761                      0                      0                      1   \n",
       "101762                      1                      0                      0   \n",
       "101763                      0                      0                      1   \n",
       "101764                      0                      0                      1   \n",
       "101765                      0                      0                      1   \n",
       "\n",
       "        admission_source_id_30  \n",
       "0                            0  \n",
       "1                            0  \n",
       "2                            0  \n",
       "3                            0  \n",
       "4                            0  \n",
       "...                        ...  \n",
       "101761                       0  \n",
       "101762                       0  \n",
       "101763                       0  \n",
       "101764                       0  \n",
       "101765                       0  \n",
       "\n",
       "[101753 rows x 80 columns]"
      ]
     },
     "execution_count": 58,
     "metadata": {},
     "output_type": "execute_result"
    }
   ],
   "source": [
    "diabetes_df"
   ]
  }
 ],
 "metadata": {
  "kernelspec": {
   "display_name": "Python 3",
   "language": "python",
   "name": "python3"
  },
  "language_info": {
   "codemirror_mode": {
    "name": "ipython",
    "version": 3
   },
   "file_extension": ".py",
   "mimetype": "text/x-python",
   "name": "python",
   "nbconvert_exporter": "python",
   "pygments_lexer": "ipython3",
   "version": "3.8.8"
  }
 },
 "nbformat": 4,
 "nbformat_minor": 5
}
